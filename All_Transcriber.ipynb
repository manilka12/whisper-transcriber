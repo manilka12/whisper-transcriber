{
  "cells": [
    {
      "cell_type": "markdown",
      "metadata": {
        "id": "view-in-github",
        "colab_type": "text"
      },
      "source": [
        "<a href=\"https://colab.research.google.com/github/manilka12/whisper-transcriber/blob/main/All_Transcriber.ipynb\" target=\"_parent\"><img src=\"https://colab.research.google.com/assets/colab-badge.svg\" alt=\"Open In Colab\"/></a>"
      ]
    },
    {
      "cell_type": "markdown",
      "metadata": {
        "id": "96kvih9mXkNN"
      },
      "source": [
        "\n",
        "## **How to use**\n",
        "1. Read and understand the notebook. You should at the very least modify the **video selection section** to choose the video you wish to translate/transcribe\n",
        "2. Click Runtime -> Run all and wait for the notebook to do its magic, alternatively you may run the cells one by one and skip the Google Drive portion if you do not intend to use it\n",
        "3. A download prompt should appear once subtitles is ready, or check the 'Files' tab on the left for the output\n"
      ]
    },
    {
      "cell_type": "code",
      "execution_count": null,
      "metadata": {
        "cellView": "form",
        "id": "1zwGAsr4sIgd",
        "colab": {
          "base_uri": "https://localhost:8080/"
        },
        "outputId": "94521c2f-d5da-4a63-b249-35290feb4fd6"
      },
      "outputs": [
        {
          "output_type": "stream",
          "name": "stdout",
          "text": [
            "Drive already mounted at /content/drive; to attempt to forcibly remount, call drive.mount(\"/content/drive\", force_remount=True).\n"
          ]
        }
      ],
      "source": [
        "# @markdown # **[Optional]** Access data in Google Drive 💾\n",
        "# @markdown Enter a Google Drive path and run this cell to store the results inside Google Drive.\n",
        "\n",
        "# Uncomment to copy generated images to drive, faster than downloading directly from colab in my experience.\n",
        "from google.colab import drive\n",
        "from pathlib import Path\n",
        "\n",
        "drive_mount_path = Path(\"/\") / \"content\" / \"drive\"\n",
        "drive.mount(str(drive_mount_path))\n",
        "drive_mount_path /= \"My Drive\"\n",
        "#@markdown ---\n",
        "drive_path = \"Colab Notebooks/Faster Whisper\" #@param {type:\"string\"}\n",
        "#@markdown ---\n",
        "#@markdown **Run this cell again if you change your Google Drive path.**\n",
        "\n",
        "drive_whisper_path = drive_mount_path / Path(drive_path.lstrip(\"/\"))\n",
        "drive_whisper_path.mkdir(parents=True, exist_ok=True)"
      ]
    },
    {
      "cell_type": "code",
      "source": [
        "# Whisper Audio Transcription Tool\n",
        "# Author: Your Name\n",
        "# GitHub: https://github.com/yourusername/whisper-transcription-tool\n",
        "\n",
        "#@title # 🎙️ Whisper Audio Transcription Tool\n",
        "#@markdown This notebook helps you transcribe audio from various sources using OpenAI's Whisper model (via faster-whisper).\n",
        "\n",
        "#@markdown ---\n",
        "#@markdown ## 📦 Setup Dependencies\n",
        "#@markdown Run this cell to install required packages\n",
        "\n",
        "# Install dependencies with progress indicators\n",
        "import sys\n",
        "from IPython.display import HTML, display, clear_output\n",
        "\n",
        "def install_with_progress(package):\n",
        "    \"\"\"Install package with progress indicator\"\"\"\n",
        "    display(HTML(f\"<p>Installing {package}...</p>\"))\n",
        "    !pip install -q {package}\n",
        "    clear_output(wait=True)\n",
        "    display(HTML(f\"<p>✅ {package} installed</p>\"))\n",
        "\n",
        "# Install required packages\n",
        "install_with_progress(\"faster-whisper\")\n",
        "install_with_progress(\"yt-dlp\")\n",
        "install_with_progress(\"tqdm\")\n",
        "\n",
        "# Import required libraries\n",
        "import os\n",
        "import sys\n",
        "import warnings\n",
        "import torch\n",
        "import numpy as np\n",
        "import zipfile\n",
        "import shutil\n",
        "import logging\n",
        "import subprocess\n",
        "import tempfile\n",
        "from pathlib import Path\n",
        "from datetime import datetime\n",
        "from tqdm.notebook import tqdm\n",
        "from IPython.display import display, Markdown, YouTubeVideo, HTML\n",
        "from google.colab import files\n",
        "import requests\n",
        "from urllib.parse import urlsplit\n",
        "\n",
        "# Setup basic logging\n",
        "logging.basicConfig(level=logging.INFO,\n",
        "                    format='%(asctime)s - %(levelname)s - %(message)s',\n",
        "                    datefmt='%H:%M:%S')\n",
        "logger = logging.getLogger(\"WhisperTranscriber\")\n",
        "\n",
        "# Check for CUDA availability and setup device\n",
        "device = \"cuda\" if torch.cuda.is_available() else \"cpu\"\n",
        "logger.info(f\"Using device: {device}\")\n",
        "if device == \"cuda\":\n",
        "    !sudo apt-get update -qq > /dev/null\n",
        "    !sudo apt install -qq nvidia-cuda-toolkit > /dev/null\n",
        "    logger.info(f\"CUDA installed. GPU: {torch.cuda.get_device_name(0)}\")\n",
        "\n",
        "#@title # 🧠 Model Selection\n",
        "#@markdown Select the Whisper model variant to use for transcription\n",
        "\n",
        "#@markdown ---\n",
        "model_size = 'large-v3' #@param ['tiny', 'tiny.en', 'base', 'base.en', 'small', 'small.en', 'medium', 'medium.en', 'large-v1', 'large-v2', 'large-v3']\n",
        "compute_type = \"float16\" #@param {type:\"string\"} ['float16', 'int8_float16', 'int8']\n",
        "#@markdown ---\n",
        "#@markdown **Memory usage**: Larger models provide better accuracy but require more GPU memory\n",
        "#@markdown **Run this cell again if you change the model.**\n",
        "\n",
        "try:\n",
        "    from faster_whisper import WhisperModel\n",
        "    model = WhisperModel(model_size, device=device, compute_type=compute_type)\n",
        "    logger.info(f\"✅ Model '{model_size}' loaded successfully\")\n",
        "except Exception as e:\n",
        "    logger.error(f\"❌ Failed to load model: {str(e)}\")\n",
        "    raise\n",
        "\n",
        "#@title # 📺 Media Source Selection\n",
        "#@markdown Choose the source of your video/audio file for transcription\n",
        "\n",
        "#@markdown ---\n",
        "# Pre-check if there are media files already in the working directory\n",
        "def check_for_media_files():\n",
        "    \"\"\"Check if media files already exist in the workspace\"\"\"\n",
        "    content_dir = Path(\"/content\")\n",
        "    audio_extensions = [\".wav\", \".mp3\", \".ogg\", \".opus\", \".aac\", \".flac\", \".m4a\"]\n",
        "    video_extensions = [\".mp4\", \".mkv\", \".mov\", \".avi\", \".wmv\", \".flv\", \".webm\", \".3gp\", \".mpeg\"]\n",
        "    supported_extensions = audio_extensions + video_extensions\n",
        "\n",
        "    media_files = []\n",
        "    for file_path in content_dir.iterdir():\n",
        "        if file_path.is_file() and file_path.suffix.lower() in supported_extensions:\n",
        "            media_files.append(file_path)\n",
        "\n",
        "    return media_files\n",
        "\n",
        "existing_media = check_for_media_files()\n",
        "if existing_media:\n",
        "    existing_files_str = \"\\n\".join([f\"- {file.name}\" for file in existing_media])\n",
        "    display(Markdown(f\"📁 **Media files already found in workspace:**\\n{existing_files_str}\"))\n",
        "\n",
        "source_type = \"Auto-detect\" #@param ['Auto-detect', 'YouTube','Google Drive','Direct Download URL', 'Manual Upload']\n",
        "#@markdown **Auto-detect** will use any media files already in the workspace.\n",
        "#@markdown If none found, it will prompt for upload.\n",
        "#@markdown ---\n",
        "\n",
        "#@markdown ### 🎬 YouTube Options\n",
        "youtube_url = \"\" #@param {type:\"string\"}\n",
        "download_audio_only = True #@param {type:\"boolean\"}\n",
        "#@markdown ---\n",
        "\n",
        "#@markdown ### 📁 Google Drive Options\n",
        "drive_path = \"my_video.mp4\" #@param {type:\"string\"}\n",
        "#@markdown If using a folder, all media files will be processed\n",
        "#@markdown ---\n",
        "\n",
        "#@markdown ### 🌐 Direct Download Options\n",
        "download_url = \"\" #@param {type:\"string\"}\n",
        "#@markdown ---\n",
        "\n",
        "#@markdown ### 🚨 No media files detected?\n",
        "#@markdown If needed, upload files in the **Manual Upload** option or choose another source.\n",
        "\n",
        "class MediaProcessor:\n",
        "    \"\"\"Class to handle different media sources and processing\"\"\"\n",
        "\n",
        "    def __init__(self):\n",
        "        self.media_files = []\n",
        "        self.audio_extensions = [\".wav\", \".mp3\", \".ogg\", \".opus\", \".aac\", \".flac\", \".m4a\"]\n",
        "        self.video_extensions = [\".mp4\", \".mkv\", \".mov\", \".avi\", \".wmv\", \".flv\", \".webm\", \".3gp\", \".mpeg\"]\n",
        "        self.supported_extensions = self.audio_extensions + self.video_extensions\n",
        "\n",
        "        # Create output directory\n",
        "        self.output_dir = Path(\"transcribed_texts\")\n",
        "        self.output_dir.mkdir(exist_ok=True)\n",
        "\n",
        "        # Create temp directory for processing\n",
        "        self.temp_dir = Path(tempfile.mkdtemp())\n",
        "\n",
        "    def process_youtube(self, url, audio_only=True):\n",
        "        \"\"\"Download audio from YouTube URL\"\"\"\n",
        "        try:\n",
        "            display(Markdown(f\"⬇️ Downloading from YouTube: `{url}`\"))\n",
        "\n",
        "            import yt_dlp\n",
        "            ydl_opts = {\n",
        "                'format': 'm4a/bestaudio/best' if audio_only else 'bestvideo+bestaudio',\n",
        "                'outtmpl': f'{self.temp_dir}/%(id)s.%(ext)s',\n",
        "                'quiet': True,\n",
        "                'no_warnings': True,\n",
        "                'postprocessors': [{\n",
        "                    'key': 'FFmpegExtractAudio',\n",
        "                    'preferredcodec': 'wav',\n",
        "                    'preferredquality': '192',\n",
        "                }] if audio_only else []\n",
        "            }\n",
        "\n",
        "            with yt_dlp.YoutubeDL(ydl_opts) as ydl:\n",
        "                info = ydl.extract_info(url, download=True)\n",
        "                if 'entries' in info:  # Playlist\n",
        "                    for entry in info['entries']:\n",
        "                        file_path = Path(f\"{self.temp_dir}/{entry['id']}.wav\" if audio_only else f\"{self.temp_dir}/{entry['id']}.{entry['ext']}\")\n",
        "                        self.media_files.append(file_path)\n",
        "                        display(Markdown(f\"✅ Downloaded: **{entry['title']}**\"))\n",
        "                else:  # Single video\n",
        "                    file_path = Path(f\"{self.temp_dir}/{info['id']}.wav\" if audio_only else f\"{self.temp_dir}/{info['id']}.{info['ext']}\")\n",
        "                    self.media_files.append(file_path)\n",
        "                    display(Markdown(f\"✅ Downloaded: **{info['title']}**\"))\n",
        "\n",
        "        except Exception as e:\n",
        "            logger.error(f\"❌ YouTube download failed: {str(e)}\")\n",
        "            raise\n",
        "\n",
        "    def process_drive(self, path, drive_already_mounted=True):\n",
        "        \"\"\"Process files from Google Drive\"\"\"\n",
        "        if not drive_already_mounted:\n",
        "            from google.colab import drive\n",
        "            drive.mount('/content/drive')\n",
        "\n",
        "        drive_path = Path('/content/drive/MyDrive') / Path(path.lstrip(\"/\"))\n",
        "\n",
        "        if not drive_path.exists():\n",
        "            logger.error(f\"❌ Path does not exist: {drive_path}\")\n",
        "            return\n",
        "\n",
        "        if drive_path.is_dir():\n",
        "            display(Markdown(f\"📁 Processing directory: `{drive_path}`\"))\n",
        "            for file_path in drive_path.glob(\"**/*\"):\n",
        "                if file_path.is_file() and file_path.suffix.lower() in self.supported_extensions:\n",
        "                    local_path = self.temp_dir / file_path.name\n",
        "                    shutil.copy(file_path, local_path)\n",
        "                    self.media_files.append(local_path)\n",
        "                    display(Markdown(f\"✅ Added: **{file_path.name}**\"))\n",
        "        else:\n",
        "            if drive_path.suffix.lower() in self.supported_extensions:\n",
        "                local_path = self.temp_dir / drive_path.name\n",
        "                shutil.copy(drive_path, local_path)\n",
        "                self.media_files.append(local_path)\n",
        "                display(Markdown(f\"✅ Added: **{drive_path.name}**\"))\n",
        "            else:\n",
        "                logger.error(f\"❌ Unsupported file type: {drive_path}\")\n",
        "\n",
        "    def process_direct_download(self, url):\n",
        "        \"\"\"Download media from direct URL\"\"\"\n",
        "        try:\n",
        "            display(Markdown(f\"⬇️ Downloading from URL: `{url}`\"))\n",
        "            response = requests.get(url, stream=True)\n",
        "\n",
        "            if response.status_code != 200:\n",
        "                logger.error(f\"❌ Download failed with status code: {response.status_code}\")\n",
        "                return\n",
        "\n",
        "            filename = urlsplit(url).path.split(\"/\")[-1]\n",
        "            if not any(filename.lower().endswith(ext) for ext in self.supported_extensions):\n",
        "                logger.warning(f\"⚠️ File may not be a supported media type: {filename}\")\n",
        "\n",
        "            file_path = self.temp_dir / filename\n",
        "\n",
        "            # Download with progress bar\n",
        "            total_size = int(response.headers.get('content-length', 0))\n",
        "            block_size = 1024  # 1 Kibibyte\n",
        "\n",
        "            t = tqdm(total=total_size, unit='iB', unit_scale=True)\n",
        "            with open(file_path, 'wb') as f:\n",
        "                for data in response.iter_content(block_size):\n",
        "                    t.update(len(data))\n",
        "                    f.write(data)\n",
        "            t.close()\n",
        "\n",
        "            self.media_files.append(file_path)\n",
        "            display(Markdown(f\"✅ Downloaded: **{filename}**\"))\n",
        "\n",
        "        except Exception as e:\n",
        "            logger.error(f\"❌ Direct download failed: {str(e)}\")\n",
        "\n",
        "    def process_manual_upload(self):\n",
        "        \"\"\"Process manually uploaded files\"\"\"\n",
        "        try:\n",
        "            display(Markdown(f\"📤 Upload files using the button below:\"))\n",
        "\n",
        "            # Ask user to upload files\n",
        "            uploaded = files.upload()\n",
        "\n",
        "            for filename, content in uploaded.items():\n",
        "                if any(filename.lower().endswith(ext) for ext in self.supported_extensions):\n",
        "                    file_path = self.temp_dir / filename\n",
        "                    with open(file_path, 'wb') as f:\n",
        "                        f.write(content)\n",
        "                    self.media_files.append(file_path)\n",
        "                    display(Markdown(f\"✅ Uploaded: **{filename}**\"))\n",
        "                else:\n",
        "                    logger.warning(f\"⚠️ Skipping unsupported file: {filename}\")\n",
        "        except Exception as e:\n",
        "            logger.error(f\"❌ Manual upload processing failed: {str(e)}\")\n",
        "\n",
        "    def use_existing_files(self, file_list):\n",
        "        \"\"\"Use files that already exist in the workspace\"\"\"\n",
        "        try:\n",
        "            for file_path in file_list:\n",
        "                target_path = self.temp_dir / file_path.name\n",
        "                shutil.copy(file_path, target_path)\n",
        "                self.media_files.append(target_path)\n",
        "                display(Markdown(f\"✅ Using existing file: **{file_path.name}**\"))\n",
        "        except Exception as e:\n",
        "            logger.error(f\"❌ Error processing existing files: {str(e)}\")\n",
        "\n",
        "    def convert_to_audio(self):\n",
        "        \"\"\"Convert video files to audio for processing\"\"\"\n",
        "        for i, file_path in enumerate(self.media_files[:]):\n",
        "            if file_path.suffix.lower() in self.video_extensions:\n",
        "                display(Markdown(f\"🔄 Converting video to audio: **{file_path.name}**\"))\n",
        "\n",
        "                # Define output audio path\n",
        "                audio_path = file_path.with_suffix(\".wav\")\n",
        "\n",
        "                # Convert video to audio using ffmpeg\n",
        "                try:\n",
        "                    result = subprocess.run(\n",
        "                        [\"ffmpeg\", \"-i\", str(file_path), \"-vn\", \"-acodec\", \"pcm_s16le\",\n",
        "                         \"-ar\", \"16000\", \"-ac\", \"1\", str(audio_path), \"-y\", \"-loglevel\", \"error\"],\n",
        "                        stdout=subprocess.PIPE,\n",
        "                        stderr=subprocess.PIPE,\n",
        "                        check=True\n",
        "                    )\n",
        "\n",
        "                    # Replace video with audio in the list\n",
        "                    self.media_files[i] = audio_path\n",
        "                    display(Markdown(f\"✅ Converted to audio: **{audio_path.name}**\"))\n",
        "\n",
        "                    # Optionally remove the original video file to save space\n",
        "                    os.remove(file_path)\n",
        "\n",
        "                except subprocess.CalledProcessError as e:\n",
        "                    logger.error(f\"❌ FFmpeg conversion failed: {e.stderr.decode('utf-8')}\")\n",
        "                    # Keep the original file in the list\n",
        "\n",
        "    def cleanup(self):\n",
        "        \"\"\"Clean up temporary files\"\"\"\n",
        "        try:\n",
        "            shutil.rmtree(self.temp_dir)\n",
        "            logger.info(\"🧹 Temporary files cleaned up\")\n",
        "        except Exception as e:\n",
        "            logger.error(f\"❌ Cleanup failed: {str(e)}\")\n",
        "\n",
        "# Process media based on selected source\n",
        "processor = MediaProcessor()\n",
        "\n",
        "try:\n",
        "    if source_type == \"Auto-detect\":\n",
        "        existing_media = check_for_media_files()\n",
        "        if existing_media:\n",
        "            processor.use_existing_files(existing_media)\n",
        "        else:\n",
        "            display(Markdown(\"⚠️ **No media files found in workspace. Please upload:**\"))\n",
        "            processor.process_manual_upload()\n",
        "\n",
        "    elif source_type == \"YouTube\":\n",
        "        if not youtube_url:\n",
        "            display(Markdown(\"⚠️ **Please provide a YouTube URL**\"))\n",
        "        else:\n",
        "            processor.process_youtube(youtube_url, download_audio_only)\n",
        "\n",
        "    elif source_type == \"Google Drive\":\n",
        "        if not drive_path:\n",
        "            display(Markdown(\"⚠️ **Please provide a Google Drive path**\"))\n",
        "        else:\n",
        "            processor.process_drive(drive_path)\n",
        "\n",
        "    elif source_type == \"Direct Download URL\":\n",
        "        if not download_url:\n",
        "            display(Markdown(\"⚠️ **Please provide a download URL**\"))\n",
        "        else:\n",
        "            processor.process_direct_download(download_url)\n",
        "\n",
        "    elif source_type == \"Manual Upload\":\n",
        "        processor.process_manual_upload()\n",
        "\n",
        "    # Convert videos to audio for processing\n",
        "    processor.convert_to_audio()\n",
        "\n",
        "    # Summary of files to be processed\n",
        "    if processor.media_files:\n",
        "        display(Markdown(f\"## 📋 Files to be processed ({len(processor.media_files)}):\"))\n",
        "        for file in processor.media_files:\n",
        "            display(Markdown(f\"- **{file.name}**\"))\n",
        "    else:\n",
        "        display(Markdown(\"⚠️ **No media files found to process**\"))\n",
        "\n",
        "except Exception as e:\n",
        "    display(Markdown(f\"❌ **Error:** {str(e)}\"))\n",
        "\n",
        "#@title # 🚀 Transcription Settings\n",
        "#@markdown Configure the transcription process\n",
        "\n",
        "#@markdown ---\n",
        "#@markdown ## 🌍 Language Settings\n",
        "language = \"en\" #@param [\"auto\", \"en\", \"zh\", \"de\", \"es\", \"ru\", \"ko\", \"fr\", \"ja\", \"pt\", \"tr\", \"pl\", \"ca\", \"nl\", \"ar\", \"sv\", \"it\", \"id\", \"hi\", \"fi\", \"vi\", \"he\", \"uk\", \"el\", \"ms\", \"cs\", \"ro\", \"da\", \"hu\", \"ta\", \"no\", \"th\", \"ur\", \"hr\", \"bg\", \"lt\", \"la\", \"mi\", \"ml\", \"cy\", \"sk\", \"te\", \"fa\", \"lv\", \"bn\", \"sr\", \"az\", \"sl\", \"kn\", \"et\", \"mk\", \"br\", \"eu\", \"is\", \"hy\", \"ne\", \"mn\", \"bs\", \"kk\", \"sq\", \"sw\", \"gl\", \"mr\", \"pa\", \"si\", \"km\", \"sn\", \"yo\", \"so\", \"af\", \"oc\", \"ka\", \"be\", \"tg\", \"sd\", \"gu\", \"am\", \"yi\", \"lo\", \"uz\", \"fo\", \"ht\", \"ps\", \"tk\", \"nn\", \"mt\", \"sa\", \"lb\", \"my\", \"bo\", \"tl\", \"mg\", \"as\", \"tt\", \"haw\", \"ln\", \"ha\", \"ba\", \"jw\", \"su\"] {allow-input: true}\n",
        "#@markdown Choose language or set to \"auto\" for automatic detection\n",
        "\n",
        "initial_prompt = \"\" #@param {type:\"string\"}\n",
        "#@markdown Optional: Guide the model with an initial prompt (e.g., \"This is a medical lecture about cardiology.\")\n",
        "\n",
        "#@markdown ---\n",
        "#@markdown ## ⚙️ Advanced Settings\n",
        "beam_size = 10 #@param {type:\"slider\", min:1, max:10, step:1}\n",
        "#@markdown Higher values = better quality but slower processing\n",
        "\n",
        "word_level_timestamps = False #@param {type:\"boolean\"}\n",
        "#@markdown Generate timestamps for each word instead of sentences\n",
        "\n",
        "vad_filter = True #@param {type:\"boolean\"}\n",
        "#@markdown Voice Activity Detection: filter out non-speech parts\n",
        "\n",
        "vad_filter_min_silence_ms = 50 #@param {type:\"integer\"}\n",
        "#@markdown Minimum silence duration in milliseconds for VAD filtering\n",
        "\n",
        "#@markdown ---\n",
        "#@markdown ## 📄 Output Settings\n",
        "output_format = \"Text (.txt)\" #@param [\"Text (.txt)\", \"Subtitles (.srt)\", \"Both\"]\n",
        "#@markdown Choose output format for transcriptions\n",
        "\n",
        "include_timestamps = False #@param {type:\"boolean\"}\n",
        "#@markdown Include timestamps in text output\n",
        "\n",
        "include_confidence = False #@param {type:\"boolean\"}\n",
        "#@markdown Include model confidence scores in the output\n",
        "\n",
        "show_live_transcription = True #@param {type:\"boolean\"}\n",
        "#@markdown Show transcription in real-time as it happens\n",
        "\n",
        "live_display_lines = 5 #@param {type:\"slider\", min:1, max:10, step:1}\n",
        "#@markdown Number of lines to show in live transcription window\n",
        "\n",
        "def seconds_to_timecode(seconds, format=\"srt\"):\n",
        "    \"\"\"Convert seconds to formatted timecode\"\"\"\n",
        "    hours = int(seconds // 3600)\n",
        "    seconds %= 3600\n",
        "    minutes = int(seconds // 60)\n",
        "    seconds %= 60\n",
        "    milliseconds = int((seconds % 1) * 1000)\n",
        "    seconds = int(seconds)\n",
        "\n",
        "    if format == \"srt\":\n",
        "        return f\"{hours:02d}:{minutes:02d}:{seconds:02d},{milliseconds:03d}\"\n",
        "    elif format == \"vtt\":\n",
        "        return f\"{hours:02d}:{minutes:02d}:{seconds:02d}.{milliseconds:03d}\"\n",
        "    else:\n",
        "        return f\"{hours:02d}:{minutes:02d}:{seconds:02d}\"\n",
        "\n",
        "#@title # 🎬 Run Transcription\n",
        "#@markdown Start the transcription process for all processed files\n",
        "\n",
        "# Create a live transcription display area\n",
        "if show_live_transcription:\n",
        "    live_display = HTML(\n",
        "        f\"\"\"\n",
        "        <div style=\"border:1px solid #ddd; padding:10px; height:{24*live_display_lines}px; overflow-y:auto; margin-bottom:5px; background-color:#2d2d2d; font-family:monospace; white-space:pre-wrap; color:#ffffff;\">\n",
        "        <div id=\"live-transcription\"></div>\n",
        "        </div>\n",
        "        \"\"\"\n",
        "    )\n",
        "    display(live_display)\n",
        "\n",
        "# Check if we have media files to process\n",
        "if not processor.media_files:\n",
        "    display(Markdown(\"⚠️ **No media files found to process. Please run the Media Source Selection cell first.**\"))\n",
        "else:\n",
        "    # Create timestamp for this batch\n",
        "    timestamp = datetime.now().strftime(\"%Y%m%d_%H%M%S\")\n",
        "    batch_dir = processor.output_dir / f\"batch_{timestamp}\"\n",
        "    batch_dir.mkdir(exist_ok=True)\n",
        "\n",
        "    # Process each file\n",
        "    for file_idx, audio_path in enumerate(processor.media_files):\n",
        "        display(Markdown(f\"## 🔄 Processing file {file_idx+1}/{len(processor.media_files)}: **{audio_path.name}**\"))\n",
        "\n",
        "        try:\n",
        "            # Set up progress display\n",
        "            progress_html = HTML(\n",
        "                \"\"\"\n",
        "                <div style=\"width:100%; background-color:#f0f0f0; border-radius:5px;\">\n",
        "                    <div id=\"transcription-progress\" style=\"background-color:#4CAF50; width:0%; height:20px; border-radius:5px;\"></div>\n",
        "                </div>\n",
        "                <p id=\"transcription-status\">Starting transcription...</p>\n",
        "                \"\"\"\n",
        "            )\n",
        "            display(progress_html)\n",
        "\n",
        "            def update_progress(progress, message):\n",
        "                display(HTML(\n",
        "                    f\"\"\"\n",
        "                    <script>\n",
        "                        document.getElementById('transcription-progress').style.width = '{progress}%';\n",
        "                        document.getElementById('transcription-status').textContent = '{message}';\n",
        "                    </script>\n",
        "                    \"\"\"\n",
        "                ))\n",
        "\n",
        "            def update_live_transcription(text):\n",
        "                if show_live_transcription:\n",
        "                    display(HTML(\n",
        "                        f\"\"\"\n",
        "                        <script>\n",
        "                            var liveDiv = document.getElementById('live-transcription');\n",
        "                            liveDiv.innerHTML = \"{text}\";\n",
        "                            liveDiv.parentElement.scrollTop = liveDiv.parentElement.scrollHeight;\n",
        "                            liveDiv.style.color = \"#ffffff\"; // Ensure text remains white\n",
        "                        </script>\n",
        "                        \"\"\"\n",
        "                    ))\n",
        "\n",
        "            # Start transcription\n",
        "            update_progress(10, \"Loading model and analyzing audio...\")\n",
        "\n",
        "            # Recent segments for live display\n",
        "            class TranscriptionState:\n",
        "                def __init__(self):\n",
        "                    self.recent_segments = []\n",
        "\n",
        "            # Create an instance of the state holder\n",
        "            state = TranscriptionState()\n",
        "\n",
        "            # Callback for live transcription\n",
        "            def process_segment(segment):\n",
        "                # Add the new segment\n",
        "                state.recent_segments.append(segment.text.strip())\n",
        "                # Keep only the most recent lines\n",
        "                if len(state.recent_segments) > live_display_lines:\n",
        "                    state.recent_segments = state.recent_segments[-live_display_lines:]\n",
        "                # Update the display\n",
        "                display_text = \"\\n\".join(state.recent_segments)\n",
        "                display_text = display_text.replace('\"', '\\\\\"').replace('\\n', '\\\\n')\n",
        "                update_live_transcription(display_text)\n",
        "\n",
        "            # Run transcription\n",
        "            segments, info = model.transcribe(\n",
        "                str(audio_path),\n",
        "                beam_size=beam_size,\n",
        "                language=None if language == \"auto\" else language,\n",
        "                initial_prompt=initial_prompt if initial_prompt else None,\n",
        "                word_timestamps=word_level_timestamps,\n",
        "                vad_filter=vad_filter,\n",
        "                vad_parameters=dict(min_silence_duration_ms=vad_filter_min_silence_ms)\n",
        "            )\n",
        "\n",
        "            # Convert generator to list so we can iterate multiple times if needed\n",
        "            segment_list = []\n",
        "            for segment in segments:\n",
        "                segment_list.append(segment)\n",
        "                if show_live_transcription:\n",
        "                    process_segment(segment)\n",
        "                update_progress(50 + int(len(segment_list) % 10), \"Transcription in progress...\")\n",
        "\n",
        "            update_progress(90, \"Finalizing transcription...\")\n",
        "\n",
        "            # Determine output formats\n",
        "            formats = []\n",
        "            if output_format == \"Text (.txt)\" or output_format == \"Both\":\n",
        "                formats.append(\"txt\")\n",
        "            if output_format == \"Subtitles (.srt)\" or output_format == \"Both\":\n",
        "                formats.append(\"srt\")\n",
        "\n",
        "            # Display detected language info\n",
        "            display(Markdown(f\"🌍 Detected language: **{info.language}** (probability: {info.language_probability:.2f})\"))\n",
        "\n",
        "            # Process the transcription for each output format\n",
        "            for format in formats:\n",
        "                output_file_name = f\"{audio_path.stem}.{format}\"\n",
        "                output_file_path = batch_dir / output_file_name\n",
        "\n",
        "                update_progress(95, f\"Writing {format.upper()} output...\")\n",
        "\n",
        "                with open(output_file_path, 'w', encoding='utf-8') as f:\n",
        "                    if format == \"txt\":\n",
        "                        # For TXT: Write continuous text without timestamps by default\n",
        "                        if word_level_timestamps:\n",
        "                            for segment in segment_list:\n",
        "                                for i, word in enumerate(segment.words):\n",
        "                                    text = word.word\n",
        "\n",
        "                                    if include_timestamps:\n",
        "                                        f.write(f\"[{seconds_to_timecode(word.start, 'txt')}] \")\n",
        "\n",
        "                                    if include_confidence:\n",
        "                                        text += f\" ({word.probability:.2f})\"\n",
        "\n",
        "                                    f.write(f\"{text}\")\n",
        "                                    if i < len(segment.words) - 1:\n",
        "                                        f.write(\" \")\n",
        "                                f.write(\"\\n\")\n",
        "                        else:\n",
        "                            for segment in segment_list:\n",
        "                                text = segment.text.strip()\n",
        "\n",
        "                                if include_timestamps:\n",
        "                                    f.write(f\"[{seconds_to_timecode(segment.start, 'txt')}-{seconds_to_timecode(segment.end, 'txt')}] \")\n",
        "\n",
        "                                if include_confidence:\n",
        "                                    text += f\" ({segment.avg_logprob:.2f})\"\n",
        "\n",
        "                                f.write(f\"{text}\\n\")\n",
        "\n",
        "                    elif format == \"srt\":\n",
        "                        # For SRT: Write subtitle format\n",
        "                        index = 1\n",
        "                        if word_level_timestamps:\n",
        "                            for segment in segment_list:\n",
        "                                for word in segment.words:\n",
        "                                    f.write(f\"{index}\\n\")\n",
        "                                    f.write(f\"{seconds_to_timecode(word.start)} --> {seconds_to_timecode(word.end)}\\n\")\n",
        "\n",
        "                                    text_line = word.word\n",
        "                                    if include_confidence:\n",
        "                                        text_line = f\"{text_line} ({word.probability:.2f})\"\n",
        "\n",
        "                                    f.write(f\"{text_line}\\n\\n\")\n",
        "                                    index += 1\n",
        "                        else:\n",
        "                            for segment in segment_list:\n",
        "                                f.write(f\"{index}\\n\")\n",
        "                                f.write(f\"{seconds_to_timecode(segment.start)} --> {seconds_to_timecode(segment.end)}\\n\")\n",
        "\n",
        "                                text_line = segment.text.strip()\n",
        "                                if include_confidence:\n",
        "                                    text_line = f\"{text_line} ({segment.avg_logprob:.2f})\"\n",
        "\n",
        "                                f.write(f\"{text_line}\\n\\n\")\n",
        "                                index += 1\n",
        "\n",
        "                display(Markdown(f\"✅ Created {format.upper()} file: **{output_file_name}**\"))\n",
        "\n",
        "            update_progress(100, \"Transcription completed successfully!\")\n",
        "\n",
        "        except Exception as e:\n",
        "            display(Markdown(f\"❌ **Error transcribing {audio_path.name}**: {str(e)}\"))\n",
        "            logger.error(f\"Transcription error: {str(e)}\", exc_info=True)\n",
        "\n",
        "    # Create a zip file of all outputs\n",
        "    zip_file_path = batch_dir.parent / f\"transcribed_texts_{timestamp}.zip\"\n",
        "\n",
        "    with zipfile.ZipFile(zip_file_path, 'w', zipfile.ZIP_DEFLATED) as zipf:\n",
        "        for file_path in batch_dir.glob(\"*\"):\n",
        "            zipf.write(file_path, arcname=file_path.name)\n",
        "\n",
        "    # Provide download links\n",
        "    display(Markdown(f\"## 📥 Download Results\"))\n",
        "    display(Markdown(f\"* [Download ZIP of all transcriptions]({zip_file_path})\"))\n",
        "\n",
        "    # Clean up\n",
        "    processor.cleanup()\n",
        "\n",
        "    # Offer to download directly through Colab\n",
        "    display(Markdown(f\"**Or download through Colab:**\"))\n",
        "    files.download(str(zip_file_path))"
      ],
      "metadata": {
        "colab": {
          "base_uri": "https://localhost:8080/",
          "height": 654
        },
        "cellView": "form",
        "id": "nw-ppuEJPElZ",
        "outputId": "8666f2a9-0d6b-4881-9ec9-3bd40130f10c"
      },
      "execution_count": null,
      "outputs": [
        {
          "output_type": "display_data",
          "data": {
            "text/plain": [
              "<IPython.core.display.HTML object>"
            ],
            "text/html": [
              "<p>✅ tqdm installed</p>"
            ]
          },
          "metadata": {}
        },
        {
          "output_type": "stream",
          "name": "stdout",
          "text": [
            "W: Skipping acquire of configured file 'main/source/Sources' as repository 'https://r2u.stat.illinois.edu/ubuntu jammy InRelease' does not seem to provide it (sources.list entry misspelt?)\n",
            "\n",
            "WARNING: apt does not have a stable CLI interface. Use with caution in scripts.\n",
            "\n"
          ]
        },
        {
          "output_type": "display_data",
          "data": {
            "text/plain": [
              "<IPython.core.display.Markdown object>"
            ],
            "text/markdown": "📁 **Media files already found in workspace:**\n- 1.aac"
          },
          "metadata": {}
        },
        {
          "output_type": "display_data",
          "data": {
            "text/plain": [
              "<IPython.core.display.Markdown object>"
            ],
            "text/markdown": "✅ Using existing file: **1.aac**"
          },
          "metadata": {}
        },
        {
          "output_type": "display_data",
          "data": {
            "text/plain": [
              "<IPython.core.display.Markdown object>"
            ],
            "text/markdown": "## 📋 Files to be processed (1):"
          },
          "metadata": {}
        },
        {
          "output_type": "display_data",
          "data": {
            "text/plain": [
              "<IPython.core.display.Markdown object>"
            ],
            "text/markdown": "- **1.aac**"
          },
          "metadata": {}
        },
        {
          "output_type": "display_data",
          "data": {
            "text/plain": [
              "<IPython.core.display.HTML object>"
            ],
            "text/html": [
              "\n",
              "        <div style=\"border:1px solid #ddd; padding:10px; height:120px; overflow-y:auto; margin-bottom:5px; background-color:#2d2d2d; font-family:monospace; white-space:pre-wrap; color:#ffffff;\">\n",
              "        <div id=\"live-transcription\"></div>\n",
              "        </div>\n",
              "        "
            ]
          },
          "metadata": {}
        },
        {
          "output_type": "display_data",
          "data": {
            "text/plain": [
              "<IPython.core.display.Markdown object>"
            ],
            "text/markdown": "## 🔄 Processing file 1/1: **1.aac**"
          },
          "metadata": {}
        },
        {
          "output_type": "display_data",
          "data": {
            "text/plain": [
              "<IPython.core.display.HTML object>"
            ],
            "text/html": [
              "\n",
              "                <div style=\"width:100%; background-color:#f0f0f0; border-radius:5px;\">\n",
              "                    <div id=\"transcription-progress\" style=\"background-color:#4CAF50; width:0%; height:20px; border-radius:5px;\"></div>\n",
              "                </div>\n",
              "                <p id=\"transcription-status\">Starting transcription...</p>\n",
              "                "
            ]
          },
          "metadata": {}
        },
        {
          "output_type": "display_data",
          "data": {
            "text/plain": [
              "<IPython.core.display.HTML object>"
            ],
            "text/html": [
              "\n",
              "                    <script>\n",
              "                        document.getElementById('transcription-progress').style.width = '10%';\n",
              "                        document.getElementById('transcription-status').textContent = 'Loading model and analyzing audio...';\n",
              "                    </script>\n",
              "                    "
            ]
          },
          "metadata": {}
        },
        {
          "output_type": "display_data",
          "data": {
            "text/plain": [
              "<IPython.core.display.HTML object>"
            ],
            "text/html": [
              "\n",
              "                        <script>\n",
              "                            var liveDiv = document.getElementById('live-transcription');\n",
              "                            liveDiv.innerHTML = \"Yes, and then after, I think you all are going to have experiments with this.\";\n",
              "                            liveDiv.parentElement.scrollTop = liveDiv.parentElement.scrollHeight;\n",
              "                            liveDiv.style.color = \"#ffffff\"; // Ensure text remains white\n",
              "                        </script>\n",
              "                        "
            ]
          },
          "metadata": {}
        },
        {
          "output_type": "display_data",
          "data": {
            "text/plain": [
              "<IPython.core.display.HTML object>"
            ],
            "text/html": [
              "\n",
              "                    <script>\n",
              "                        document.getElementById('transcription-progress').style.width = '51%';\n",
              "                        document.getElementById('transcription-status').textContent = 'Transcription in progress...';\n",
              "                    </script>\n",
              "                    "
            ]
          },
          "metadata": {}
        },
        {
          "output_type": "display_data",
          "data": {
            "text/plain": [
              "<IPython.core.display.HTML object>"
            ],
            "text/html": [
              "\n",
              "                        <script>\n",
              "                            var liveDiv = document.getElementById('live-transcription');\n",
              "                            liveDiv.innerHTML = \"Yes, and then after, I think you all are going to have experiments with this.\\nIn the previous lecture, we discussed the prerequisites for a marker-assisted reading integration.\";\n",
              "                            liveDiv.parentElement.scrollTop = liveDiv.parentElement.scrollHeight;\n",
              "                            liveDiv.style.color = \"#ffffff\"; // Ensure text remains white\n",
              "                        </script>\n",
              "                        "
            ]
          },
          "metadata": {}
        },
        {
          "output_type": "display_data",
          "data": {
            "text/plain": [
              "<IPython.core.display.HTML object>"
            ],
            "text/html": [
              "\n",
              "                    <script>\n",
              "                        document.getElementById('transcription-progress').style.width = '52%';\n",
              "                        document.getElementById('transcription-status').textContent = 'Transcription in progress...';\n",
              "                    </script>\n",
              "                    "
            ]
          },
          "metadata": {}
        },
        {
          "output_type": "display_data",
          "data": {
            "text/plain": [
              "<IPython.core.display.HTML object>"
            ],
            "text/html": [
              "\n",
              "                        <script>\n",
              "                            var liveDiv = document.getElementById('live-transcription');\n",
              "                            liveDiv.innerHTML = \"Yes, and then after, I think you all are going to have experiments with this.\\nIn the previous lecture, we discussed the prerequisites for a marker-assisted reading integration.\\nFirst, we coined, right? And then we realized marker-assisted reading as one of the basic steps in a marker-assisted reading program.\";\n",
              "                            liveDiv.parentElement.scrollTop = liveDiv.parentElement.scrollHeight;\n",
              "                            liveDiv.style.color = \"#ffffff\"; // Ensure text remains white\n",
              "                        </script>\n",
              "                        "
            ]
          },
          "metadata": {}
        },
        {
          "output_type": "display_data",
          "data": {
            "text/plain": [
              "<IPython.core.display.HTML object>"
            ],
            "text/html": [
              "\n",
              "                    <script>\n",
              "                        document.getElementById('transcription-progress').style.width = '53%';\n",
              "                        document.getElementById('transcription-status').textContent = 'Transcription in progress...';\n",
              "                    </script>\n",
              "                    "
            ]
          },
          "metadata": {}
        },
        {
          "output_type": "display_data",
          "data": {
            "text/plain": [
              "<IPython.core.display.HTML object>"
            ],
            "text/html": [
              "\n",
              "                        <script>\n",
              "                            var liveDiv = document.getElementById('live-transcription');\n",
              "                            liveDiv.innerHTML = \"Yes, and then after, I think you all are going to have experiments with this.\\nIn the previous lecture, we discussed the prerequisites for a marker-assisted reading integration.\\nFirst, we coined, right? And then we realized marker-assisted reading as one of the basic steps in a marker-assisted reading program.\\nAnd then, advantages and limitations of marker-assisted selection, right?\";\n",
              "                            liveDiv.parentElement.scrollTop = liveDiv.parentElement.scrollHeight;\n",
              "                            liveDiv.style.color = \"#ffffff\"; // Ensure text remains white\n",
              "                        </script>\n",
              "                        "
            ]
          },
          "metadata": {}
        },
        {
          "output_type": "display_data",
          "data": {
            "text/plain": [
              "<IPython.core.display.HTML object>"
            ],
            "text/html": [
              "\n",
              "                    <script>\n",
              "                        document.getElementById('transcription-progress').style.width = '54%';\n",
              "                        document.getElementById('transcription-status').textContent = 'Transcription in progress...';\n",
              "                    </script>\n",
              "                    "
            ]
          },
          "metadata": {}
        },
        {
          "output_type": "display_data",
          "data": {
            "text/plain": [
              "<IPython.core.display.HTML object>"
            ],
            "text/html": [
              "\n",
              "                        <script>\n",
              "                            var liveDiv = document.getElementById('live-transcription');\n",
              "                            liveDiv.innerHTML = \"Yes, and then after, I think you all are going to have experiments with this.\\nIn the previous lecture, we discussed the prerequisites for a marker-assisted reading integration.\\nFirst, we coined, right? And then we realized marker-assisted reading as one of the basic steps in a marker-assisted reading program.\\nAnd then, advantages and limitations of marker-assisted selection, right?\\nSo those things you all should know, right?\";\n",
              "                            liveDiv.parentElement.scrollTop = liveDiv.parentElement.scrollHeight;\n",
              "                            liveDiv.style.color = \"#ffffff\"; // Ensure text remains white\n",
              "                        </script>\n",
              "                        "
            ]
          },
          "metadata": {}
        },
        {
          "output_type": "display_data",
          "data": {
            "text/plain": [
              "<IPython.core.display.HTML object>"
            ],
            "text/html": [
              "\n",
              "                    <script>\n",
              "                        document.getElementById('transcription-progress').style.width = '55%';\n",
              "                        document.getElementById('transcription-status').textContent = 'Transcription in progress...';\n",
              "                    </script>\n",
              "                    "
            ]
          },
          "metadata": {}
        },
        {
          "output_type": "display_data",
          "data": {
            "text/plain": [
              "<IPython.core.display.HTML object>"
            ],
            "text/html": [
              "\n",
              "                        <script>\n",
              "                            var liveDiv = document.getElementById('live-transcription');\n",
              "                            liveDiv.innerHTML = \"In the previous lecture, we discussed the prerequisites for a marker-assisted reading integration.\\nFirst, we coined, right? And then we realized marker-assisted reading as one of the basic steps in a marker-assisted reading program.\\nAnd then, advantages and limitations of marker-assisted selection, right?\\nSo those things you all should know, right?\\nSo because you can reflect on this, they are exempt, especially the advantages and limitations.\";\n",
              "                            liveDiv.parentElement.scrollTop = liveDiv.parentElement.scrollHeight;\n",
              "                            liveDiv.style.color = \"#ffffff\"; // Ensure text remains white\n",
              "                        </script>\n",
              "                        "
            ]
          },
          "metadata": {}
        },
        {
          "output_type": "display_data",
          "data": {
            "text/plain": [
              "<IPython.core.display.HTML object>"
            ],
            "text/html": [
              "\n",
              "                    <script>\n",
              "                        document.getElementById('transcription-progress').style.width = '56%';\n",
              "                        document.getElementById('transcription-status').textContent = 'Transcription in progress...';\n",
              "                    </script>\n",
              "                    "
            ]
          },
          "metadata": {}
        },
        {
          "output_type": "display_data",
          "data": {
            "text/plain": [
              "<IPython.core.display.HTML object>"
            ],
            "text/html": [
              "\n",
              "                        <script>\n",
              "                            var liveDiv = document.getElementById('live-transcription');\n",
              "                            liveDiv.innerHTML = \"First, we coined, right? And then we realized marker-assisted reading as one of the basic steps in a marker-assisted reading program.\\nAnd then, advantages and limitations of marker-assisted selection, right?\\nSo those things you all should know, right?\\nSo because you can reflect on this, they are exempt, especially the advantages and limitations.\\nBut I would not just ask, what are the advantages and limitations?\";\n",
              "                            liveDiv.parentElement.scrollTop = liveDiv.parentElement.scrollHeight;\n",
              "                            liveDiv.style.color = \"#ffffff\"; // Ensure text remains white\n",
              "                        </script>\n",
              "                        "
            ]
          },
          "metadata": {}
        },
        {
          "output_type": "display_data",
          "data": {
            "text/plain": [
              "<IPython.core.display.HTML object>"
            ],
            "text/html": [
              "\n",
              "                    <script>\n",
              "                        document.getElementById('transcription-progress').style.width = '57%';\n",
              "                        document.getElementById('transcription-status').textContent = 'Transcription in progress...';\n",
              "                    </script>\n",
              "                    "
            ]
          },
          "metadata": {}
        },
        {
          "output_type": "display_data",
          "data": {
            "text/plain": [
              "<IPython.core.display.HTML object>"
            ],
            "text/html": [
              "\n",
              "                        <script>\n",
              "                            var liveDiv = document.getElementById('live-transcription');\n",
              "                            liveDiv.innerHTML = \"And then, advantages and limitations of marker-assisted selection, right?\\nSo those things you all should know, right?\\nSo because you can reflect on this, they are exempt, especially the advantages and limitations.\\nBut I would not just ask, what are the advantages and limitations?\\nMarker-assisted selection is not always beneficial.\";\n",
              "                            liveDiv.parentElement.scrollTop = liveDiv.parentElement.scrollHeight;\n",
              "                            liveDiv.style.color = \"#ffffff\"; // Ensure text remains white\n",
              "                        </script>\n",
              "                        "
            ]
          },
          "metadata": {}
        },
        {
          "output_type": "display_data",
          "data": {
            "text/plain": [
              "<IPython.core.display.HTML object>"
            ],
            "text/html": [
              "\n",
              "                    <script>\n",
              "                        document.getElementById('transcription-progress').style.width = '58%';\n",
              "                        document.getElementById('transcription-status').textContent = 'Transcription in progress...';\n",
              "                    </script>\n",
              "                    "
            ]
          },
          "metadata": {}
        },
        {
          "output_type": "display_data",
          "data": {
            "text/plain": [
              "<IPython.core.display.HTML object>"
            ],
            "text/html": [
              "\n",
              "                        <script>\n",
              "                            var liveDiv = document.getElementById('live-transcription');\n",
              "                            liveDiv.innerHTML = \"So those things you all should know, right?\\nSo because you can reflect on this, they are exempt, especially the advantages and limitations.\\nBut I would not just ask, what are the advantages and limitations?\\nMarker-assisted selection is not always beneficial.\\nThen you have to discover the limitations, right?\";\n",
              "                            liveDiv.parentElement.scrollTop = liveDiv.parentElement.scrollHeight;\n",
              "                            liveDiv.style.color = \"#ffffff\"; // Ensure text remains white\n",
              "                        </script>\n",
              "                        "
            ]
          },
          "metadata": {}
        },
        {
          "output_type": "display_data",
          "data": {
            "text/plain": [
              "<IPython.core.display.HTML object>"
            ],
            "text/html": [
              "\n",
              "                    <script>\n",
              "                        document.getElementById('transcription-progress').style.width = '59%';\n",
              "                        document.getElementById('transcription-status').textContent = 'Transcription in progress...';\n",
              "                    </script>\n",
              "                    "
            ]
          },
          "metadata": {}
        },
        {
          "output_type": "display_data",
          "data": {
            "text/plain": [
              "<IPython.core.display.HTML object>"
            ],
            "text/html": [
              "\n",
              "                        <script>\n",
              "                            var liveDiv = document.getElementById('live-transcription');\n",
              "                            liveDiv.innerHTML = \"So because you can reflect on this, they are exempt, especially the advantages and limitations.\\nBut I would not just ask, what are the advantages and limitations?\\nMarker-assisted selection is not always beneficial.\\nThen you have to discover the limitations, right?\\nAnd then, the prerequisites you all should know, right?\";\n",
              "                            liveDiv.parentElement.scrollTop = liveDiv.parentElement.scrollHeight;\n",
              "                            liveDiv.style.color = \"#ffffff\"; // Ensure text remains white\n",
              "                        </script>\n",
              "                        "
            ]
          },
          "metadata": {}
        },
        {
          "output_type": "display_data",
          "data": {
            "text/plain": [
              "<IPython.core.display.HTML object>"
            ],
            "text/html": [
              "\n",
              "                    <script>\n",
              "                        document.getElementById('transcription-progress').style.width = '50%';\n",
              "                        document.getElementById('transcription-status').textContent = 'Transcription in progress...';\n",
              "                    </script>\n",
              "                    "
            ]
          },
          "metadata": {}
        },
        {
          "output_type": "display_data",
          "data": {
            "text/plain": [
              "<IPython.core.display.HTML object>"
            ],
            "text/html": [
              "\n",
              "                        <script>\n",
              "                            var liveDiv = document.getElementById('live-transcription');\n",
              "                            liveDiv.innerHTML = \"But I would not just ask, what are the advantages and limitations?\\nMarker-assisted selection is not always beneficial.\\nThen you have to discover the limitations, right?\\nAnd then, the prerequisites you all should know, right?\\nAnd then...\";\n",
              "                            liveDiv.parentElement.scrollTop = liveDiv.parentElement.scrollHeight;\n",
              "                            liveDiv.style.color = \"#ffffff\"; // Ensure text remains white\n",
              "                        </script>\n",
              "                        "
            ]
          },
          "metadata": {}
        },
        {
          "output_type": "display_data",
          "data": {
            "text/plain": [
              "<IPython.core.display.HTML object>"
            ],
            "text/html": [
              "\n",
              "                    <script>\n",
              "                        document.getElementById('transcription-progress').style.width = '51%';\n",
              "                        document.getElementById('transcription-status').textContent = 'Transcription in progress...';\n",
              "                    </script>\n",
              "                    "
            ]
          },
          "metadata": {}
        },
        {
          "output_type": "display_data",
          "data": {
            "text/plain": [
              "<IPython.core.display.HTML object>"
            ],
            "text/html": [
              "\n",
              "                        <script>\n",
              "                            var liveDiv = document.getElementById('live-transcription');\n",
              "                            liveDiv.innerHTML = \"Marker-assisted selection is not always beneficial.\\nThen you have to discover the limitations, right?\\nAnd then, the prerequisites you all should know, right?\\nAnd then...\\nToday, we are going to discuss marker-assisted reading schemes, right?\";\n",
              "                            liveDiv.parentElement.scrollTop = liveDiv.parentElement.scrollHeight;\n",
              "                            liveDiv.style.color = \"#ffffff\"; // Ensure text remains white\n",
              "                        </script>\n",
              "                        "
            ]
          },
          "metadata": {}
        },
        {
          "output_type": "display_data",
          "data": {
            "text/plain": [
              "<IPython.core.display.HTML object>"
            ],
            "text/html": [
              "\n",
              "                    <script>\n",
              "                        document.getElementById('transcription-progress').style.width = '52%';\n",
              "                        document.getElementById('transcription-status').textContent = 'Transcription in progress...';\n",
              "                    </script>\n",
              "                    "
            ]
          },
          "metadata": {}
        },
        {
          "output_type": "display_data",
          "data": {
            "text/plain": [
              "<IPython.core.display.HTML object>"
            ],
            "text/html": [
              "\n",
              "                        <script>\n",
              "                            var liveDiv = document.getElementById('live-transcription');\n",
              "                            liveDiv.innerHTML = \"Then you have to discover the limitations, right?\\nAnd then, the prerequisites you all should know, right?\\nAnd then...\\nToday, we are going to discuss marker-assisted reading schemes, right?\\nSo there are a few marker-assisted reading schemes.\";\n",
              "                            liveDiv.parentElement.scrollTop = liveDiv.parentElement.scrollHeight;\n",
              "                            liveDiv.style.color = \"#ffffff\"; // Ensure text remains white\n",
              "                        </script>\n",
              "                        "
            ]
          },
          "metadata": {}
        },
        {
          "output_type": "display_data",
          "data": {
            "text/plain": [
              "<IPython.core.display.HTML object>"
            ],
            "text/html": [
              "\n",
              "                    <script>\n",
              "                        document.getElementById('transcription-progress').style.width = '53%';\n",
              "                        document.getElementById('transcription-status').textContent = 'Transcription in progress...';\n",
              "                    </script>\n",
              "                    "
            ]
          },
          "metadata": {}
        },
        {
          "output_type": "display_data",
          "data": {
            "text/plain": [
              "<IPython.core.display.HTML object>"
            ],
            "text/html": [
              "\n",
              "                        <script>\n",
              "                            var liveDiv = document.getElementById('live-transcription');\n",
              "                            liveDiv.innerHTML = \"And then, the prerequisites you all should know, right?\\nAnd then...\\nToday, we are going to discuss marker-assisted reading schemes, right?\\nSo there are a few marker-assisted reading schemes.\\nBecause we can apply markers in anywhere.\";\n",
              "                            liveDiv.parentElement.scrollTop = liveDiv.parentElement.scrollHeight;\n",
              "                            liveDiv.style.color = \"#ffffff\"; // Ensure text remains white\n",
              "                        </script>\n",
              "                        "
            ]
          },
          "metadata": {}
        },
        {
          "output_type": "display_data",
          "data": {
            "text/plain": [
              "<IPython.core.display.HTML object>"
            ],
            "text/html": [
              "\n",
              "                    <script>\n",
              "                        document.getElementById('transcription-progress').style.width = '54%';\n",
              "                        document.getElementById('transcription-status').textContent = 'Transcription in progress...';\n",
              "                    </script>\n",
              "                    "
            ]
          },
          "metadata": {}
        },
        {
          "output_type": "display_data",
          "data": {
            "text/plain": [
              "<IPython.core.display.HTML object>"
            ],
            "text/html": [
              "\n",
              "                        <script>\n",
              "                            var liveDiv = document.getElementById('live-transcription');\n",
              "                            liveDiv.innerHTML = \"And then...\\nToday, we are going to discuss marker-assisted reading schemes, right?\\nSo there are a few marker-assisted reading schemes.\\nBecause we can apply markers in anywhere.\\nI mean, back-crossing, we can apply.\";\n",
              "                            liveDiv.parentElement.scrollTop = liveDiv.parentElement.scrollHeight;\n",
              "                            liveDiv.style.color = \"#ffffff\"; // Ensure text remains white\n",
              "                        </script>\n",
              "                        "
            ]
          },
          "metadata": {}
        },
        {
          "output_type": "display_data",
          "data": {
            "text/plain": [
              "<IPython.core.display.HTML object>"
            ],
            "text/html": [
              "\n",
              "                    <script>\n",
              "                        document.getElementById('transcription-progress').style.width = '55%';\n",
              "                        document.getElementById('transcription-status').textContent = 'Transcription in progress...';\n",
              "                    </script>\n",
              "                    "
            ]
          },
          "metadata": {}
        },
        {
          "output_type": "display_data",
          "data": {
            "text/plain": [
              "<IPython.core.display.HTML object>"
            ],
            "text/html": [
              "\n",
              "                        <script>\n",
              "                            var liveDiv = document.getElementById('live-transcription');\n",
              "                            liveDiv.innerHTML = \"Today, we are going to discuss marker-assisted reading schemes, right?\\nSo there are a few marker-assisted reading schemes.\\nBecause we can apply markers in anywhere.\\nI mean, back-crossing, we can apply.\\nIn team-pyramiding, we can apply team-pyramiding.\";\n",
              "                            liveDiv.parentElement.scrollTop = liveDiv.parentElement.scrollHeight;\n",
              "                            liveDiv.style.color = \"#ffffff\"; // Ensure text remains white\n",
              "                        </script>\n",
              "                        "
            ]
          },
          "metadata": {}
        },
        {
          "output_type": "display_data",
          "data": {
            "text/plain": [
              "<IPython.core.display.HTML object>"
            ],
            "text/html": [
              "\n",
              "                    <script>\n",
              "                        document.getElementById('transcription-progress').style.width = '56%';\n",
              "                        document.getElementById('transcription-status').textContent = 'Transcription in progress...';\n",
              "                    </script>\n",
              "                    "
            ]
          },
          "metadata": {}
        },
        {
          "output_type": "display_data",
          "data": {
            "text/plain": [
              "<IPython.core.display.HTML object>"
            ],
            "text/html": [
              "\n",
              "                        <script>\n",
              "                            var liveDiv = document.getElementById('live-transcription');\n",
              "                            liveDiv.innerHTML = \"So there are a few marker-assisted reading schemes.\\nBecause we can apply markers in anywhere.\\nI mean, back-crossing, we can apply.\\nIn team-pyramiding, we can apply team-pyramiding.\\nYou know, team-stacking.\";\n",
              "                            liveDiv.parentElement.scrollTop = liveDiv.parentElement.scrollHeight;\n",
              "                            liveDiv.style.color = \"#ffffff\"; // Ensure text remains white\n",
              "                        </script>\n",
              "                        "
            ]
          },
          "metadata": {}
        },
        {
          "output_type": "display_data",
          "data": {
            "text/plain": [
              "<IPython.core.display.HTML object>"
            ],
            "text/html": [
              "\n",
              "                    <script>\n",
              "                        document.getElementById('transcription-progress').style.width = '57%';\n",
              "                        document.getElementById('transcription-status').textContent = 'Transcription in progress...';\n",
              "                    </script>\n",
              "                    "
            ]
          },
          "metadata": {}
        },
        {
          "output_type": "display_data",
          "data": {
            "text/plain": [
              "<IPython.core.display.HTML object>"
            ],
            "text/html": [
              "\n",
              "                        <script>\n",
              "                            var liveDiv = document.getElementById('live-transcription');\n",
              "                            liveDiv.innerHTML = \"Because we can apply markers in anywhere.\\nI mean, back-crossing, we can apply.\\nIn team-pyramiding, we can apply team-pyramiding.\\nYou know, team-stacking.\\nHuh?\";\n",
              "                            liveDiv.parentElement.scrollTop = liveDiv.parentElement.scrollHeight;\n",
              "                            liveDiv.style.color = \"#ffffff\"; // Ensure text remains white\n",
              "                        </script>\n",
              "                        "
            ]
          },
          "metadata": {}
        },
        {
          "output_type": "display_data",
          "data": {
            "text/plain": [
              "<IPython.core.display.HTML object>"
            ],
            "text/html": [
              "\n",
              "                    <script>\n",
              "                        document.getElementById('transcription-progress').style.width = '58%';\n",
              "                        document.getElementById('transcription-status').textContent = 'Transcription in progress...';\n",
              "                    </script>\n",
              "                    "
            ]
          },
          "metadata": {}
        },
        {
          "output_type": "display_data",
          "data": {
            "text/plain": [
              "<IPython.core.display.HTML object>"
            ],
            "text/html": [
              "\n",
              "                        <script>\n",
              "                            var liveDiv = document.getElementById('live-transcription');\n",
              "                            liveDiv.innerHTML = \"I mean, back-crossing, we can apply.\\nIn team-pyramiding, we can apply team-pyramiding.\\nYou know, team-stacking.\\nHuh?\\nWhy you all would want to make this?\";\n",
              "                            liveDiv.parentElement.scrollTop = liveDiv.parentElement.scrollHeight;\n",
              "                            liveDiv.style.color = \"#ffffff\"; // Ensure text remains white\n",
              "                        </script>\n",
              "                        "
            ]
          },
          "metadata": {}
        },
        {
          "output_type": "display_data",
          "data": {
            "text/plain": [
              "<IPython.core.display.HTML object>"
            ],
            "text/html": [
              "\n",
              "                    <script>\n",
              "                        document.getElementById('transcription-progress').style.width = '59%';\n",
              "                        document.getElementById('transcription-status').textContent = 'Transcription in progress...';\n",
              "                    </script>\n",
              "                    "
            ]
          },
          "metadata": {}
        },
        {
          "output_type": "display_data",
          "data": {
            "text/plain": [
              "<IPython.core.display.HTML object>"
            ],
            "text/html": [
              "\n",
              "                        <script>\n",
              "                            var liveDiv = document.getElementById('live-transcription');\n",
              "                            liveDiv.innerHTML = \"In team-pyramiding, we can apply team-pyramiding.\\nYou know, team-stacking.\\nHuh?\\nWhy you all would want to make this?\\nThey don't want to do that, right?\";\n",
              "                            liveDiv.parentElement.scrollTop = liveDiv.parentElement.scrollHeight;\n",
              "                            liveDiv.style.color = \"#ffffff\"; // Ensure text remains white\n",
              "                        </script>\n",
              "                        "
            ]
          },
          "metadata": {}
        },
        {
          "output_type": "display_data",
          "data": {
            "text/plain": [
              "<IPython.core.display.HTML object>"
            ],
            "text/html": [
              "\n",
              "                    <script>\n",
              "                        document.getElementById('transcription-progress').style.width = '50%';\n",
              "                        document.getElementById('transcription-status').textContent = 'Transcription in progress...';\n",
              "                    </script>\n",
              "                    "
            ]
          },
          "metadata": {}
        },
        {
          "output_type": "display_data",
          "data": {
            "text/plain": [
              "<IPython.core.display.HTML object>"
            ],
            "text/html": [
              "\n",
              "                        <script>\n",
              "                            var liveDiv = document.getElementById('live-transcription');\n",
              "                            liveDiv.innerHTML = \"You know, team-stacking.\\nHuh?\\nWhy you all would want to make this?\\nThey don't want to do that, right?\\nLike, the purpose of this marker-assisted reading,\";\n",
              "                            liveDiv.parentElement.scrollTop = liveDiv.parentElement.scrollHeight;\n",
              "                            liveDiv.style.color = \"#ffffff\"; // Ensure text remains white\n",
              "                        </script>\n",
              "                        "
            ]
          },
          "metadata": {}
        },
        {
          "output_type": "display_data",
          "data": {
            "text/plain": [
              "<IPython.core.display.HTML object>"
            ],
            "text/html": [
              "\n",
              "                    <script>\n",
              "                        document.getElementById('transcription-progress').style.width = '51%';\n",
              "                        document.getElementById('transcription-status').textContent = 'Transcription in progress...';\n",
              "                    </script>\n",
              "                    "
            ]
          },
          "metadata": {}
        },
        {
          "output_type": "display_data",
          "data": {
            "text/plain": [
              "<IPython.core.display.HTML object>"
            ],
            "text/html": [
              "\n",
              "                        <script>\n",
              "                            var liveDiv = document.getElementById('live-transcription');\n",
              "                            liveDiv.innerHTML = \"Huh?\\nWhy you all would want to make this?\\nThey don't want to do that, right?\\nLike, the purpose of this marker-assisted reading,\\nis marker-assisted back-cross reading schemes.\";\n",
              "                            liveDiv.parentElement.scrollTop = liveDiv.parentElement.scrollHeight;\n",
              "                            liveDiv.style.color = \"#ffffff\"; // Ensure text remains white\n",
              "                        </script>\n",
              "                        "
            ]
          },
          "metadata": {}
        },
        {
          "output_type": "display_data",
          "data": {
            "text/plain": [
              "<IPython.core.display.HTML object>"
            ],
            "text/html": [
              "\n",
              "                    <script>\n",
              "                        document.getElementById('transcription-progress').style.width = '52%';\n",
              "                        document.getElementById('transcription-status').textContent = 'Transcription in progress...';\n",
              "                    </script>\n",
              "                    "
            ]
          },
          "metadata": {}
        },
        {
          "output_type": "display_data",
          "data": {
            "text/plain": [
              "<IPython.core.display.HTML object>"
            ],
            "text/html": [
              "\n",
              "                        <script>\n",
              "                            var liveDiv = document.getElementById('live-transcription');\n",
              "                            liveDiv.innerHTML = \"Why you all would want to make this?\\nThey don't want to do that, right?\\nLike, the purpose of this marker-assisted reading,\\nis marker-assisted back-cross reading schemes.\\nAnd design experiments to improve the cross-performance\";\n",
              "                            liveDiv.parentElement.scrollTop = liveDiv.parentElement.scrollHeight;\n",
              "                            liveDiv.style.color = \"#ffffff\"; // Ensure text remains white\n",
              "                        </script>\n",
              "                        "
            ]
          },
          "metadata": {}
        },
        {
          "output_type": "display_data",
          "data": {
            "text/plain": [
              "<IPython.core.display.HTML object>"
            ],
            "text/html": [
              "\n",
              "                    <script>\n",
              "                        document.getElementById('transcription-progress').style.width = '53%';\n",
              "                        document.getElementById('transcription-status').textContent = 'Transcription in progress...';\n",
              "                    </script>\n",
              "                    "
            ]
          },
          "metadata": {}
        },
        {
          "output_type": "display_data",
          "data": {
            "text/plain": [
              "<IPython.core.display.HTML object>"
            ],
            "text/html": [
              "\n",
              "                        <script>\n",
              "                            var liveDiv = document.getElementById('live-transcription');\n",
              "                            liveDiv.innerHTML = \"They don't want to do that, right?\\nLike, the purpose of this marker-assisted reading,\\nis marker-assisted back-cross reading schemes.\\nAnd design experiments to improve the cross-performance\\nthrough marker-assisted approach.\";\n",
              "                            liveDiv.parentElement.scrollTop = liveDiv.parentElement.scrollHeight;\n",
              "                            liveDiv.style.color = \"#ffffff\"; // Ensure text remains white\n",
              "                        </script>\n",
              "                        "
            ]
          },
          "metadata": {}
        },
        {
          "output_type": "display_data",
          "data": {
            "text/plain": [
              "<IPython.core.display.HTML object>"
            ],
            "text/html": [
              "\n",
              "                    <script>\n",
              "                        document.getElementById('transcription-progress').style.width = '54%';\n",
              "                        document.getElementById('transcription-status').textContent = 'Transcription in progress...';\n",
              "                    </script>\n",
              "                    "
            ]
          },
          "metadata": {}
        },
        {
          "output_type": "display_data",
          "data": {
            "text/plain": [
              "<IPython.core.display.HTML object>"
            ],
            "text/html": [
              "\n",
              "                        <script>\n",
              "                            var liveDiv = document.getElementById('live-transcription');\n",
              "                            liveDiv.innerHTML = \"Like, the purpose of this marker-assisted reading,\\nis marker-assisted back-cross reading schemes.\\nAnd design experiments to improve the cross-performance\\nthrough marker-assisted approach.\\nSo your exam question will be something like,\";\n",
              "                            liveDiv.parentElement.scrollTop = liveDiv.parentElement.scrollHeight;\n",
              "                            liveDiv.style.color = \"#ffffff\"; // Ensure text remains white\n",
              "                        </script>\n",
              "                        "
            ]
          },
          "metadata": {}
        },
        {
          "output_type": "display_data",
          "data": {
            "text/plain": [
              "<IPython.core.display.HTML object>"
            ],
            "text/html": [
              "\n",
              "                    <script>\n",
              "                        document.getElementById('transcription-progress').style.width = '55%';\n",
              "                        document.getElementById('transcription-status').textContent = 'Transcription in progress...';\n",
              "                    </script>\n",
              "                    "
            ]
          },
          "metadata": {}
        },
        {
          "output_type": "display_data",
          "data": {
            "text/plain": [
              "<IPython.core.display.HTML object>"
            ],
            "text/html": [
              "\n",
              "                        <script>\n",
              "                            var liveDiv = document.getElementById('live-transcription');\n",
              "                            liveDiv.innerHTML = \"is marker-assisted back-cross reading schemes.\\nAnd design experiments to improve the cross-performance\\nthrough marker-assisted approach.\\nSo your exam question will be something like,\\nnow, do it.\";\n",
              "                            liveDiv.parentElement.scrollTop = liveDiv.parentElement.scrollHeight;\n",
              "                            liveDiv.style.color = \"#ffffff\"; // Ensure text remains white\n",
              "                        </script>\n",
              "                        "
            ]
          },
          "metadata": {}
        },
        {
          "output_type": "display_data",
          "data": {
            "text/plain": [
              "<IPython.core.display.HTML object>"
            ],
            "text/html": [
              "\n",
              "                    <script>\n",
              "                        document.getElementById('transcription-progress').style.width = '56%';\n",
              "                        document.getElementById('transcription-status').textContent = 'Transcription in progress...';\n",
              "                    </script>\n",
              "                    "
            ]
          },
          "metadata": {}
        },
        {
          "output_type": "display_data",
          "data": {
            "text/plain": [
              "<IPython.core.display.HTML object>"
            ],
            "text/html": [
              "\n",
              "                        <script>\n",
              "                            var liveDiv = document.getElementById('live-transcription');\n",
              "                            liveDiv.innerHTML = \"And design experiments to improve the cross-performance\\nthrough marker-assisted approach.\\nSo your exam question will be something like,\\nnow, do it.\\nSo I will give a scenario, and I will ask you all to design experiments.\";\n",
              "                            liveDiv.parentElement.scrollTop = liveDiv.parentElement.scrollHeight;\n",
              "                            liveDiv.style.color = \"#ffffff\"; // Ensure text remains white\n",
              "                        </script>\n",
              "                        "
            ]
          },
          "metadata": {}
        },
        {
          "output_type": "display_data",
          "data": {
            "text/plain": [
              "<IPython.core.display.HTML object>"
            ],
            "text/html": [
              "\n",
              "                    <script>\n",
              "                        document.getElementById('transcription-progress').style.width = '57%';\n",
              "                        document.getElementById('transcription-status').textContent = 'Transcription in progress...';\n",
              "                    </script>\n",
              "                    "
            ]
          },
          "metadata": {}
        },
        {
          "output_type": "display_data",
          "data": {
            "text/plain": [
              "<IPython.core.display.HTML object>"
            ],
            "text/html": [
              "\n",
              "                        <script>\n",
              "                            var liveDiv = document.getElementById('live-transcription');\n",
              "                            liveDiv.innerHTML = \"through marker-assisted approach.\\nSo your exam question will be something like,\\nnow, do it.\\nSo I will give a scenario, and I will ask you all to design experiments.\\nRight?\";\n",
              "                            liveDiv.parentElement.scrollTop = liveDiv.parentElement.scrollHeight;\n",
              "                            liveDiv.style.color = \"#ffffff\"; // Ensure text remains white\n",
              "                        </script>\n",
              "                        "
            ]
          },
          "metadata": {}
        },
        {
          "output_type": "display_data",
          "data": {
            "text/plain": [
              "<IPython.core.display.HTML object>"
            ],
            "text/html": [
              "\n",
              "                    <script>\n",
              "                        document.getElementById('transcription-progress').style.width = '58%';\n",
              "                        document.getElementById('transcription-status').textContent = 'Transcription in progress...';\n",
              "                    </script>\n",
              "                    "
            ]
          },
          "metadata": {}
        },
        {
          "output_type": "display_data",
          "data": {
            "text/plain": [
              "<IPython.core.display.HTML object>"
            ],
            "text/html": [
              "\n",
              "                        <script>\n",
              "                            var liveDiv = document.getElementById('live-transcription');\n",
              "                            liveDiv.innerHTML = \"So your exam question will be something like,\\nnow, do it.\\nSo I will give a scenario, and I will ask you all to design experiments.\\nRight?\\nSo that, we are going to discuss in detail.\";\n",
              "                            liveDiv.parentElement.scrollTop = liveDiv.parentElement.scrollHeight;\n",
              "                            liveDiv.style.color = \"#ffffff\"; // Ensure text remains white\n",
              "                        </script>\n",
              "                        "
            ]
          },
          "metadata": {}
        },
        {
          "output_type": "display_data",
          "data": {
            "text/plain": [
              "<IPython.core.display.HTML object>"
            ],
            "text/html": [
              "\n",
              "                    <script>\n",
              "                        document.getElementById('transcription-progress').style.width = '59%';\n",
              "                        document.getElementById('transcription-status').textContent = 'Transcription in progress...';\n",
              "                    </script>\n",
              "                    "
            ]
          },
          "metadata": {}
        },
        {
          "output_type": "display_data",
          "data": {
            "text/plain": [
              "<IPython.core.display.HTML object>"
            ],
            "text/html": [
              "\n",
              "                        <script>\n",
              "                            var liveDiv = document.getElementById('live-transcription');\n",
              "                            liveDiv.innerHTML = \"now, do it.\\nSo I will give a scenario, and I will ask you all to design experiments.\\nRight?\\nSo that, we are going to discuss in detail.\\nI think you all see, I have uploaded two references in the internet.\";\n",
              "                            liveDiv.parentElement.scrollTop = liveDiv.parentElement.scrollHeight;\n",
              "                            liveDiv.style.color = \"#ffffff\"; // Ensure text remains white\n",
              "                        </script>\n",
              "                        "
            ]
          },
          "metadata": {}
        },
        {
          "output_type": "display_data",
          "data": {
            "text/plain": [
              "<IPython.core.display.HTML object>"
            ],
            "text/html": [
              "\n",
              "                    <script>\n",
              "                        document.getElementById('transcription-progress').style.width = '50%';\n",
              "                        document.getElementById('transcription-status').textContent = 'Transcription in progress...';\n",
              "                    </script>\n",
              "                    "
            ]
          },
          "metadata": {}
        },
        {
          "output_type": "display_data",
          "data": {
            "text/plain": [
              "<IPython.core.display.HTML object>"
            ],
            "text/html": [
              "\n",
              "                        <script>\n",
              "                            var liveDiv = document.getElementById('live-transcription');\n",
              "                            liveDiv.innerHTML = \"So I will give a scenario, and I will ask you all to design experiments.\\nRight?\\nSo that, we are going to discuss in detail.\\nI think you all see, I have uploaded two references in the internet.\\nSo you all need to go through the two references,\";\n",
              "                            liveDiv.parentElement.scrollTop = liveDiv.parentElement.scrollHeight;\n",
              "                            liveDiv.style.color = \"#ffffff\"; // Ensure text remains white\n",
              "                        </script>\n",
              "                        "
            ]
          },
          "metadata": {}
        },
        {
          "output_type": "display_data",
          "data": {
            "text/plain": [
              "<IPython.core.display.HTML object>"
            ],
            "text/html": [
              "\n",
              "                    <script>\n",
              "                        document.getElementById('transcription-progress').style.width = '51%';\n",
              "                        document.getElementById('transcription-status').textContent = 'Transcription in progress...';\n",
              "                    </script>\n",
              "                    "
            ]
          },
          "metadata": {}
        },
        {
          "output_type": "display_data",
          "data": {
            "text/plain": [
              "<IPython.core.display.HTML object>"
            ],
            "text/html": [
              "\n",
              "                        <script>\n",
              "                            var liveDiv = document.getElementById('live-transcription');\n",
              "                            liveDiv.innerHTML = \"Right?\\nSo that, we are going to discuss in detail.\\nI think you all see, I have uploaded two references in the internet.\\nSo you all need to go through the two references,\\nand identify the key points.\";\n",
              "                            liveDiv.parentElement.scrollTop = liveDiv.parentElement.scrollHeight;\n",
              "                            liveDiv.style.color = \"#ffffff\"; // Ensure text remains white\n",
              "                        </script>\n",
              "                        "
            ]
          },
          "metadata": {}
        },
        {
          "output_type": "display_data",
          "data": {
            "text/plain": [
              "<IPython.core.display.HTML object>"
            ],
            "text/html": [
              "\n",
              "                    <script>\n",
              "                        document.getElementById('transcription-progress').style.width = '52%';\n",
              "                        document.getElementById('transcription-status').textContent = 'Transcription in progress...';\n",
              "                    </script>\n",
              "                    "
            ]
          },
          "metadata": {}
        },
        {
          "output_type": "display_data",
          "data": {
            "text/plain": [
              "<IPython.core.display.HTML object>"
            ],
            "text/html": [
              "\n",
              "                        <script>\n",
              "                            var liveDiv = document.getElementById('live-transcription');\n",
              "                            liveDiv.innerHTML = \"So that, we are going to discuss in detail.\\nI think you all see, I have uploaded two references in the internet.\\nSo you all need to go through the two references,\\nand identify the key points.\\nRight?\";\n",
              "                            liveDiv.parentElement.scrollTop = liveDiv.parentElement.scrollHeight;\n",
              "                            liveDiv.style.color = \"#ffffff\"; // Ensure text remains white\n",
              "                        </script>\n",
              "                        "
            ]
          },
          "metadata": {}
        },
        {
          "output_type": "display_data",
          "data": {
            "text/plain": [
              "<IPython.core.display.HTML object>"
            ],
            "text/html": [
              "\n",
              "                    <script>\n",
              "                        document.getElementById('transcription-progress').style.width = '53%';\n",
              "                        document.getElementById('transcription-status').textContent = 'Transcription in progress...';\n",
              "                    </script>\n",
              "                    "
            ]
          },
          "metadata": {}
        },
        {
          "output_type": "display_data",
          "data": {
            "text/plain": [
              "<IPython.core.display.HTML object>"
            ],
            "text/html": [
              "\n",
              "                        <script>\n",
              "                            var liveDiv = document.getElementById('live-transcription');\n",
              "                            liveDiv.innerHTML = \"I think you all see, I have uploaded two references in the internet.\\nSo you all need to go through the two references,\\nand identify the key points.\\nRight?\\nSo you have to basically go through them.\";\n",
              "                            liveDiv.parentElement.scrollTop = liveDiv.parentElement.scrollHeight;\n",
              "                            liveDiv.style.color = \"#ffffff\"; // Ensure text remains white\n",
              "                        </script>\n",
              "                        "
            ]
          },
          "metadata": {}
        },
        {
          "output_type": "display_data",
          "data": {
            "text/plain": [
              "<IPython.core.display.HTML object>"
            ],
            "text/html": [
              "\n",
              "                    <script>\n",
              "                        document.getElementById('transcription-progress').style.width = '54%';\n",
              "                        document.getElementById('transcription-status').textContent = 'Transcription in progress...';\n",
              "                    </script>\n",
              "                    "
            ]
          },
          "metadata": {}
        },
        {
          "output_type": "display_data",
          "data": {
            "text/plain": [
              "<IPython.core.display.HTML object>"
            ],
            "text/html": [
              "\n",
              "                        <script>\n",
              "                            var liveDiv = document.getElementById('live-transcription');\n",
              "                            liveDiv.innerHTML = \"So you all need to go through the two references,\\nand identify the key points.\\nRight?\\nSo you have to basically go through them.\\nYou can browse through the introduction.\";\n",
              "                            liveDiv.parentElement.scrollTop = liveDiv.parentElement.scrollHeight;\n",
              "                            liveDiv.style.color = \"#ffffff\"; // Ensure text remains white\n",
              "                        </script>\n",
              "                        "
            ]
          },
          "metadata": {}
        },
        {
          "output_type": "display_data",
          "data": {
            "text/plain": [
              "<IPython.core.display.HTML object>"
            ],
            "text/html": [
              "\n",
              "                    <script>\n",
              "                        document.getElementById('transcription-progress').style.width = '55%';\n",
              "                        document.getElementById('transcription-status').textContent = 'Transcription in progress...';\n",
              "                    </script>\n",
              "                    "
            ]
          },
          "metadata": {}
        },
        {
          "output_type": "display_data",
          "data": {
            "text/plain": [
              "<IPython.core.display.HTML object>"
            ],
            "text/html": [
              "\n",
              "                        <script>\n",
              "                            var liveDiv = document.getElementById('live-transcription');\n",
              "                            liveDiv.innerHTML = \"and identify the key points.\\nRight?\\nSo you have to basically go through them.\\nYou can browse through the introduction.\\nYou will get more information about the marker-assisted selection.\";\n",
              "                            liveDiv.parentElement.scrollTop = liveDiv.parentElement.scrollHeight;\n",
              "                            liveDiv.style.color = \"#ffffff\"; // Ensure text remains white\n",
              "                        </script>\n",
              "                        "
            ]
          },
          "metadata": {}
        },
        {
          "output_type": "display_data",
          "data": {
            "text/plain": [
              "<IPython.core.display.HTML object>"
            ],
            "text/html": [
              "\n",
              "                    <script>\n",
              "                        document.getElementById('transcription-progress').style.width = '56%';\n",
              "                        document.getElementById('transcription-status').textContent = 'Transcription in progress...';\n",
              "                    </script>\n",
              "                    "
            ]
          },
          "metadata": {}
        },
        {
          "output_type": "display_data",
          "data": {
            "text/plain": [
              "<IPython.core.display.HTML object>"
            ],
            "text/html": [
              "\n",
              "                        <script>\n",
              "                            var liveDiv = document.getElementById('live-transcription');\n",
              "                            liveDiv.innerHTML = \"Right?\\nSo you have to basically go through them.\\nYou can browse through the introduction.\\nYou will get more information about the marker-assisted selection.\\nAnd then, mainly the methodology section.\";\n",
              "                            liveDiv.parentElement.scrollTop = liveDiv.parentElement.scrollHeight;\n",
              "                            liveDiv.style.color = \"#ffffff\"; // Ensure text remains white\n",
              "                        </script>\n",
              "                        "
            ]
          },
          "metadata": {}
        },
        {
          "output_type": "display_data",
          "data": {
            "text/plain": [
              "<IPython.core.display.HTML object>"
            ],
            "text/html": [
              "\n",
              "                    <script>\n",
              "                        document.getElementById('transcription-progress').style.width = '57%';\n",
              "                        document.getElementById('transcription-status').textContent = 'Transcription in progress...';\n",
              "                    </script>\n",
              "                    "
            ]
          },
          "metadata": {}
        },
        {
          "output_type": "display_data",
          "data": {
            "text/plain": [
              "<IPython.core.display.HTML object>"
            ],
            "text/html": [
              "\n",
              "                        <script>\n",
              "                            var liveDiv = document.getElementById('live-transcription');\n",
              "                            liveDiv.innerHTML = \"So you have to basically go through them.\\nYou can browse through the introduction.\\nYou will get more information about the marker-assisted selection.\\nAnd then, mainly the methodology section.\\nHow they have planned their process.\";\n",
              "                            liveDiv.parentElement.scrollTop = liveDiv.parentElement.scrollHeight;\n",
              "                            liveDiv.style.color = \"#ffffff\"; // Ensure text remains white\n",
              "                        </script>\n",
              "                        "
            ]
          },
          "metadata": {}
        },
        {
          "output_type": "display_data",
          "data": {
            "text/plain": [
              "<IPython.core.display.HTML object>"
            ],
            "text/html": [
              "\n",
              "                    <script>\n",
              "                        document.getElementById('transcription-progress').style.width = '58%';\n",
              "                        document.getElementById('transcription-status').textContent = 'Transcription in progress...';\n",
              "                    </script>\n",
              "                    "
            ]
          },
          "metadata": {}
        },
        {
          "output_type": "display_data",
          "data": {
            "text/plain": [
              "<IPython.core.display.HTML object>"
            ],
            "text/html": [
              "\n",
              "                        <script>\n",
              "                            var liveDiv = document.getElementById('live-transcription');\n",
              "                            liveDiv.innerHTML = \"You can browse through the introduction.\\nYou will get more information about the marker-assisted selection.\\nAnd then, mainly the methodology section.\\nHow they have planned their process.\\nHow they have used the markers.\";\n",
              "                            liveDiv.parentElement.scrollTop = liveDiv.parentElement.scrollHeight;\n",
              "                            liveDiv.style.color = \"#ffffff\"; // Ensure text remains white\n",
              "                        </script>\n",
              "                        "
            ]
          },
          "metadata": {}
        },
        {
          "output_type": "display_data",
          "data": {
            "text/plain": [
              "<IPython.core.display.HTML object>"
            ],
            "text/html": [
              "\n",
              "                    <script>\n",
              "                        document.getElementById('transcription-progress').style.width = '59%';\n",
              "                        document.getElementById('transcription-status').textContent = 'Transcription in progress...';\n",
              "                    </script>\n",
              "                    "
            ]
          },
          "metadata": {}
        },
        {
          "output_type": "display_data",
          "data": {
            "text/plain": [
              "<IPython.core.display.HTML object>"
            ],
            "text/html": [
              "\n",
              "                        <script>\n",
              "                            var liveDiv = document.getElementById('live-transcription');\n",
              "                            liveDiv.innerHTML = \"You will get more information about the marker-assisted selection.\\nAnd then, mainly the methodology section.\\nHow they have planned their process.\\nHow they have used the markers.\\nIn which stage they have used the markers.\";\n",
              "                            liveDiv.parentElement.scrollTop = liveDiv.parentElement.scrollHeight;\n",
              "                            liveDiv.style.color = \"#ffffff\"; // Ensure text remains white\n",
              "                        </script>\n",
              "                        "
            ]
          },
          "metadata": {}
        },
        {
          "output_type": "display_data",
          "data": {
            "text/plain": [
              "<IPython.core.display.HTML object>"
            ],
            "text/html": [
              "\n",
              "                    <script>\n",
              "                        document.getElementById('transcription-progress').style.width = '50%';\n",
              "                        document.getElementById('transcription-status').textContent = 'Transcription in progress...';\n",
              "                    </script>\n",
              "                    "
            ]
          },
          "metadata": {}
        },
        {
          "output_type": "display_data",
          "data": {
            "text/plain": [
              "<IPython.core.display.HTML object>"
            ],
            "text/html": [
              "\n",
              "                        <script>\n",
              "                            var liveDiv = document.getElementById('live-transcription');\n",
              "                            liveDiv.innerHTML = \"And then, mainly the methodology section.\\nHow they have planned their process.\\nHow they have used the markers.\\nIn which stage they have used the markers.\\nSo you will also get something similar at the exam.\";\n",
              "                            liveDiv.parentElement.scrollTop = liveDiv.parentElement.scrollHeight;\n",
              "                            liveDiv.style.color = \"#ffffff\"; // Ensure text remains white\n",
              "                        </script>\n",
              "                        "
            ]
          },
          "metadata": {}
        },
        {
          "output_type": "display_data",
          "data": {
            "text/plain": [
              "<IPython.core.display.HTML object>"
            ],
            "text/html": [
              "\n",
              "                    <script>\n",
              "                        document.getElementById('transcription-progress').style.width = '51%';\n",
              "                        document.getElementById('transcription-status').textContent = 'Transcription in progress...';\n",
              "                    </script>\n",
              "                    "
            ]
          },
          "metadata": {}
        },
        {
          "output_type": "display_data",
          "data": {
            "text/plain": [
              "<IPython.core.display.HTML object>"
            ],
            "text/html": [
              "\n",
              "                        <script>\n",
              "                            var liveDiv = document.getElementById('live-transcription');\n",
              "                            liveDiv.innerHTML = \"How they have planned their process.\\nHow they have used the markers.\\nIn which stage they have used the markers.\\nSo you will also get something similar at the exam.\\nRight?\";\n",
              "                            liveDiv.parentElement.scrollTop = liveDiv.parentElement.scrollHeight;\n",
              "                            liveDiv.style.color = \"#ffffff\"; // Ensure text remains white\n",
              "                        </script>\n",
              "                        "
            ]
          },
          "metadata": {}
        },
        {
          "output_type": "display_data",
          "data": {
            "text/plain": [
              "<IPython.core.display.HTML object>"
            ],
            "text/html": [
              "\n",
              "                    <script>\n",
              "                        document.getElementById('transcription-progress').style.width = '52%';\n",
              "                        document.getElementById('transcription-status').textContent = 'Transcription in progress...';\n",
              "                    </script>\n",
              "                    "
            ]
          },
          "metadata": {}
        },
        {
          "output_type": "display_data",
          "data": {
            "text/plain": [
              "<IPython.core.display.HTML object>"
            ],
            "text/html": [
              "\n",
              "                        <script>\n",
              "                            var liveDiv = document.getElementById('live-transcription');\n",
              "                            liveDiv.innerHTML = \"How they have used the markers.\\nIn which stage they have used the markers.\\nSo you will also get something similar at the exam.\\nRight?\\nI will create a scenario, and I will give a genetic match,\";\n",
              "                            liveDiv.parentElement.scrollTop = liveDiv.parentElement.scrollHeight;\n",
              "                            liveDiv.style.color = \"#ffffff\"; // Ensure text remains white\n",
              "                        </script>\n",
              "                        "
            ]
          },
          "metadata": {}
        },
        {
          "output_type": "display_data",
          "data": {
            "text/plain": [
              "<IPython.core.display.HTML object>"
            ],
            "text/html": [
              "\n",
              "                    <script>\n",
              "                        document.getElementById('transcription-progress').style.width = '53%';\n",
              "                        document.getElementById('transcription-status').textContent = 'Transcription in progress...';\n",
              "                    </script>\n",
              "                    "
            ]
          },
          "metadata": {}
        },
        {
          "output_type": "display_data",
          "data": {
            "text/plain": [
              "<IPython.core.display.HTML object>"
            ],
            "text/html": [
              "\n",
              "                        <script>\n",
              "                            var liveDiv = document.getElementById('live-transcription');\n",
              "                            liveDiv.innerHTML = \"In which stage they have used the markers.\\nSo you will also get something similar at the exam.\\nRight?\\nI will create a scenario, and I will give a genetic match,\\nand ask you all to design it.\";\n",
              "                            liveDiv.parentElement.scrollTop = liveDiv.parentElement.scrollHeight;\n",
              "                            liveDiv.style.color = \"#ffffff\"; // Ensure text remains white\n",
              "                        </script>\n",
              "                        "
            ]
          },
          "metadata": {}
        },
        {
          "output_type": "display_data",
          "data": {
            "text/plain": [
              "<IPython.core.display.HTML object>"
            ],
            "text/html": [
              "\n",
              "                    <script>\n",
              "                        document.getElementById('transcription-progress').style.width = '54%';\n",
              "                        document.getElementById('transcription-status').textContent = 'Transcription in progress...';\n",
              "                    </script>\n",
              "                    "
            ]
          },
          "metadata": {}
        },
        {
          "output_type": "display_data",
          "data": {
            "text/plain": [
              "<IPython.core.display.HTML object>"
            ],
            "text/html": [
              "\n",
              "                        <script>\n",
              "                            var liveDiv = document.getElementById('live-transcription');\n",
              "                            liveDiv.innerHTML = \"So you will also get something similar at the exam.\\nRight?\\nI will create a scenario, and I will give a genetic match,\\nand ask you all to design it.\\nThen I want all the steps in the correct order.\";\n",
              "                            liveDiv.parentElement.scrollTop = liveDiv.parentElement.scrollHeight;\n",
              "                            liveDiv.style.color = \"#ffffff\"; // Ensure text remains white\n",
              "                        </script>\n",
              "                        "
            ]
          },
          "metadata": {}
        },
        {
          "output_type": "display_data",
          "data": {
            "text/plain": [
              "<IPython.core.display.HTML object>"
            ],
            "text/html": [
              "\n",
              "                    <script>\n",
              "                        document.getElementById('transcription-progress').style.width = '55%';\n",
              "                        document.getElementById('transcription-status').textContent = 'Transcription in progress...';\n",
              "                    </script>\n",
              "                    "
            ]
          },
          "metadata": {}
        },
        {
          "output_type": "display_data",
          "data": {
            "text/plain": [
              "<IPython.core.display.HTML object>"
            ],
            "text/html": [
              "\n",
              "                        <script>\n",
              "                            var liveDiv = document.getElementById('live-transcription');\n",
              "                            liveDiv.innerHTML = \"Right?\\nI will create a scenario, and I will give a genetic match,\\nand ask you all to design it.\\nThen I want all the steps in the correct order.\\nIf you are writing here and there, you will use markers.\";\n",
              "                            liveDiv.parentElement.scrollTop = liveDiv.parentElement.scrollHeight;\n",
              "                            liveDiv.style.color = \"#ffffff\"; // Ensure text remains white\n",
              "                        </script>\n",
              "                        "
            ]
          },
          "metadata": {}
        },
        {
          "output_type": "display_data",
          "data": {
            "text/plain": [
              "<IPython.core.display.HTML object>"
            ],
            "text/html": [
              "\n",
              "                    <script>\n",
              "                        document.getElementById('transcription-progress').style.width = '56%';\n",
              "                        document.getElementById('transcription-status').textContent = 'Transcription in progress...';\n",
              "                    </script>\n",
              "                    "
            ]
          },
          "metadata": {}
        },
        {
          "output_type": "display_data",
          "data": {
            "text/plain": [
              "<IPython.core.display.HTML object>"
            ],
            "text/html": [
              "\n",
              "                        <script>\n",
              "                            var liveDiv = document.getElementById('live-transcription');\n",
              "                            liveDiv.innerHTML = \"I will create a scenario, and I will give a genetic match,\\nand ask you all to design it.\\nThen I want all the steps in the correct order.\\nIf you are writing here and there, you will use markers.\\nRight?\";\n",
              "                            liveDiv.parentElement.scrollTop = liveDiv.parentElement.scrollHeight;\n",
              "                            liveDiv.style.color = \"#ffffff\"; // Ensure text remains white\n",
              "                        </script>\n",
              "                        "
            ]
          },
          "metadata": {}
        },
        {
          "output_type": "display_data",
          "data": {
            "text/plain": [
              "<IPython.core.display.HTML object>"
            ],
            "text/html": [
              "\n",
              "                    <script>\n",
              "                        document.getElementById('transcription-progress').style.width = '57%';\n",
              "                        document.getElementById('transcription-status').textContent = 'Transcription in progress...';\n",
              "                    </script>\n",
              "                    "
            ]
          },
          "metadata": {}
        },
        {
          "output_type": "display_data",
          "data": {
            "text/plain": [
              "<IPython.core.display.HTML object>"
            ],
            "text/html": [
              "\n",
              "                        <script>\n",
              "                            var liveDiv = document.getElementById('live-transcription');\n",
              "                            liveDiv.innerHTML = \"and ask you all to design it.\\nThen I want all the steps in the correct order.\\nIf you are writing here and there, you will use markers.\\nRight?\\nThat is very important.\";\n",
              "                            liveDiv.parentElement.scrollTop = liveDiv.parentElement.scrollHeight;\n",
              "                            liveDiv.style.color = \"#ffffff\"; // Ensure text remains white\n",
              "                        </script>\n",
              "                        "
            ]
          },
          "metadata": {}
        },
        {
          "output_type": "display_data",
          "data": {
            "text/plain": [
              "<IPython.core.display.HTML object>"
            ],
            "text/html": [
              "\n",
              "                    <script>\n",
              "                        document.getElementById('transcription-progress').style.width = '58%';\n",
              "                        document.getElementById('transcription-status').textContent = 'Transcription in progress...';\n",
              "                    </script>\n",
              "                    "
            ]
          },
          "metadata": {}
        },
        {
          "output_type": "display_data",
          "data": {
            "text/plain": [
              "<IPython.core.display.HTML object>"
            ],
            "text/html": [
              "\n",
              "                        <script>\n",
              "                            var liveDiv = document.getElementById('live-transcription');\n",
              "                            liveDiv.innerHTML = \"Then I want all the steps in the correct order.\\nIf you are writing here and there, you will use markers.\\nRight?\\nThat is very important.\\nSo these are the marker-assisted grading scales.\";\n",
              "                            liveDiv.parentElement.scrollTop = liveDiv.parentElement.scrollHeight;\n",
              "                            liveDiv.style.color = \"#ffffff\"; // Ensure text remains white\n",
              "                        </script>\n",
              "                        "
            ]
          },
          "metadata": {}
        },
        {
          "output_type": "display_data",
          "data": {
            "text/plain": [
              "<IPython.core.display.HTML object>"
            ],
            "text/html": [
              "\n",
              "                    <script>\n",
              "                        document.getElementById('transcription-progress').style.width = '59%';\n",
              "                        document.getElementById('transcription-status').textContent = 'Transcription in progress...';\n",
              "                    </script>\n",
              "                    "
            ]
          },
          "metadata": {}
        },
        {
          "output_type": "display_data",
          "data": {
            "text/plain": [
              "<IPython.core.display.HTML object>"
            ],
            "text/html": [
              "\n",
              "                        <script>\n",
              "                            var liveDiv = document.getElementById('live-transcription');\n",
              "                            liveDiv.innerHTML = \"If you are writing here and there, you will use markers.\\nRight?\\nThat is very important.\\nSo these are the marker-assisted grading scales.\\nSo we can apply markers in back-crossing.\";\n",
              "                            liveDiv.parentElement.scrollTop = liveDiv.parentElement.scrollHeight;\n",
              "                            liveDiv.style.color = \"#ffffff\"; // Ensure text remains white\n",
              "                        </script>\n",
              "                        "
            ]
          },
          "metadata": {}
        },
        {
          "output_type": "display_data",
          "data": {
            "text/plain": [
              "<IPython.core.display.HTML object>"
            ],
            "text/html": [
              "\n",
              "                    <script>\n",
              "                        document.getElementById('transcription-progress').style.width = '50%';\n",
              "                        document.getElementById('transcription-status').textContent = 'Transcription in progress...';\n",
              "                    </script>\n",
              "                    "
            ]
          },
          "metadata": {}
        },
        {
          "output_type": "display_data",
          "data": {
            "text/plain": [
              "<IPython.core.display.HTML object>"
            ],
            "text/html": [
              "\n",
              "                        <script>\n",
              "                            var liveDiv = document.getElementById('live-transcription');\n",
              "                            liveDiv.innerHTML = \"Right?\\nThat is very important.\\nSo these are the marker-assisted grading scales.\\nSo we can apply markers in back-crossing.\\nThat is called marker-assisted back-cross grading.\";\n",
              "                            liveDiv.parentElement.scrollTop = liveDiv.parentElement.scrollHeight;\n",
              "                            liveDiv.style.color = \"#ffffff\"; // Ensure text remains white\n",
              "                        </script>\n",
              "                        "
            ]
          },
          "metadata": {}
        },
        {
          "output_type": "display_data",
          "data": {
            "text/plain": [
              "<IPython.core.display.HTML object>"
            ],
            "text/html": [
              "\n",
              "                    <script>\n",
              "                        document.getElementById('transcription-progress').style.width = '51%';\n",
              "                        document.getElementById('transcription-status').textContent = 'Transcription in progress...';\n",
              "                    </script>\n",
              "                    "
            ]
          },
          "metadata": {}
        },
        {
          "output_type": "display_data",
          "data": {
            "text/plain": [
              "<IPython.core.display.HTML object>"
            ],
            "text/html": [
              "\n",
              "                        <script>\n",
              "                            var liveDiv = document.getElementById('live-transcription');\n",
              "                            liveDiv.innerHTML = \"That is very important.\\nSo these are the marker-assisted grading scales.\\nSo we can apply markers in back-crossing.\\nThat is called marker-assisted back-cross grading.\\nSo we are going to discuss in detail how we can use markers\";\n",
              "                            liveDiv.parentElement.scrollTop = liveDiv.parentElement.scrollHeight;\n",
              "                            liveDiv.style.color = \"#ffffff\"; // Ensure text remains white\n",
              "                        </script>\n",
              "                        "
            ]
          },
          "metadata": {}
        },
        {
          "output_type": "display_data",
          "data": {
            "text/plain": [
              "<IPython.core.display.HTML object>"
            ],
            "text/html": [
              "\n",
              "                    <script>\n",
              "                        document.getElementById('transcription-progress').style.width = '52%';\n",
              "                        document.getElementById('transcription-status').textContent = 'Transcription in progress...';\n",
              "                    </script>\n",
              "                    "
            ]
          },
          "metadata": {}
        },
        {
          "output_type": "display_data",
          "data": {
            "text/plain": [
              "<IPython.core.display.HTML object>"
            ],
            "text/html": [
              "\n",
              "                        <script>\n",
              "                            var liveDiv = document.getElementById('live-transcription');\n",
              "                            liveDiv.innerHTML = \"So these are the marker-assisted grading scales.\\nSo we can apply markers in back-crossing.\\nThat is called marker-assisted back-cross grading.\\nSo we are going to discuss in detail how we can use markers\\nin marker-assisted back-cross grading programs.\";\n",
              "                            liveDiv.parentElement.scrollTop = liveDiv.parentElement.scrollHeight;\n",
              "                            liveDiv.style.color = \"#ffffff\"; // Ensure text remains white\n",
              "                        </script>\n",
              "                        "
            ]
          },
          "metadata": {}
        },
        {
          "output_type": "display_data",
          "data": {
            "text/plain": [
              "<IPython.core.display.HTML object>"
            ],
            "text/html": [
              "\n",
              "                    <script>\n",
              "                        document.getElementById('transcription-progress').style.width = '53%';\n",
              "                        document.getElementById('transcription-status').textContent = 'Transcription in progress...';\n",
              "                    </script>\n",
              "                    "
            ]
          },
          "metadata": {}
        },
        {
          "output_type": "display_data",
          "data": {
            "text/plain": [
              "<IPython.core.display.HTML object>"
            ],
            "text/html": [
              "\n",
              "                        <script>\n",
              "                            var liveDiv = document.getElementById('live-transcription');\n",
              "                            liveDiv.innerHTML = \"So we can apply markers in back-crossing.\\nThat is called marker-assisted back-cross grading.\\nSo we are going to discuss in detail how we can use markers\\nin marker-assisted back-cross grading programs.\\nAnd marker-assisted gene genealogy of stacking.\";\n",
              "                            liveDiv.parentElement.scrollTop = liveDiv.parentElement.scrollHeight;\n",
              "                            liveDiv.style.color = \"#ffffff\"; // Ensure text remains white\n",
              "                        </script>\n",
              "                        "
            ]
          },
          "metadata": {}
        },
        {
          "output_type": "display_data",
          "data": {
            "text/plain": [
              "<IPython.core.display.HTML object>"
            ],
            "text/html": [
              "\n",
              "                    <script>\n",
              "                        document.getElementById('transcription-progress').style.width = '54%';\n",
              "                        document.getElementById('transcription-status').textContent = 'Transcription in progress...';\n",
              "                    </script>\n",
              "                    "
            ]
          },
          "metadata": {}
        },
        {
          "output_type": "display_data",
          "data": {
            "text/plain": [
              "<IPython.core.display.HTML object>"
            ],
            "text/html": [
              "\n",
              "                        <script>\n",
              "                            var liveDiv = document.getElementById('live-transcription');\n",
              "                            liveDiv.innerHTML = \"That is called marker-assisted back-cross grading.\\nSo we are going to discuss in detail how we can use markers\\nin marker-assisted back-cross grading programs.\\nAnd marker-assisted gene genealogy of stacking.\\nSo I explain what is gene stacking.\";\n",
              "                            liveDiv.parentElement.scrollTop = liveDiv.parentElement.scrollHeight;\n",
              "                            liveDiv.style.color = \"#ffffff\"; // Ensure text remains white\n",
              "                        </script>\n",
              "                        "
            ]
          },
          "metadata": {}
        },
        {
          "output_type": "display_data",
          "data": {
            "text/plain": [
              "<IPython.core.display.HTML object>"
            ],
            "text/html": [
              "\n",
              "                    <script>\n",
              "                        document.getElementById('transcription-progress').style.width = '55%';\n",
              "                        document.getElementById('transcription-status').textContent = 'Transcription in progress...';\n",
              "                    </script>\n",
              "                    "
            ]
          },
          "metadata": {}
        },
        {
          "output_type": "display_data",
          "data": {
            "text/plain": [
              "<IPython.core.display.HTML object>"
            ],
            "text/html": [
              "\n",
              "                        <script>\n",
              "                            var liveDiv = document.getElementById('live-transcription');\n",
              "                            liveDiv.innerHTML = \"So we are going to discuss in detail how we can use markers\\nin marker-assisted back-cross grading programs.\\nAnd marker-assisted gene genealogy of stacking.\\nSo I explain what is gene stacking.\\nWhat does it mean?\";\n",
              "                            liveDiv.parentElement.scrollTop = liveDiv.parentElement.scrollHeight;\n",
              "                            liveDiv.style.color = \"#ffffff\"; // Ensure text remains white\n",
              "                        </script>\n",
              "                        "
            ]
          },
          "metadata": {}
        },
        {
          "output_type": "display_data",
          "data": {
            "text/plain": [
              "<IPython.core.display.HTML object>"
            ],
            "text/html": [
              "\n",
              "                    <script>\n",
              "                        document.getElementById('transcription-progress').style.width = '56%';\n",
              "                        document.getElementById('transcription-status').textContent = 'Transcription in progress...';\n",
              "                    </script>\n",
              "                    "
            ]
          },
          "metadata": {}
        },
        {
          "output_type": "display_data",
          "data": {
            "text/plain": [
              "<IPython.core.display.HTML object>"
            ],
            "text/html": [
              "\n",
              "                        <script>\n",
              "                            var liveDiv = document.getElementById('live-transcription');\n",
              "                            liveDiv.innerHTML = \"in marker-assisted back-cross grading programs.\\nAnd marker-assisted gene genealogy of stacking.\\nSo I explain what is gene stacking.\\nWhat does it mean?\\nWhat is gene meaning?\";\n",
              "                            liveDiv.parentElement.scrollTop = liveDiv.parentElement.scrollHeight;\n",
              "                            liveDiv.style.color = \"#ffffff\"; // Ensure text remains white\n",
              "                        </script>\n",
              "                        "
            ]
          },
          "metadata": {}
        },
        {
          "output_type": "display_data",
          "data": {
            "text/plain": [
              "<IPython.core.display.HTML object>"
            ],
            "text/html": [
              "\n",
              "                    <script>\n",
              "                        document.getElementById('transcription-progress').style.width = '57%';\n",
              "                        document.getElementById('transcription-status').textContent = 'Transcription in progress...';\n",
              "                    </script>\n",
              "                    "
            ]
          },
          "metadata": {}
        },
        {
          "output_type": "display_data",
          "data": {
            "text/plain": [
              "<IPython.core.display.HTML object>"
            ],
            "text/html": [
              "\n",
              "                        <script>\n",
              "                            var liveDiv = document.getElementById('live-transcription');\n",
              "                            liveDiv.innerHTML = \"And marker-assisted gene genealogy of stacking.\\nSo I explain what is gene stacking.\\nWhat does it mean?\\nWhat is gene meaning?\\nWhat is gene meaning?\";\n",
              "                            liveDiv.parentElement.scrollTop = liveDiv.parentElement.scrollHeight;\n",
              "                            liveDiv.style.color = \"#ffffff\"; // Ensure text remains white\n",
              "                        </script>\n",
              "                        "
            ]
          },
          "metadata": {}
        },
        {
          "output_type": "display_data",
          "data": {
            "text/plain": [
              "<IPython.core.display.HTML object>"
            ],
            "text/html": [
              "\n",
              "                    <script>\n",
              "                        document.getElementById('transcription-progress').style.width = '58%';\n",
              "                        document.getElementById('transcription-status').textContent = 'Transcription in progress...';\n",
              "                    </script>\n",
              "                    "
            ]
          },
          "metadata": {}
        },
        {
          "output_type": "display_data",
          "data": {
            "text/plain": [
              "<IPython.core.display.HTML object>"
            ],
            "text/html": [
              "\n",
              "                        <script>\n",
              "                            var liveDiv = document.getElementById('live-transcription');\n",
              "                            liveDiv.innerHTML = \"So I explain what is gene stacking.\\nWhat does it mean?\\nWhat is gene meaning?\\nWhat is gene meaning?\\nIn a single crop.\";\n",
              "                            liveDiv.parentElement.scrollTop = liveDiv.parentElement.scrollHeight;\n",
              "                            liveDiv.style.color = \"#ffffff\"; // Ensure text remains white\n",
              "                        </script>\n",
              "                        "
            ]
          },
          "metadata": {}
        },
        {
          "output_type": "display_data",
          "data": {
            "text/plain": [
              "<IPython.core.display.HTML object>"
            ],
            "text/html": [
              "\n",
              "                    <script>\n",
              "                        document.getElementById('transcription-progress').style.width = '59%';\n",
              "                        document.getElementById('transcription-status').textContent = 'Transcription in progress...';\n",
              "                    </script>\n",
              "                    "
            ]
          },
          "metadata": {}
        },
        {
          "output_type": "display_data",
          "data": {
            "text/plain": [
              "<IPython.core.display.HTML object>"
            ],
            "text/html": [
              "\n",
              "                        <script>\n",
              "                            var liveDiv = document.getElementById('live-transcription');\n",
              "                            liveDiv.innerHTML = \"What does it mean?\\nWhat is gene meaning?\\nWhat is gene meaning?\\nIn a single crop.\\nRight?\";\n",
              "                            liveDiv.parentElement.scrollTop = liveDiv.parentElement.scrollHeight;\n",
              "                            liveDiv.style.color = \"#ffffff\"; // Ensure text remains white\n",
              "                        </script>\n",
              "                        "
            ]
          },
          "metadata": {}
        },
        {
          "output_type": "display_data",
          "data": {
            "text/plain": [
              "<IPython.core.display.HTML object>"
            ],
            "text/html": [
              "\n",
              "                    <script>\n",
              "                        document.getElementById('transcription-progress').style.width = '50%';\n",
              "                        document.getElementById('transcription-status').textContent = 'Transcription in progress...';\n",
              "                    </script>\n",
              "                    "
            ]
          },
          "metadata": {}
        },
        {
          "output_type": "display_data",
          "data": {
            "text/plain": [
              "<IPython.core.display.HTML object>"
            ],
            "text/html": [
              "\n",
              "                        <script>\n",
              "                            var liveDiv = document.getElementById('live-transcription');\n",
              "                            liveDiv.innerHTML = \"What is gene meaning?\\nWhat is gene meaning?\\nIn a single crop.\\nRight?\\nSo early generation markers is the selection as the name says.\";\n",
              "                            liveDiv.parentElement.scrollTop = liveDiv.parentElement.scrollHeight;\n",
              "                            liveDiv.style.color = \"#ffffff\"; // Ensure text remains white\n",
              "                        </script>\n",
              "                        "
            ]
          },
          "metadata": {}
        },
        {
          "output_type": "display_data",
          "data": {
            "text/plain": [
              "<IPython.core.display.HTML object>"
            ],
            "text/html": [
              "\n",
              "                    <script>\n",
              "                        document.getElementById('transcription-progress').style.width = '51%';\n",
              "                        document.getElementById('transcription-status').textContent = 'Transcription in progress...';\n",
              "                    </script>\n",
              "                    "
            ]
          },
          "metadata": {}
        },
        {
          "output_type": "display_data",
          "data": {
            "text/plain": [
              "<IPython.core.display.HTML object>"
            ],
            "text/html": [
              "\n",
              "                        <script>\n",
              "                            var liveDiv = document.getElementById('live-transcription');\n",
              "                            liveDiv.innerHTML = \"What is gene meaning?\\nIn a single crop.\\nRight?\\nSo early generation markers is the selection as the name says.\\nWe are using the markers at the early stage to describe the\";\n",
              "                            liveDiv.parentElement.scrollTop = liveDiv.parentElement.scrollHeight;\n",
              "                            liveDiv.style.color = \"#ffffff\"; // Ensure text remains white\n",
              "                        </script>\n",
              "                        "
            ]
          },
          "metadata": {}
        },
        {
          "output_type": "display_data",
          "data": {
            "text/plain": [
              "<IPython.core.display.HTML object>"
            ],
            "text/html": [
              "\n",
              "                    <script>\n",
              "                        document.getElementById('transcription-progress').style.width = '52%';\n",
              "                        document.getElementById('transcription-status').textContent = 'Transcription in progress...';\n",
              "                    </script>\n",
              "                    "
            ]
          },
          "metadata": {}
        },
        {
          "output_type": "display_data",
          "data": {
            "text/plain": [
              "<IPython.core.display.HTML object>"
            ],
            "text/html": [
              "\n",
              "                        <script>\n",
              "                            var liveDiv = document.getElementById('live-transcription');\n",
              "                            liveDiv.innerHTML = \"In a single crop.\\nRight?\\nSo early generation markers is the selection as the name says.\\nWe are using the markers at the early stage to describe the\\ntransplant.\";\n",
              "                            liveDiv.parentElement.scrollTop = liveDiv.parentElement.scrollHeight;\n",
              "                            liveDiv.style.color = \"#ffffff\"; // Ensure text remains white\n",
              "                        </script>\n",
              "                        "
            ]
          },
          "metadata": {}
        },
        {
          "output_type": "display_data",
          "data": {
            "text/plain": [
              "<IPython.core.display.HTML object>"
            ],
            "text/html": [
              "\n",
              "                    <script>\n",
              "                        document.getElementById('transcription-progress').style.width = '53%';\n",
              "                        document.getElementById('transcription-status').textContent = 'Transcription in progress...';\n",
              "                    </script>\n",
              "                    "
            ]
          },
          "metadata": {}
        },
        {
          "output_type": "display_data",
          "data": {
            "text/plain": [
              "<IPython.core.display.HTML object>"
            ],
            "text/html": [
              "\n",
              "                        <script>\n",
              "                            var liveDiv = document.getElementById('live-transcription');\n",
              "                            liveDiv.innerHTML = \"Right?\\nSo early generation markers is the selection as the name says.\\nWe are using the markers at the early stage to describe the\\ntransplant.\\nAnd these are our characters.\";\n",
              "                            liveDiv.parentElement.scrollTop = liveDiv.parentElement.scrollHeight;\n",
              "                            liveDiv.style.color = \"#ffffff\"; // Ensure text remains white\n",
              "                        </script>\n",
              "                        "
            ]
          },
          "metadata": {}
        },
        {
          "output_type": "display_data",
          "data": {
            "text/plain": [
              "<IPython.core.display.HTML object>"
            ],
            "text/html": [
              "\n",
              "                    <script>\n",
              "                        document.getElementById('transcription-progress').style.width = '54%';\n",
              "                        document.getElementById('transcription-status').textContent = 'Transcription in progress...';\n",
              "                    </script>\n",
              "                    "
            ]
          },
          "metadata": {}
        },
        {
          "output_type": "display_data",
          "data": {
            "text/plain": [
              "<IPython.core.display.HTML object>"
            ],
            "text/html": [
              "\n",
              "                        <script>\n",
              "                            var liveDiv = document.getElementById('live-transcription');\n",
              "                            liveDiv.innerHTML = \"So early generation markers is the selection as the name says.\\nWe are using the markers at the early stage to describe the\\ntransplant.\\nAnd these are our characters.\\nRight?\";\n",
              "                            liveDiv.parentElement.scrollTop = liveDiv.parentElement.scrollHeight;\n",
              "                            liveDiv.style.color = \"#ffffff\"; // Ensure text remains white\n",
              "                        </script>\n",
              "                        "
            ]
          },
          "metadata": {}
        },
        {
          "output_type": "display_data",
          "data": {
            "text/plain": [
              "<IPython.core.display.HTML object>"
            ],
            "text/html": [
              "\n",
              "                    <script>\n",
              "                        document.getElementById('transcription-progress').style.width = '55%';\n",
              "                        document.getElementById('transcription-status').textContent = 'Transcription in progress...';\n",
              "                    </script>\n",
              "                    "
            ]
          },
          "metadata": {}
        },
        {
          "output_type": "display_data",
          "data": {
            "text/plain": [
              "<IPython.core.display.HTML object>"
            ],
            "text/html": [
              "\n",
              "                        <script>\n",
              "                            var liveDiv = document.getElementById('live-transcription');\n",
              "                            liveDiv.innerHTML = \"We are using the markers at the early stage to describe the\\ntransplant.\\nAnd these are our characters.\\nRight?\\nAnd then we can combine the marker-assisted grading\";\n",
              "                            liveDiv.parentElement.scrollTop = liveDiv.parentElement.scrollHeight;\n",
              "                            liveDiv.style.color = \"#ffffff\"; // Ensure text remains white\n",
              "                        </script>\n",
              "                        "
            ]
          },
          "metadata": {}
        },
        {
          "output_type": "display_data",
          "data": {
            "text/plain": [
              "<IPython.core.display.HTML object>"
            ],
            "text/html": [
              "\n",
              "                    <script>\n",
              "                        document.getElementById('transcription-progress').style.width = '56%';\n",
              "                        document.getElementById('transcription-status').textContent = 'Transcription in progress...';\n",
              "                    </script>\n",
              "                    "
            ]
          },
          "metadata": {}
        },
        {
          "output_type": "display_data",
          "data": {
            "text/plain": [
              "<IPython.core.display.HTML object>"
            ],
            "text/html": [
              "\n",
              "                        <script>\n",
              "                            var liveDiv = document.getElementById('live-transcription');\n",
              "                            liveDiv.innerHTML = \"transplant.\\nAnd these are our characters.\\nRight?\\nAnd then we can combine the marker-assisted grading\\nwith the phenotype.\";\n",
              "                            liveDiv.parentElement.scrollTop = liveDiv.parentElement.scrollHeight;\n",
              "                            liveDiv.style.color = \"#ffffff\"; // Ensure text remains white\n",
              "                        </script>\n",
              "                        "
            ]
          },
          "metadata": {}
        },
        {
          "output_type": "display_data",
          "data": {
            "text/plain": [
              "<IPython.core.display.HTML object>"
            ],
            "text/html": [
              "\n",
              "                    <script>\n",
              "                        document.getElementById('transcription-progress').style.width = '57%';\n",
              "                        document.getElementById('transcription-status').textContent = 'Transcription in progress...';\n",
              "                    </script>\n",
              "                    "
            ]
          },
          "metadata": {}
        },
        {
          "output_type": "display_data",
          "data": {
            "text/plain": [
              "<IPython.core.display.HTML object>"
            ],
            "text/html": [
              "\n",
              "                        <script>\n",
              "                            var liveDiv = document.getElementById('live-transcription');\n",
              "                            liveDiv.innerHTML = \"And these are our characters.\\nRight?\\nAnd then we can combine the marker-assisted grading\\nwith the phenotype.\\nPhenotypic screening.\";\n",
              "                            liveDiv.parentElement.scrollTop = liveDiv.parentElement.scrollHeight;\n",
              "                            liveDiv.style.color = \"#ffffff\"; // Ensure text remains white\n",
              "                        </script>\n",
              "                        "
            ]
          },
          "metadata": {}
        },
        {
          "output_type": "display_data",
          "data": {
            "text/plain": [
              "<IPython.core.display.HTML object>"
            ],
            "text/html": [
              "\n",
              "                    <script>\n",
              "                        document.getElementById('transcription-progress').style.width = '58%';\n",
              "                        document.getElementById('transcription-status').textContent = 'Transcription in progress...';\n",
              "                    </script>\n",
              "                    "
            ]
          },
          "metadata": {}
        },
        {
          "output_type": "display_data",
          "data": {
            "text/plain": [
              "<IPython.core.display.HTML object>"
            ],
            "text/html": [
              "\n",
              "                        <script>\n",
              "                            var liveDiv = document.getElementById('live-transcription');\n",
              "                            liveDiv.innerHTML = \"Right?\\nAnd then we can combine the marker-assisted grading\\nwith the phenotype.\\nPhenotypic screening.\\nAfter you do the marker-assisted selection,\";\n",
              "                            liveDiv.parentElement.scrollTop = liveDiv.parentElement.scrollHeight;\n",
              "                            liveDiv.style.color = \"#ffffff\"; // Ensure text remains white\n",
              "                        </script>\n",
              "                        "
            ]
          },
          "metadata": {}
        },
        {
          "output_type": "display_data",
          "data": {
            "text/plain": [
              "<IPython.core.display.HTML object>"
            ],
            "text/html": [
              "\n",
              "                    <script>\n",
              "                        document.getElementById('transcription-progress').style.width = '59%';\n",
              "                        document.getElementById('transcription-status').textContent = 'Transcription in progress...';\n",
              "                    </script>\n",
              "                    "
            ]
          },
          "metadata": {}
        },
        {
          "output_type": "display_data",
          "data": {
            "text/plain": [
              "<IPython.core.display.HTML object>"
            ],
            "text/html": [
              "\n",
              "                        <script>\n",
              "                            var liveDiv = document.getElementById('live-transcription');\n",
              "                            liveDiv.innerHTML = \"And then we can combine the marker-assisted grading\\nwith the phenotype.\\nPhenotypic screening.\\nAfter you do the marker-assisted selection,\\nyou can do a phenotypic screening for selected number of individuals.\";\n",
              "                            liveDiv.parentElement.scrollTop = liveDiv.parentElement.scrollHeight;\n",
              "                            liveDiv.style.color = \"#ffffff\"; // Ensure text remains white\n",
              "                        </script>\n",
              "                        "
            ]
          },
          "metadata": {}
        },
        {
          "output_type": "display_data",
          "data": {
            "text/plain": [
              "<IPython.core.display.HTML object>"
            ],
            "text/html": [
              "\n",
              "                    <script>\n",
              "                        document.getElementById('transcription-progress').style.width = '50%';\n",
              "                        document.getElementById('transcription-status').textContent = 'Transcription in progress...';\n",
              "                    </script>\n",
              "                    "
            ]
          },
          "metadata": {}
        },
        {
          "output_type": "display_data",
          "data": {
            "text/plain": [
              "<IPython.core.display.HTML object>"
            ],
            "text/html": [
              "\n",
              "                        <script>\n",
              "                            var liveDiv = document.getElementById('live-transcription');\n",
              "                            liveDiv.innerHTML = \"with the phenotype.\\nPhenotypic screening.\\nAfter you do the marker-assisted selection,\\nyou can do a phenotypic screening for selected number of individuals.\\nWe don't have to do it all at once.\";\n",
              "                            liveDiv.parentElement.scrollTop = liveDiv.parentElement.scrollHeight;\n",
              "                            liveDiv.style.color = \"#ffffff\"; // Ensure text remains white\n",
              "                        </script>\n",
              "                        "
            ]
          },
          "metadata": {}
        },
        {
          "output_type": "display_data",
          "data": {
            "text/plain": [
              "<IPython.core.display.HTML object>"
            ],
            "text/html": [
              "\n",
              "                    <script>\n",
              "                        document.getElementById('transcription-progress').style.width = '51%';\n",
              "                        document.getElementById('transcription-status').textContent = 'Transcription in progress...';\n",
              "                    </script>\n",
              "                    "
            ]
          },
          "metadata": {}
        },
        {
          "output_type": "display_data",
          "data": {
            "text/plain": [
              "<IPython.core.display.HTML object>"
            ],
            "text/html": [
              "\n",
              "                        <script>\n",
              "                            var liveDiv = document.getElementById('live-transcription');\n",
              "                            liveDiv.innerHTML = \"Phenotypic screening.\\nAfter you do the marker-assisted selection,\\nyou can do a phenotypic screening for selected number of individuals.\\nWe don't have to do it all at once.\\nWe can do the phenotypic screening\";\n",
              "                            liveDiv.parentElement.scrollTop = liveDiv.parentElement.scrollHeight;\n",
              "                            liveDiv.style.color = \"#ffffff\"; // Ensure text remains white\n",
              "                        </script>\n",
              "                        "
            ]
          },
          "metadata": {}
        },
        {
          "output_type": "display_data",
          "data": {
            "text/plain": [
              "<IPython.core.display.HTML object>"
            ],
            "text/html": [
              "\n",
              "                    <script>\n",
              "                        document.getElementById('transcription-progress').style.width = '52%';\n",
              "                        document.getElementById('transcription-status').textContent = 'Transcription in progress...';\n",
              "                    </script>\n",
              "                    "
            ]
          },
          "metadata": {}
        },
        {
          "output_type": "display_data",
          "data": {
            "text/plain": [
              "<IPython.core.display.HTML object>"
            ],
            "text/html": [
              "\n",
              "                        <script>\n",
              "                            var liveDiv = document.getElementById('live-transcription');\n",
              "                            liveDiv.innerHTML = \"After you do the marker-assisted selection,\\nyou can do a phenotypic screening for selected number of individuals.\\nWe don't have to do it all at once.\\nWe can do the phenotypic screening\\nafter we have selected three markers.\";\n",
              "                            liveDiv.parentElement.scrollTop = liveDiv.parentElement.scrollHeight;\n",
              "                            liveDiv.style.color = \"#ffffff\"; // Ensure text remains white\n",
              "                        </script>\n",
              "                        "
            ]
          },
          "metadata": {}
        },
        {
          "output_type": "display_data",
          "data": {
            "text/plain": [
              "<IPython.core.display.HTML object>"
            ],
            "text/html": [
              "\n",
              "                    <script>\n",
              "                        document.getElementById('transcription-progress').style.width = '53%';\n",
              "                        document.getElementById('transcription-status').textContent = 'Transcription in progress...';\n",
              "                    </script>\n",
              "                    "
            ]
          },
          "metadata": {}
        },
        {
          "output_type": "display_data",
          "data": {
            "text/plain": [
              "<IPython.core.display.HTML object>"
            ],
            "text/html": [
              "\n",
              "                        <script>\n",
              "                            var liveDiv = document.getElementById('live-transcription');\n",
              "                            liveDiv.innerHTML = \"you can do a phenotypic screening for selected number of individuals.\\nWe don't have to do it all at once.\\nWe can do the phenotypic screening\\nafter we have selected three markers.\\nRight?\";\n",
              "                            liveDiv.parentElement.scrollTop = liveDiv.parentElement.scrollHeight;\n",
              "                            liveDiv.style.color = \"#ffffff\"; // Ensure text remains white\n",
              "                        </script>\n",
              "                        "
            ]
          },
          "metadata": {}
        },
        {
          "output_type": "display_data",
          "data": {
            "text/plain": [
              "<IPython.core.display.HTML object>"
            ],
            "text/html": [
              "\n",
              "                    <script>\n",
              "                        document.getElementById('transcription-progress').style.width = '54%';\n",
              "                        document.getElementById('transcription-status').textContent = 'Transcription in progress...';\n",
              "                    </script>\n",
              "                    "
            ]
          },
          "metadata": {}
        },
        {
          "output_type": "display_data",
          "data": {
            "text/plain": [
              "<IPython.core.display.HTML object>"
            ],
            "text/html": [
              "\n",
              "                        <script>\n",
              "                            var liveDiv = document.getElementById('live-transcription');\n",
              "                            liveDiv.innerHTML = \"We don't have to do it all at once.\\nWe can do the phenotypic screening\\nafter we have selected three markers.\\nRight?\\nSo those are the four methods.\";\n",
              "                            liveDiv.parentElement.scrollTop = liveDiv.parentElement.scrollHeight;\n",
              "                            liveDiv.style.color = \"#ffffff\"; // Ensure text remains white\n",
              "                        </script>\n",
              "                        "
            ]
          },
          "metadata": {}
        },
        {
          "output_type": "display_data",
          "data": {
            "text/plain": [
              "<IPython.core.display.HTML object>"
            ],
            "text/html": [
              "\n",
              "                    <script>\n",
              "                        document.getElementById('transcription-progress').style.width = '55%';\n",
              "                        document.getElementById('transcription-status').textContent = 'Transcription in progress...';\n",
              "                    </script>\n",
              "                    "
            ]
          },
          "metadata": {}
        },
        {
          "output_type": "display_data",
          "data": {
            "text/plain": [
              "<IPython.core.display.HTML object>"
            ],
            "text/html": [
              "\n",
              "                        <script>\n",
              "                            var liveDiv = document.getElementById('live-transcription');\n",
              "                            liveDiv.innerHTML = \"We can do the phenotypic screening\\nafter we have selected three markers.\\nRight?\\nSo those are the four methods.\\nSo back-crossing.\";\n",
              "                            liveDiv.parentElement.scrollTop = liveDiv.parentElement.scrollHeight;\n",
              "                            liveDiv.style.color = \"#ffffff\"; // Ensure text remains white\n",
              "                        </script>\n",
              "                        "
            ]
          },
          "metadata": {}
        },
        {
          "output_type": "display_data",
          "data": {
            "text/plain": [
              "<IPython.core.display.HTML object>"
            ],
            "text/html": [
              "\n",
              "                    <script>\n",
              "                        document.getElementById('transcription-progress').style.width = '56%';\n",
              "                        document.getElementById('transcription-status').textContent = 'Transcription in progress...';\n",
              "                    </script>\n",
              "                    "
            ]
          },
          "metadata": {}
        },
        {
          "output_type": "display_data",
          "data": {
            "text/plain": [
              "<IPython.core.display.HTML object>"
            ],
            "text/html": [
              "\n",
              "                        <script>\n",
              "                            var liveDiv = document.getElementById('live-transcription');\n",
              "                            liveDiv.innerHTML = \"after we have selected three markers.\\nRight?\\nSo those are the four methods.\\nSo back-crossing.\\nYou all know what is back-crossing.\";\n",
              "                            liveDiv.parentElement.scrollTop = liveDiv.parentElement.scrollHeight;\n",
              "                            liveDiv.style.color = \"#ffffff\"; // Ensure text remains white\n",
              "                        </script>\n",
              "                        "
            ]
          },
          "metadata": {}
        },
        {
          "output_type": "display_data",
          "data": {
            "text/plain": [
              "<IPython.core.display.HTML object>"
            ],
            "text/html": [
              "\n",
              "                    <script>\n",
              "                        document.getElementById('transcription-progress').style.width = '57%';\n",
              "                        document.getElementById('transcription-status').textContent = 'Transcription in progress...';\n",
              "                    </script>\n",
              "                    "
            ]
          },
          "metadata": {}
        },
        {
          "output_type": "display_data",
          "data": {
            "text/plain": [
              "<IPython.core.display.HTML object>"
            ],
            "text/html": [
              "\n",
              "                        <script>\n",
              "                            var liveDiv = document.getElementById('live-transcription');\n",
              "                            liveDiv.innerHTML = \"Right?\\nSo those are the four methods.\\nSo back-crossing.\\nYou all know what is back-crossing.\\nRight?\";\n",
              "                            liveDiv.parentElement.scrollTop = liveDiv.parentElement.scrollHeight;\n",
              "                            liveDiv.style.color = \"#ffffff\"; // Ensure text remains white\n",
              "                        </script>\n",
              "                        "
            ]
          },
          "metadata": {}
        },
        {
          "output_type": "display_data",
          "data": {
            "text/plain": [
              "<IPython.core.display.HTML object>"
            ],
            "text/html": [
              "\n",
              "                    <script>\n",
              "                        document.getElementById('transcription-progress').style.width = '58%';\n",
              "                        document.getElementById('transcription-status').textContent = 'Transcription in progress...';\n",
              "                    </script>\n",
              "                    "
            ]
          },
          "metadata": {}
        },
        {
          "output_type": "display_data",
          "data": {
            "text/plain": [
              "<IPython.core.display.HTML object>"
            ],
            "text/html": [
              "\n",
              "                        <script>\n",
              "                            var liveDiv = document.getElementById('live-transcription');\n",
              "                            liveDiv.innerHTML = \"So those are the four methods.\\nSo back-crossing.\\nYou all know what is back-crossing.\\nRight?\\nSo from a donor plant, we are taking the key trait\";\n",
              "                            liveDiv.parentElement.scrollTop = liveDiv.parentElement.scrollHeight;\n",
              "                            liveDiv.style.color = \"#ffffff\"; // Ensure text remains white\n",
              "                        </script>\n",
              "                        "
            ]
          },
          "metadata": {}
        },
        {
          "output_type": "display_data",
          "data": {
            "text/plain": [
              "<IPython.core.display.HTML object>"
            ],
            "text/html": [
              "\n",
              "                    <script>\n",
              "                        document.getElementById('transcription-progress').style.width = '59%';\n",
              "                        document.getElementById('transcription-status').textContent = 'Transcription in progress...';\n",
              "                    </script>\n",
              "                    "
            ]
          },
          "metadata": {}
        },
        {
          "output_type": "display_data",
          "data": {
            "text/plain": [
              "<IPython.core.display.HTML object>"
            ],
            "text/html": [
              "\n",
              "                        <script>\n",
              "                            var liveDiv = document.getElementById('live-transcription');\n",
              "                            liveDiv.innerHTML = \"So back-crossing.\\nYou all know what is back-crossing.\\nRight?\\nSo from a donor plant, we are taking the key trait\\nand trying to transfer it to the recurrent parent.\";\n",
              "                            liveDiv.parentElement.scrollTop = liveDiv.parentElement.scrollHeight;\n",
              "                            liveDiv.style.color = \"#ffffff\"; // Ensure text remains white\n",
              "                        </script>\n",
              "                        "
            ]
          },
          "metadata": {}
        },
        {
          "output_type": "display_data",
          "data": {
            "text/plain": [
              "<IPython.core.display.HTML object>"
            ],
            "text/html": [
              "\n",
              "                    <script>\n",
              "                        document.getElementById('transcription-progress').style.width = '50%';\n",
              "                        document.getElementById('transcription-status').textContent = 'Transcription in progress...';\n",
              "                    </script>\n",
              "                    "
            ]
          },
          "metadata": {}
        },
        {
          "output_type": "display_data",
          "data": {
            "text/plain": [
              "<IPython.core.display.HTML object>"
            ],
            "text/html": [
              "\n",
              "                        <script>\n",
              "                            var liveDiv = document.getElementById('live-transcription');\n",
              "                            liveDiv.innerHTML = \"You all know what is back-crossing.\\nRight?\\nSo from a donor plant, we are taking the key trait\\nand trying to transfer it to the recurrent parent.\\nTake it any time.\";\n",
              "                            liveDiv.parentElement.scrollTop = liveDiv.parentElement.scrollHeight;\n",
              "                            liveDiv.style.color = \"#ffffff\"; // Ensure text remains white\n",
              "                        </script>\n",
              "                        "
            ]
          },
          "metadata": {}
        },
        {
          "output_type": "display_data",
          "data": {
            "text/plain": [
              "<IPython.core.display.HTML object>"
            ],
            "text/html": [
              "\n",
              "                    <script>\n",
              "                        document.getElementById('transcription-progress').style.width = '51%';\n",
              "                        document.getElementById('transcription-status').textContent = 'Transcription in progress...';\n",
              "                    </script>\n",
              "                    "
            ]
          },
          "metadata": {}
        },
        {
          "output_type": "display_data",
          "data": {
            "text/plain": [
              "<IPython.core.display.HTML object>"
            ],
            "text/html": [
              "\n",
              "                        <script>\n",
              "                            var liveDiv = document.getElementById('live-transcription');\n",
              "                            liveDiv.innerHTML = \"Right?\\nSo from a donor plant, we are taking the key trait\\nand trying to transfer it to the recurrent parent.\\nTake it any time.\\nSo usually these traits are controlled by one of these things.\";\n",
              "                            liveDiv.parentElement.scrollTop = liveDiv.parentElement.scrollHeight;\n",
              "                            liveDiv.style.color = \"#ffffff\"; // Ensure text remains white\n",
              "                        </script>\n",
              "                        "
            ]
          },
          "metadata": {}
        },
        {
          "output_type": "display_data",
          "data": {
            "text/plain": [
              "<IPython.core.display.HTML object>"
            ],
            "text/html": [
              "\n",
              "                    <script>\n",
              "                        document.getElementById('transcription-progress').style.width = '52%';\n",
              "                        document.getElementById('transcription-status').textContent = 'Transcription in progress...';\n",
              "                    </script>\n",
              "                    "
            ]
          },
          "metadata": {}
        },
        {
          "output_type": "display_data",
          "data": {
            "text/plain": [
              "<IPython.core.display.HTML object>"
            ],
            "text/html": [
              "\n",
              "                        <script>\n",
              "                            var liveDiv = document.getElementById('live-transcription');\n",
              "                            liveDiv.innerHTML = \"So from a donor plant, we are taking the key trait\\nand trying to transfer it to the recurrent parent.\\nTake it any time.\\nSo usually these traits are controlled by one of these things.\\nRight?\";\n",
              "                            liveDiv.parentElement.scrollTop = liveDiv.parentElement.scrollHeight;\n",
              "                            liveDiv.style.color = \"#ffffff\"; // Ensure text remains white\n",
              "                        </script>\n",
              "                        "
            ]
          },
          "metadata": {}
        },
        {
          "output_type": "display_data",
          "data": {
            "text/plain": [
              "<IPython.core.display.HTML object>"
            ],
            "text/html": [
              "\n",
              "                    <script>\n",
              "                        document.getElementById('transcription-progress').style.width = '53%';\n",
              "                        document.getElementById('transcription-status').textContent = 'Transcription in progress...';\n",
              "                    </script>\n",
              "                    "
            ]
          },
          "metadata": {}
        },
        {
          "output_type": "display_data",
          "data": {
            "text/plain": [
              "<IPython.core.display.HTML object>"
            ],
            "text/html": [
              "\n",
              "                        <script>\n",
              "                            var liveDiv = document.getElementById('live-transcription');\n",
              "                            liveDiv.innerHTML = \"and trying to transfer it to the recurrent parent.\\nTake it any time.\\nSo usually these traits are controlled by one of these things.\\nRight?\\nSo basically we are trying to transfer that key trait\";\n",
              "                            liveDiv.parentElement.scrollTop = liveDiv.parentElement.scrollHeight;\n",
              "                            liveDiv.style.color = \"#ffffff\"; // Ensure text remains white\n",
              "                        </script>\n",
              "                        "
            ]
          },
          "metadata": {}
        },
        {
          "output_type": "display_data",
          "data": {
            "text/plain": [
              "<IPython.core.display.HTML object>"
            ],
            "text/html": [
              "\n",
              "                    <script>\n",
              "                        document.getElementById('transcription-progress').style.width = '54%';\n",
              "                        document.getElementById('transcription-status').textContent = 'Transcription in progress...';\n",
              "                    </script>\n",
              "                    "
            ]
          },
          "metadata": {}
        },
        {
          "output_type": "display_data",
          "data": {
            "text/plain": [
              "<IPython.core.display.HTML object>"
            ],
            "text/html": [
              "\n",
              "                        <script>\n",
              "                            var liveDiv = document.getElementById('live-transcription');\n",
              "                            liveDiv.innerHTML = \"Take it any time.\\nSo usually these traits are controlled by one of these things.\\nRight?\\nSo basically we are trying to transfer that key trait\\nfrom the donor plant to the recurrent parent gene.\";\n",
              "                            liveDiv.parentElement.scrollTop = liveDiv.parentElement.scrollHeight;\n",
              "                            liveDiv.style.color = \"#ffffff\"; // Ensure text remains white\n",
              "                        </script>\n",
              "                        "
            ]
          },
          "metadata": {}
        },
        {
          "output_type": "display_data",
          "data": {
            "text/plain": [
              "<IPython.core.display.HTML object>"
            ],
            "text/html": [
              "\n",
              "                    <script>\n",
              "                        document.getElementById('transcription-progress').style.width = '55%';\n",
              "                        document.getElementById('transcription-status').textContent = 'Transcription in progress...';\n",
              "                    </script>\n",
              "                    "
            ]
          },
          "metadata": {}
        },
        {
          "output_type": "display_data",
          "data": {
            "text/plain": [
              "<IPython.core.display.HTML object>"
            ],
            "text/html": [
              "\n",
              "                        <script>\n",
              "                            var liveDiv = document.getElementById('live-transcription');\n",
              "                            liveDiv.innerHTML = \"So usually these traits are controlled by one of these things.\\nRight?\\nSo basically we are trying to transfer that key trait\\nfrom the donor plant to the recurrent parent gene.\\nRight?\";\n",
              "                            liveDiv.parentElement.scrollTop = liveDiv.parentElement.scrollHeight;\n",
              "                            liveDiv.style.color = \"#ffffff\"; // Ensure text remains white\n",
              "                        </script>\n",
              "                        "
            ]
          },
          "metadata": {}
        },
        {
          "output_type": "display_data",
          "data": {
            "text/plain": [
              "<IPython.core.display.HTML object>"
            ],
            "text/html": [
              "\n",
              "                    <script>\n",
              "                        document.getElementById('transcription-progress').style.width = '56%';\n",
              "                        document.getElementById('transcription-status').textContent = 'Transcription in progress...';\n",
              "                    </script>\n",
              "                    "
            ]
          },
          "metadata": {}
        },
        {
          "output_type": "display_data",
          "data": {
            "text/plain": [
              "<IPython.core.display.HTML object>"
            ],
            "text/html": [
              "\n",
              "                        <script>\n",
              "                            var liveDiv = document.getElementById('live-transcription');\n",
              "                            liveDiv.innerHTML = \"Right?\\nSo basically we are trying to transfer that key trait\\nfrom the donor plant to the recurrent parent gene.\\nRight?\\nSo this is achieved by repeated back-crossing and selection.\";\n",
              "                            liveDiv.parentElement.scrollTop = liveDiv.parentElement.scrollHeight;\n",
              "                            liveDiv.style.color = \"#ffffff\"; // Ensure text remains white\n",
              "                        </script>\n",
              "                        "
            ]
          },
          "metadata": {}
        },
        {
          "output_type": "display_data",
          "data": {
            "text/plain": [
              "<IPython.core.display.HTML object>"
            ],
            "text/html": [
              "\n",
              "                    <script>\n",
              "                        document.getElementById('transcription-progress').style.width = '57%';\n",
              "                        document.getElementById('transcription-status').textContent = 'Transcription in progress...';\n",
              "                    </script>\n",
              "                    "
            ]
          },
          "metadata": {}
        },
        {
          "output_type": "display_data",
          "data": {
            "text/plain": [
              "<IPython.core.display.HTML object>"
            ],
            "text/html": [
              "\n",
              "                        <script>\n",
              "                            var liveDiv = document.getElementById('live-transcription');\n",
              "                            liveDiv.innerHTML = \"So basically we are trying to transfer that key trait\\nfrom the donor plant to the recurrent parent gene.\\nRight?\\nSo this is achieved by repeated back-crossing and selection.\\nSo we cross the parents, get the F1.\";\n",
              "                            liveDiv.parentElement.scrollTop = liveDiv.parentElement.scrollHeight;\n",
              "                            liveDiv.style.color = \"#ffffff\"; // Ensure text remains white\n",
              "                        </script>\n",
              "                        "
            ]
          },
          "metadata": {}
        },
        {
          "output_type": "display_data",
          "data": {
            "text/plain": [
              "<IPython.core.display.HTML object>"
            ],
            "text/html": [
              "\n",
              "                    <script>\n",
              "                        document.getElementById('transcription-progress').style.width = '58%';\n",
              "                        document.getElementById('transcription-status').textContent = 'Transcription in progress...';\n",
              "                    </script>\n",
              "                    "
            ]
          },
          "metadata": {}
        },
        {
          "output_type": "display_data",
          "data": {
            "text/plain": [
              "<IPython.core.display.HTML object>"
            ],
            "text/html": [
              "\n",
              "                        <script>\n",
              "                            var liveDiv = document.getElementById('live-transcription');\n",
              "                            liveDiv.innerHTML = \"from the donor plant to the recurrent parent gene.\\nRight?\\nSo this is achieved by repeated back-crossing and selection.\\nSo we cross the parents, get the F1.\\nThen the F1 is back-crossed to the recurrent parent.\";\n",
              "                            liveDiv.parentElement.scrollTop = liveDiv.parentElement.scrollHeight;\n",
              "                            liveDiv.style.color = \"#ffffff\"; // Ensure text remains white\n",
              "                        </script>\n",
              "                        "
            ]
          },
          "metadata": {}
        },
        {
          "output_type": "display_data",
          "data": {
            "text/plain": [
              "<IPython.core.display.HTML object>"
            ],
            "text/html": [
              "\n",
              "                    <script>\n",
              "                        document.getElementById('transcription-progress').style.width = '59%';\n",
              "                        document.getElementById('transcription-status').textContent = 'Transcription in progress...';\n",
              "                    </script>\n",
              "                    "
            ]
          },
          "metadata": {}
        },
        {
          "output_type": "display_data",
          "data": {
            "text/plain": [
              "<IPython.core.display.HTML object>"
            ],
            "text/html": [
              "\n",
              "                        <script>\n",
              "                            var liveDiv = document.getElementById('live-transcription');\n",
              "                            liveDiv.innerHTML = \"Right?\\nSo this is achieved by repeated back-crossing and selection.\\nSo we cross the parents, get the F1.\\nThen the F1 is back-crossed to the recurrent parent.\\nSo we keep on doing.\";\n",
              "                            liveDiv.parentElement.scrollTop = liveDiv.parentElement.scrollHeight;\n",
              "                            liveDiv.style.color = \"#ffffff\"; // Ensure text remains white\n",
              "                        </script>\n",
              "                        "
            ]
          },
          "metadata": {}
        },
        {
          "output_type": "display_data",
          "data": {
            "text/plain": [
              "<IPython.core.display.HTML object>"
            ],
            "text/html": [
              "\n",
              "                    <script>\n",
              "                        document.getElementById('transcription-progress').style.width = '50%';\n",
              "                        document.getElementById('transcription-status').textContent = 'Transcription in progress...';\n",
              "                    </script>\n",
              "                    "
            ]
          },
          "metadata": {}
        },
        {
          "output_type": "display_data",
          "data": {
            "text/plain": [
              "<IPython.core.display.HTML object>"
            ],
            "text/html": [
              "\n",
              "                        <script>\n",
              "                            var liveDiv = document.getElementById('live-transcription');\n",
              "                            liveDiv.innerHTML = \"So this is achieved by repeated back-crossing and selection.\\nSo we cross the parents, get the F1.\\nThen the F1 is back-crossed to the recurrent parent.\\nSo we keep on doing.\\nWe keep on doing this for several generations\";\n",
              "                            liveDiv.parentElement.scrollTop = liveDiv.parentElement.scrollHeight;\n",
              "                            liveDiv.style.color = \"#ffffff\"; // Ensure text remains white\n",
              "                        </script>\n",
              "                        "
            ]
          },
          "metadata": {}
        },
        {
          "output_type": "display_data",
          "data": {
            "text/plain": [
              "<IPython.core.display.HTML object>"
            ],
            "text/html": [
              "\n",
              "                    <script>\n",
              "                        document.getElementById('transcription-progress').style.width = '51%';\n",
              "                        document.getElementById('transcription-status').textContent = 'Transcription in progress...';\n",
              "                    </script>\n",
              "                    "
            ]
          },
          "metadata": {}
        },
        {
          "output_type": "display_data",
          "data": {
            "text/plain": [
              "<IPython.core.display.HTML object>"
            ],
            "text/html": [
              "\n",
              "                        <script>\n",
              "                            var liveDiv = document.getElementById('live-transcription');\n",
              "                            liveDiv.innerHTML = \"So we cross the parents, get the F1.\\nThen the F1 is back-crossed to the recurrent parent.\\nSo we keep on doing.\\nWe keep on doing this for several generations\\nto recover the recurrent parent's genome\";\n",
              "                            liveDiv.parentElement.scrollTop = liveDiv.parentElement.scrollHeight;\n",
              "                            liveDiv.style.color = \"#ffffff\"; // Ensure text remains white\n",
              "                        </script>\n",
              "                        "
            ]
          },
          "metadata": {}
        },
        {
          "output_type": "display_data",
          "data": {
            "text/plain": [
              "<IPython.core.display.HTML object>"
            ],
            "text/html": [
              "\n",
              "                    <script>\n",
              "                        document.getElementById('transcription-progress').style.width = '52%';\n",
              "                        document.getElementById('transcription-status').textContent = 'Transcription in progress...';\n",
              "                    </script>\n",
              "                    "
            ]
          },
          "metadata": {}
        },
        {
          "output_type": "display_data",
          "data": {
            "text/plain": [
              "<IPython.core.display.HTML object>"
            ],
            "text/html": [
              "\n",
              "                        <script>\n",
              "                            var liveDiv = document.getElementById('live-transcription');\n",
              "                            liveDiv.innerHTML = \"Then the F1 is back-crossed to the recurrent parent.\\nSo we keep on doing.\\nWe keep on doing this for several generations\\nto recover the recurrent parent's genome\\nexcept for the target trait.\";\n",
              "                            liveDiv.parentElement.scrollTop = liveDiv.parentElement.scrollHeight;\n",
              "                            liveDiv.style.color = \"#ffffff\"; // Ensure text remains white\n",
              "                        </script>\n",
              "                        "
            ]
          },
          "metadata": {}
        },
        {
          "output_type": "display_data",
          "data": {
            "text/plain": [
              "<IPython.core.display.HTML object>"
            ],
            "text/html": [
              "\n",
              "                    <script>\n",
              "                        document.getElementById('transcription-progress').style.width = '53%';\n",
              "                        document.getElementById('transcription-status').textContent = 'Transcription in progress...';\n",
              "                    </script>\n",
              "                    "
            ]
          },
          "metadata": {}
        },
        {
          "output_type": "display_data",
          "data": {
            "text/plain": [
              "<IPython.core.display.HTML object>"
            ],
            "text/html": [
              "\n",
              "                        <script>\n",
              "                            var liveDiv = document.getElementById('live-transcription');\n",
              "                            liveDiv.innerHTML = \"So we keep on doing.\\nWe keep on doing this for several generations\\nto recover the recurrent parent's genome\\nexcept for the target trait.\\nOkay?\";\n",
              "                            liveDiv.parentElement.scrollTop = liveDiv.parentElement.scrollHeight;\n",
              "                            liveDiv.style.color = \"#ffffff\"; // Ensure text remains white\n",
              "                        </script>\n",
              "                        "
            ]
          },
          "metadata": {}
        },
        {
          "output_type": "display_data",
          "data": {
            "text/plain": [
              "<IPython.core.display.HTML object>"
            ],
            "text/html": [
              "\n",
              "                    <script>\n",
              "                        document.getElementById('transcription-progress').style.width = '54%';\n",
              "                        document.getElementById('transcription-status').textContent = 'Transcription in progress...';\n",
              "                    </script>\n",
              "                    "
            ]
          },
          "metadata": {}
        },
        {
          "output_type": "display_data",
          "data": {
            "text/plain": [
              "<IPython.core.display.HTML object>"
            ],
            "text/html": [
              "\n",
              "                        <script>\n",
              "                            var liveDiv = document.getElementById('live-transcription');\n",
              "                            liveDiv.innerHTML = \"We keep on doing this for several generations\\nto recover the recurrent parent's genome\\nexcept for the target trait.\\nOkay?\\nSo the markers are used here\";\n",
              "                            liveDiv.parentElement.scrollTop = liveDiv.parentElement.scrollHeight;\n",
              "                            liveDiv.style.color = \"#ffffff\"; // Ensure text remains white\n",
              "                        </script>\n",
              "                        "
            ]
          },
          "metadata": {}
        },
        {
          "output_type": "display_data",
          "data": {
            "text/plain": [
              "<IPython.core.display.HTML object>"
            ],
            "text/html": [
              "\n",
              "                    <script>\n",
              "                        document.getElementById('transcription-progress').style.width = '55%';\n",
              "                        document.getElementById('transcription-status').textContent = 'Transcription in progress...';\n",
              "                    </script>\n",
              "                    "
            ]
          },
          "metadata": {}
        },
        {
          "output_type": "display_data",
          "data": {
            "text/plain": [
              "<IPython.core.display.HTML object>"
            ],
            "text/html": [
              "\n",
              "                        <script>\n",
              "                            var liveDiv = document.getElementById('live-transcription');\n",
              "                            liveDiv.innerHTML = \"to recover the recurrent parent's genome\\nexcept for the target trait.\\nOkay?\\nSo the markers are used here\\nto determine the presence of the target gene.\";\n",
              "                            liveDiv.parentElement.scrollTop = liveDiv.parentElement.scrollHeight;\n",
              "                            liveDiv.style.color = \"#ffffff\"; // Ensure text remains white\n",
              "                        </script>\n",
              "                        "
            ]
          },
          "metadata": {}
        },
        {
          "output_type": "display_data",
          "data": {
            "text/plain": [
              "<IPython.core.display.HTML object>"
            ],
            "text/html": [
              "\n",
              "                    <script>\n",
              "                        document.getElementById('transcription-progress').style.width = '56%';\n",
              "                        document.getElementById('transcription-status').textContent = 'Transcription in progress...';\n",
              "                    </script>\n",
              "                    "
            ]
          },
          "metadata": {}
        },
        {
          "output_type": "display_data",
          "data": {
            "text/plain": [
              "<IPython.core.display.HTML object>"
            ],
            "text/html": [
              "\n",
              "                        <script>\n",
              "                            var liveDiv = document.getElementById('live-transcription');\n",
              "                            liveDiv.innerHTML = \"except for the target trait.\\nOkay?\\nSo the markers are used here\\nto determine the presence of the target gene.\\nRight?\";\n",
              "                            liveDiv.parentElement.scrollTop = liveDiv.parentElement.scrollHeight;\n",
              "                            liveDiv.style.color = \"#ffffff\"; // Ensure text remains white\n",
              "                        </script>\n",
              "                        "
            ]
          },
          "metadata": {}
        },
        {
          "output_type": "display_data",
          "data": {
            "text/plain": [
              "<IPython.core.display.HTML object>"
            ],
            "text/html": [
              "\n",
              "                    <script>\n",
              "                        document.getElementById('transcription-progress').style.width = '57%';\n",
              "                        document.getElementById('transcription-status').textContent = 'Transcription in progress...';\n",
              "                    </script>\n",
              "                    "
            ]
          },
          "metadata": {}
        },
        {
          "output_type": "display_data",
          "data": {
            "text/plain": [
              "<IPython.core.display.HTML object>"
            ],
            "text/html": [
              "\n",
              "                        <script>\n",
              "                            var liveDiv = document.getElementById('live-transcription');\n",
              "                            liveDiv.innerHTML = \"Okay?\\nSo the markers are used here\\nto determine the presence of the target gene.\\nRight?\\nSo this is not there in normal back-crossing.\";\n",
              "                            liveDiv.parentElement.scrollTop = liveDiv.parentElement.scrollHeight;\n",
              "                            liveDiv.style.color = \"#ffffff\"; // Ensure text remains white\n",
              "                        </script>\n",
              "                        "
            ]
          },
          "metadata": {}
        },
        {
          "output_type": "display_data",
          "data": {
            "text/plain": [
              "<IPython.core.display.HTML object>"
            ],
            "text/html": [
              "\n",
              "                    <script>\n",
              "                        document.getElementById('transcription-progress').style.width = '58%';\n",
              "                        document.getElementById('transcription-status').textContent = 'Transcription in progress...';\n",
              "                    </script>\n",
              "                    "
            ]
          },
          "metadata": {}
        },
        {
          "output_type": "display_data",
          "data": {
            "text/plain": [
              "<IPython.core.display.HTML object>"
            ],
            "text/html": [
              "\n",
              "                        <script>\n",
              "                            var liveDiv = document.getElementById('live-transcription');\n",
              "                            liveDiv.innerHTML = \"So the markers are used here\\nto determine the presence of the target gene.\\nRight?\\nSo this is not there in normal back-crossing.\\nWe just observe the phenotypes and we do.\";\n",
              "                            liveDiv.parentElement.scrollTop = liveDiv.parentElement.scrollHeight;\n",
              "                            liveDiv.style.color = \"#ffffff\"; // Ensure text remains white\n",
              "                        </script>\n",
              "                        "
            ]
          },
          "metadata": {}
        },
        {
          "output_type": "display_data",
          "data": {
            "text/plain": [
              "<IPython.core.display.HTML object>"
            ],
            "text/html": [
              "\n",
              "                    <script>\n",
              "                        document.getElementById('transcription-progress').style.width = '59%';\n",
              "                        document.getElementById('transcription-status').textContent = 'Transcription in progress...';\n",
              "                    </script>\n",
              "                    "
            ]
          },
          "metadata": {}
        },
        {
          "output_type": "display_data",
          "data": {
            "text/plain": [
              "<IPython.core.display.HTML object>"
            ],
            "text/html": [
              "\n",
              "                        <script>\n",
              "                            var liveDiv = document.getElementById('live-transcription');\n",
              "                            liveDiv.innerHTML = \"to determine the presence of the target gene.\\nRight?\\nSo this is not there in normal back-crossing.\\nWe just observe the phenotypes and we do.\\nBut here, first we have to check\";\n",
              "                            liveDiv.parentElement.scrollTop = liveDiv.parentElement.scrollHeight;\n",
              "                            liveDiv.style.color = \"#ffffff\"; // Ensure text remains white\n",
              "                        </script>\n",
              "                        "
            ]
          },
          "metadata": {}
        },
        {
          "output_type": "display_data",
          "data": {
            "text/plain": [
              "<IPython.core.display.HTML object>"
            ],
            "text/html": [
              "\n",
              "                    <script>\n",
              "                        document.getElementById('transcription-progress').style.width = '50%';\n",
              "                        document.getElementById('transcription-status').textContent = 'Transcription in progress...';\n",
              "                    </script>\n",
              "                    "
            ]
          },
          "metadata": {}
        },
        {
          "output_type": "display_data",
          "data": {
            "text/plain": [
              "<IPython.core.display.HTML object>"
            ],
            "text/html": [
              "\n",
              "                        <script>\n",
              "                            var liveDiv = document.getElementById('live-transcription');\n",
              "                            liveDiv.innerHTML = \"Right?\\nSo this is not there in normal back-crossing.\\nWe just observe the phenotypes and we do.\\nBut here, first we have to check\\nwhether the target gene is there or not.\";\n",
              "                            liveDiv.parentElement.scrollTop = liveDiv.parentElement.scrollHeight;\n",
              "                            liveDiv.style.color = \"#ffffff\"; // Ensure text remains white\n",
              "                        </script>\n",
              "                        "
            ]
          },
          "metadata": {}
        },
        {
          "output_type": "display_data",
          "data": {
            "text/plain": [
              "<IPython.core.display.HTML object>"
            ],
            "text/html": [
              "\n",
              "                    <script>\n",
              "                        document.getElementById('transcription-progress').style.width = '51%';\n",
              "                        document.getElementById('transcription-status').textContent = 'Transcription in progress...';\n",
              "                    </script>\n",
              "                    "
            ]
          },
          "metadata": {}
        },
        {
          "output_type": "display_data",
          "data": {
            "text/plain": [
              "<IPython.core.display.HTML object>"
            ],
            "text/html": [
              "\n",
              "                        <script>\n",
              "                            var liveDiv = document.getElementById('live-transcription');\n",
              "                            liveDiv.innerHTML = \"So this is not there in normal back-crossing.\\nWe just observe the phenotypes and we do.\\nBut here, first we have to check\\nwhether the target gene is there or not.\\nRight?\";\n",
              "                            liveDiv.parentElement.scrollTop = liveDiv.parentElement.scrollHeight;\n",
              "                            liveDiv.style.color = \"#ffffff\"; // Ensure text remains white\n",
              "                        </script>\n",
              "                        "
            ]
          },
          "metadata": {}
        },
        {
          "output_type": "display_data",
          "data": {
            "text/plain": [
              "<IPython.core.display.HTML object>"
            ],
            "text/html": [
              "\n",
              "                    <script>\n",
              "                        document.getElementById('transcription-progress').style.width = '52%';\n",
              "                        document.getElementById('transcription-status').textContent = 'Transcription in progress...';\n",
              "                    </script>\n",
              "                    "
            ]
          },
          "metadata": {}
        },
        {
          "output_type": "display_data",
          "data": {
            "text/plain": [
              "<IPython.core.display.HTML object>"
            ],
            "text/html": [
              "\n",
              "                        <script>\n",
              "                            var liveDiv = document.getElementById('live-transcription');\n",
              "                            liveDiv.innerHTML = \"We just observe the phenotypes and we do.\\nBut here, first we have to check\\nwhether the target gene is there or not.\\nRight?\\nAnd then we are trying to accelerate the recovery\";\n",
              "                            liveDiv.parentElement.scrollTop = liveDiv.parentElement.scrollHeight;\n",
              "                            liveDiv.style.color = \"#ffffff\"; // Ensure text remains white\n",
              "                        </script>\n",
              "                        "
            ]
          },
          "metadata": {}
        },
        {
          "output_type": "display_data",
          "data": {
            "text/plain": [
              "<IPython.core.display.HTML object>"
            ],
            "text/html": [
              "\n",
              "                    <script>\n",
              "                        document.getElementById('transcription-progress').style.width = '53%';\n",
              "                        document.getElementById('transcription-status').textContent = 'Transcription in progress...';\n",
              "                    </script>\n",
              "                    "
            ]
          },
          "metadata": {}
        },
        {
          "output_type": "display_data",
          "data": {
            "text/plain": [
              "<IPython.core.display.HTML object>"
            ],
            "text/html": [
              "\n",
              "                        <script>\n",
              "                            var liveDiv = document.getElementById('live-transcription');\n",
              "                            liveDiv.innerHTML = \"But here, first we have to check\\nwhether the target gene is there or not.\\nRight?\\nAnd then we are trying to accelerate the recovery\\nof the recurrent parent's genome\";\n",
              "                            liveDiv.parentElement.scrollTop = liveDiv.parentElement.scrollHeight;\n",
              "                            liveDiv.style.color = \"#ffffff\"; // Ensure text remains white\n",
              "                        </script>\n",
              "                        "
            ]
          },
          "metadata": {}
        },
        {
          "output_type": "display_data",
          "data": {
            "text/plain": [
              "<IPython.core.display.HTML object>"
            ],
            "text/html": [
              "\n",
              "                    <script>\n",
              "                        document.getElementById('transcription-progress').style.width = '54%';\n",
              "                        document.getElementById('transcription-status').textContent = 'Transcription in progress...';\n",
              "                    </script>\n",
              "                    "
            ]
          },
          "metadata": {}
        },
        {
          "output_type": "display_data",
          "data": {
            "text/plain": [
              "<IPython.core.display.HTML object>"
            ],
            "text/html": [
              "\n",
              "                        <script>\n",
              "                            var liveDiv = document.getElementById('live-transcription');\n",
              "                            liveDiv.innerHTML = \"whether the target gene is there or not.\\nRight?\\nAnd then we are trying to accelerate the recovery\\nof the recurrent parent's genome\\nby looking at the background proboscopes.\";\n",
              "                            liveDiv.parentElement.scrollTop = liveDiv.parentElement.scrollHeight;\n",
              "                            liveDiv.style.color = \"#ffffff\"; // Ensure text remains white\n",
              "                        </script>\n",
              "                        "
            ]
          },
          "metadata": {}
        },
        {
          "output_type": "display_data",
          "data": {
            "text/plain": [
              "<IPython.core.display.HTML object>"
            ],
            "text/html": [
              "\n",
              "                    <script>\n",
              "                        document.getElementById('transcription-progress').style.width = '55%';\n",
              "                        document.getElementById('transcription-status').textContent = 'Transcription in progress...';\n",
              "                    </script>\n",
              "                    "
            ]
          },
          "metadata": {}
        },
        {
          "output_type": "display_data",
          "data": {
            "text/plain": [
              "<IPython.core.display.HTML object>"
            ],
            "text/html": [
              "\n",
              "                        <script>\n",
              "                            var liveDiv = document.getElementById('live-transcription');\n",
              "                            liveDiv.innerHTML = \"Right?\\nAnd then we are trying to accelerate the recovery\\nof the recurrent parent's genome\\nby looking at the background proboscopes.\\nGenotypes.\";\n",
              "                            liveDiv.parentElement.scrollTop = liveDiv.parentElement.scrollHeight;\n",
              "                            liveDiv.style.color = \"#ffffff\"; // Ensure text remains white\n",
              "                        </script>\n",
              "                        "
            ]
          },
          "metadata": {}
        },
        {
          "output_type": "display_data",
          "data": {
            "text/plain": [
              "<IPython.core.display.HTML object>"
            ],
            "text/html": [
              "\n",
              "                    <script>\n",
              "                        document.getElementById('transcription-progress').style.width = '56%';\n",
              "                        document.getElementById('transcription-status').textContent = 'Transcription in progress...';\n",
              "                    </script>\n",
              "                    "
            ]
          },
          "metadata": {}
        },
        {
          "output_type": "display_data",
          "data": {
            "text/plain": [
              "<IPython.core.display.HTML object>"
            ],
            "text/html": [
              "\n",
              "                        <script>\n",
              "                            var liveDiv = document.getElementById('live-transcription');\n",
              "                            liveDiv.innerHTML = \"And then we are trying to accelerate the recovery\\nof the recurrent parent's genome\\nby looking at the background proboscopes.\\nGenotypes.\\nRight?\";\n",
              "                            liveDiv.parentElement.scrollTop = liveDiv.parentElement.scrollHeight;\n",
              "                            liveDiv.style.color = \"#ffffff\"; // Ensure text remains white\n",
              "                        </script>\n",
              "                        "
            ]
          },
          "metadata": {}
        },
        {
          "output_type": "display_data",
          "data": {
            "text/plain": [
              "<IPython.core.display.HTML object>"
            ],
            "text/html": [
              "\n",
              "                    <script>\n",
              "                        document.getElementById('transcription-progress').style.width = '57%';\n",
              "                        document.getElementById('transcription-status').textContent = 'Transcription in progress...';\n",
              "                    </script>\n",
              "                    "
            ]
          },
          "metadata": {}
        },
        {
          "output_type": "display_data",
          "data": {
            "text/plain": [
              "<IPython.core.display.HTML object>"
            ],
            "text/html": [
              "\n",
              "                        <script>\n",
              "                            var liveDiv = document.getElementById('live-transcription');\n",
              "                            liveDiv.innerHTML = \"of the recurrent parent's genome\\nby looking at the background proboscopes.\\nGenotypes.\\nRight?\\nTarget.\";\n",
              "                            liveDiv.parentElement.scrollTop = liveDiv.parentElement.scrollHeight;\n",
              "                            liveDiv.style.color = \"#ffffff\"; // Ensure text remains white\n",
              "                        </script>\n",
              "                        "
            ]
          },
          "metadata": {}
        },
        {
          "output_type": "display_data",
          "data": {
            "text/plain": [
              "<IPython.core.display.HTML object>"
            ],
            "text/html": [
              "\n",
              "                    <script>\n",
              "                        document.getElementById('transcription-progress').style.width = '58%';\n",
              "                        document.getElementById('transcription-status').textContent = 'Transcription in progress...';\n",
              "                    </script>\n",
              "                    "
            ]
          },
          "metadata": {}
        },
        {
          "output_type": "display_data",
          "data": {
            "text/plain": [
              "<IPython.core.display.HTML object>"
            ],
            "text/html": [
              "\n",
              "                        <script>\n",
              "                            var liveDiv = document.getElementById('live-transcription');\n",
              "                            liveDiv.innerHTML = \"by looking at the background proboscopes.\\nGenotypes.\\nRight?\\nTarget.\\nThis is the donor.\";\n",
              "                            liveDiv.parentElement.scrollTop = liveDiv.parentElement.scrollHeight;\n",
              "                            liveDiv.style.color = \"#ffffff\"; // Ensure text remains white\n",
              "                        </script>\n",
              "                        "
            ]
          },
          "metadata": {}
        },
        {
          "output_type": "display_data",
          "data": {
            "text/plain": [
              "<IPython.core.display.HTML object>"
            ],
            "text/html": [
              "\n",
              "                    <script>\n",
              "                        document.getElementById('transcription-progress').style.width = '59%';\n",
              "                        document.getElementById('transcription-status').textContent = 'Transcription in progress...';\n",
              "                    </script>\n",
              "                    "
            ]
          },
          "metadata": {}
        },
        {
          "output_type": "display_data",
          "data": {
            "text/plain": [
              "<IPython.core.display.HTML object>"
            ],
            "text/html": [
              "\n",
              "                        <script>\n",
              "                            var liveDiv = document.getElementById('live-transcription');\n",
              "                            liveDiv.innerHTML = \"Genotypes.\\nRight?\\nTarget.\\nThis is the donor.\\nDonor gene.\";\n",
              "                            liveDiv.parentElement.scrollTop = liveDiv.parentElement.scrollHeight;\n",
              "                            liveDiv.style.color = \"#ffffff\"; // Ensure text remains white\n",
              "                        </script>\n",
              "                        "
            ]
          },
          "metadata": {}
        },
        {
          "output_type": "display_data",
          "data": {
            "text/plain": [
              "<IPython.core.display.HTML object>"
            ],
            "text/html": [
              "\n",
              "                    <script>\n",
              "                        document.getElementById('transcription-progress').style.width = '50%';\n",
              "                        document.getElementById('transcription-status').textContent = 'Transcription in progress...';\n",
              "                    </script>\n",
              "                    "
            ]
          },
          "metadata": {}
        },
        {
          "output_type": "display_data",
          "data": {
            "text/plain": [
              "<IPython.core.display.HTML object>"
            ],
            "text/html": [
              "\n",
              "                        <script>\n",
              "                            var liveDiv = document.getElementById('live-transcription');\n",
              "                            liveDiv.innerHTML = \"Right?\\nTarget.\\nThis is the donor.\\nDonor gene.\\nTarget gene.\";\n",
              "                            liveDiv.parentElement.scrollTop = liveDiv.parentElement.scrollHeight;\n",
              "                            liveDiv.style.color = \"#ffffff\"; // Ensure text remains white\n",
              "                        </script>\n",
              "                        "
            ]
          },
          "metadata": {}
        },
        {
          "output_type": "display_data",
          "data": {
            "text/plain": [
              "<IPython.core.display.HTML object>"
            ],
            "text/html": [
              "\n",
              "                    <script>\n",
              "                        document.getElementById('transcription-progress').style.width = '51%';\n",
              "                        document.getElementById('transcription-status').textContent = 'Transcription in progress...';\n",
              "                    </script>\n",
              "                    "
            ]
          },
          "metadata": {}
        },
        {
          "output_type": "display_data",
          "data": {
            "text/plain": [
              "<IPython.core.display.HTML object>"
            ],
            "text/html": [
              "\n",
              "                        <script>\n",
              "                            var liveDiv = document.getElementById('live-transcription');\n",
              "                            liveDiv.innerHTML = \"Target.\\nThis is the donor.\\nDonor gene.\\nTarget gene.\\nThen we see the proportion of the recurrent parent's genome.\";\n",
              "                            liveDiv.parentElement.scrollTop = liveDiv.parentElement.scrollHeight;\n",
              "                            liveDiv.style.color = \"#ffffff\"; // Ensure text remains white\n",
              "                        </script>\n",
              "                        "
            ]
          },
          "metadata": {}
        },
        {
          "output_type": "display_data",
          "data": {
            "text/plain": [
              "<IPython.core.display.HTML object>"
            ],
            "text/html": [
              "\n",
              "                    <script>\n",
              "                        document.getElementById('transcription-progress').style.width = '52%';\n",
              "                        document.getElementById('transcription-status').textContent = 'Transcription in progress...';\n",
              "                    </script>\n",
              "                    "
            ]
          },
          "metadata": {}
        },
        {
          "output_type": "display_data",
          "data": {
            "text/plain": [
              "<IPython.core.display.HTML object>"
            ],
            "text/html": [
              "\n",
              "                        <script>\n",
              "                            var liveDiv = document.getElementById('live-transcription');\n",
              "                            liveDiv.innerHTML = \"This is the donor.\\nDonor gene.\\nTarget gene.\\nThen we see the proportion of the recurrent parent's genome.\\nSo that's what we are doing.\";\n",
              "                            liveDiv.parentElement.scrollTop = liveDiv.parentElement.scrollHeight;\n",
              "                            liveDiv.style.color = \"#ffffff\"; // Ensure text remains white\n",
              "                        </script>\n",
              "                        "
            ]
          },
          "metadata": {}
        },
        {
          "output_type": "display_data",
          "data": {
            "text/plain": [
              "<IPython.core.display.HTML object>"
            ],
            "text/html": [
              "\n",
              "                    <script>\n",
              "                        document.getElementById('transcription-progress').style.width = '53%';\n",
              "                        document.getElementById('transcription-status').textContent = 'Transcription in progress...';\n",
              "                    </script>\n",
              "                    "
            ]
          },
          "metadata": {}
        },
        {
          "output_type": "display_data",
          "data": {
            "text/plain": [
              "<IPython.core.display.HTML object>"
            ],
            "text/html": [
              "\n",
              "                        <script>\n",
              "                            var liveDiv = document.getElementById('live-transcription');\n",
              "                            liveDiv.innerHTML = \"Donor gene.\\nTarget gene.\\nThen we see the proportion of the recurrent parent's genome.\\nSo that's what we are doing.\\nUsing the markers,\";\n",
              "                            liveDiv.parentElement.scrollTop = liveDiv.parentElement.scrollHeight;\n",
              "                            liveDiv.style.color = \"#ffffff\"; // Ensure text remains white\n",
              "                        </script>\n",
              "                        "
            ]
          },
          "metadata": {}
        },
        {
          "output_type": "display_data",
          "data": {
            "text/plain": [
              "<IPython.core.display.HTML object>"
            ],
            "text/html": [
              "\n",
              "                    <script>\n",
              "                        document.getElementById('transcription-progress').style.width = '54%';\n",
              "                        document.getElementById('transcription-status').textContent = 'Transcription in progress...';\n",
              "                    </script>\n",
              "                    "
            ]
          },
          "metadata": {}
        },
        {
          "output_type": "display_data",
          "data": {
            "text/plain": [
              "<IPython.core.display.HTML object>"
            ],
            "text/html": [
              "\n",
              "                        <script>\n",
              "                            var liveDiv = document.getElementById('live-transcription');\n",
              "                            liveDiv.innerHTML = \"Target gene.\\nThen we see the proportion of the recurrent parent's genome.\\nSo that's what we are doing.\\nUsing the markers,\\nwe are trying to accelerate the process\";\n",
              "                            liveDiv.parentElement.scrollTop = liveDiv.parentElement.scrollHeight;\n",
              "                            liveDiv.style.color = \"#ffffff\"; // Ensure text remains white\n",
              "                        </script>\n",
              "                        "
            ]
          },
          "metadata": {}
        },
        {
          "output_type": "display_data",
          "data": {
            "text/plain": [
              "<IPython.core.display.HTML object>"
            ],
            "text/html": [
              "\n",
              "                    <script>\n",
              "                        document.getElementById('transcription-progress').style.width = '55%';\n",
              "                        document.getElementById('transcription-status').textContent = 'Transcription in progress...';\n",
              "                    </script>\n",
              "                    "
            ]
          },
          "metadata": {}
        },
        {
          "output_type": "display_data",
          "data": {
            "text/plain": [
              "<IPython.core.display.HTML object>"
            ],
            "text/html": [
              "\n",
              "                        <script>\n",
              "                            var liveDiv = document.getElementById('live-transcription');\n",
              "                            liveDiv.innerHTML = \"Then we see the proportion of the recurrent parent's genome.\\nSo that's what we are doing.\\nUsing the markers,\\nwe are trying to accelerate the process\\nrather than waiting till the end of the waiting process.\";\n",
              "                            liveDiv.parentElement.scrollTop = liveDiv.parentElement.scrollHeight;\n",
              "                            liveDiv.style.color = \"#ffffff\"; // Ensure text remains white\n",
              "                        </script>\n",
              "                        "
            ]
          },
          "metadata": {}
        },
        {
          "output_type": "display_data",
          "data": {
            "text/plain": [
              "<IPython.core.display.HTML object>"
            ],
            "text/html": [
              "\n",
              "                    <script>\n",
              "                        document.getElementById('transcription-progress').style.width = '56%';\n",
              "                        document.getElementById('transcription-status').textContent = 'Transcription in progress...';\n",
              "                    </script>\n",
              "                    "
            ]
          },
          "metadata": {}
        },
        {
          "output_type": "display_data",
          "data": {
            "text/plain": [
              "<IPython.core.display.HTML object>"
            ],
            "text/html": [
              "\n",
              "                        <script>\n",
              "                            var liveDiv = document.getElementById('live-transcription');\n",
              "                            liveDiv.innerHTML = \"So that's what we are doing.\\nUsing the markers,\\nwe are trying to accelerate the process\\nrather than waiting till the end of the waiting process.\\nRight?\";\n",
              "                            liveDiv.parentElement.scrollTop = liveDiv.parentElement.scrollHeight;\n",
              "                            liveDiv.style.color = \"#ffffff\"; // Ensure text remains white\n",
              "                        </script>\n",
              "                        "
            ]
          },
          "metadata": {}
        },
        {
          "output_type": "display_data",
          "data": {
            "text/plain": [
              "<IPython.core.display.HTML object>"
            ],
            "text/html": [
              "\n",
              "                    <script>\n",
              "                        document.getElementById('transcription-progress').style.width = '57%';\n",
              "                        document.getElementById('transcription-status').textContent = 'Transcription in progress...';\n",
              "                    </script>\n",
              "                    "
            ]
          },
          "metadata": {}
        },
        {
          "output_type": "display_data",
          "data": {
            "text/plain": [
              "<IPython.core.display.HTML object>"
            ],
            "text/html": [
              "\n",
              "                        <script>\n",
              "                            var liveDiv = document.getElementById('live-transcription');\n",
              "                            liveDiv.innerHTML = \"Using the markers,\\nwe are trying to accelerate the process\\nrather than waiting till the end of the waiting process.\\nRight?\\nSo,\";\n",
              "                            liveDiv.parentElement.scrollTop = liveDiv.parentElement.scrollHeight;\n",
              "                            liveDiv.style.color = \"#ffffff\"; // Ensure text remains white\n",
              "                        </script>\n",
              "                        "
            ]
          },
          "metadata": {}
        },
        {
          "output_type": "display_data",
          "data": {
            "text/plain": [
              "<IPython.core.display.HTML object>"
            ],
            "text/html": [
              "\n",
              "                    <script>\n",
              "                        document.getElementById('transcription-progress').style.width = '58%';\n",
              "                        document.getElementById('transcription-status').textContent = 'Transcription in progress...';\n",
              "                    </script>\n",
              "                    "
            ]
          },
          "metadata": {}
        },
        {
          "output_type": "display_data",
          "data": {
            "text/plain": [
              "<IPython.core.display.HTML object>"
            ],
            "text/html": [
              "\n",
              "                        <script>\n",
              "                            var liveDiv = document.getElementById('live-transcription');\n",
              "                            liveDiv.innerHTML = \"we are trying to accelerate the process\\nrather than waiting till the end of the waiting process.\\nRight?\\nSo,\\nwe have to keep on doing this.\";\n",
              "                            liveDiv.parentElement.scrollTop = liveDiv.parentElement.scrollHeight;\n",
              "                            liveDiv.style.color = \"#ffffff\"; // Ensure text remains white\n",
              "                        </script>\n",
              "                        "
            ]
          },
          "metadata": {}
        },
        {
          "output_type": "display_data",
          "data": {
            "text/plain": [
              "<IPython.core.display.HTML object>"
            ],
            "text/html": [
              "\n",
              "                    <script>\n",
              "                        document.getElementById('transcription-progress').style.width = '59%';\n",
              "                        document.getElementById('transcription-status').textContent = 'Transcription in progress...';\n",
              "                    </script>\n",
              "                    "
            ]
          },
          "metadata": {}
        },
        {
          "output_type": "display_data",
          "data": {
            "text/plain": [
              "<IPython.core.display.HTML object>"
            ],
            "text/html": [
              "\n",
              "                        <script>\n",
              "                            var liveDiv = document.getElementById('live-transcription');\n",
              "                            liveDiv.innerHTML = \"rather than waiting till the end of the waiting process.\\nRight?\\nSo,\\nwe have to keep on doing this.\\nWe have to do this.\";\n",
              "                            liveDiv.parentElement.scrollTop = liveDiv.parentElement.scrollHeight;\n",
              "                            liveDiv.style.color = \"#ffffff\"; // Ensure text remains white\n",
              "                        </script>\n",
              "                        "
            ]
          },
          "metadata": {}
        },
        {
          "output_type": "display_data",
          "data": {
            "text/plain": [
              "<IPython.core.display.HTML object>"
            ],
            "text/html": [
              "\n",
              "                    <script>\n",
              "                        document.getElementById('transcription-progress').style.width = '50%';\n",
              "                        document.getElementById('transcription-status').textContent = 'Transcription in progress...';\n",
              "                    </script>\n",
              "                    "
            ]
          },
          "metadata": {}
        },
        {
          "output_type": "display_data",
          "data": {
            "text/plain": [
              "<IPython.core.display.HTML object>"
            ],
            "text/html": [
              "\n",
              "                        <script>\n",
              "                            var liveDiv = document.getElementById('live-transcription');\n",
              "                            liveDiv.innerHTML = \"Right?\\nSo,\\nwe have to keep on doing this.\\nWe have to do this.\\nWe have to do this.\";\n",
              "                            liveDiv.parentElement.scrollTop = liveDiv.parentElement.scrollHeight;\n",
              "                            liveDiv.style.color = \"#ffffff\"; // Ensure text remains white\n",
              "                        </script>\n",
              "                        "
            ]
          },
          "metadata": {}
        },
        {
          "output_type": "display_data",
          "data": {
            "text/plain": [
              "<IPython.core.display.HTML object>"
            ],
            "text/html": [
              "\n",
              "                    <script>\n",
              "                        document.getElementById('transcription-progress').style.width = '51%';\n",
              "                        document.getElementById('transcription-status').textContent = 'Transcription in progress...';\n",
              "                    </script>\n",
              "                    "
            ]
          },
          "metadata": {}
        },
        {
          "output_type": "display_data",
          "data": {
            "text/plain": [
              "<IPython.core.display.HTML object>"
            ],
            "text/html": [
              "\n",
              "                        <script>\n",
              "                            var liveDiv = document.getElementById('live-transcription');\n",
              "                            liveDiv.innerHTML = \"So,\\nwe have to keep on doing this.\\nWe have to do this.\\nWe have to do this.\\nWe have to do this.\";\n",
              "                            liveDiv.parentElement.scrollTop = liveDiv.parentElement.scrollHeight;\n",
              "                            liveDiv.style.color = \"#ffffff\"; // Ensure text remains white\n",
              "                        </script>\n",
              "                        "
            ]
          },
          "metadata": {}
        },
        {
          "output_type": "display_data",
          "data": {
            "text/plain": [
              "<IPython.core.display.HTML object>"
            ],
            "text/html": [
              "\n",
              "                    <script>\n",
              "                        document.getElementById('transcription-progress').style.width = '52%';\n",
              "                        document.getElementById('transcription-status').textContent = 'Transcription in progress...';\n",
              "                    </script>\n",
              "                    "
            ]
          },
          "metadata": {}
        },
        {
          "output_type": "display_data",
          "data": {
            "text/plain": [
              "<IPython.core.display.HTML object>"
            ],
            "text/html": [
              "\n",
              "                        <script>\n",
              "                            var liveDiv = document.getElementById('live-transcription');\n",
              "                            liveDiv.innerHTML = \"we have to keep on doing this.\\nWe have to do this.\\nWe have to do this.\\nWe have to do this.\\nWe have to do this.\";\n",
              "                            liveDiv.parentElement.scrollTop = liveDiv.parentElement.scrollHeight;\n",
              "                            liveDiv.style.color = \"#ffffff\"; // Ensure text remains white\n",
              "                        </script>\n",
              "                        "
            ]
          },
          "metadata": {}
        },
        {
          "output_type": "display_data",
          "data": {
            "text/plain": [
              "<IPython.core.display.HTML object>"
            ],
            "text/html": [
              "\n",
              "                    <script>\n",
              "                        document.getElementById('transcription-progress').style.width = '53%';\n",
              "                        document.getElementById('transcription-status').textContent = 'Transcription in progress...';\n",
              "                    </script>\n",
              "                    "
            ]
          },
          "metadata": {}
        },
        {
          "output_type": "display_data",
          "data": {
            "text/plain": [
              "<IPython.core.display.HTML object>"
            ],
            "text/html": [
              "\n",
              "                        <script>\n",
              "                            var liveDiv = document.getElementById('live-transcription');\n",
              "                            liveDiv.innerHTML = \"We have to do this.\\nWe have to do this.\\nWe have to do this.\\nWe have to do this.\\nWe have to do this.\";\n",
              "                            liveDiv.parentElement.scrollTop = liveDiv.parentElement.scrollHeight;\n",
              "                            liveDiv.style.color = \"#ffffff\"; // Ensure text remains white\n",
              "                        </script>\n",
              "                        "
            ]
          },
          "metadata": {}
        },
        {
          "output_type": "display_data",
          "data": {
            "text/plain": [
              "<IPython.core.display.HTML object>"
            ],
            "text/html": [
              "\n",
              "                    <script>\n",
              "                        document.getElementById('transcription-progress').style.width = '54%';\n",
              "                        document.getElementById('transcription-status').textContent = 'Transcription in progress...';\n",
              "                    </script>\n",
              "                    "
            ]
          },
          "metadata": {}
        },
        {
          "output_type": "display_data",
          "data": {
            "text/plain": [
              "<IPython.core.display.HTML object>"
            ],
            "text/html": [
              "\n",
              "                        <script>\n",
              "                            var liveDiv = document.getElementById('live-transcription');\n",
              "                            liveDiv.innerHTML = \"We have to do this.\\nWe have to do this.\\nWe have to do this.\\nWe have to do this.\\nWe have to do this.\";\n",
              "                            liveDiv.parentElement.scrollTop = liveDiv.parentElement.scrollHeight;\n",
              "                            liveDiv.style.color = \"#ffffff\"; // Ensure text remains white\n",
              "                        </script>\n",
              "                        "
            ]
          },
          "metadata": {}
        },
        {
          "output_type": "display_data",
          "data": {
            "text/plain": [
              "<IPython.core.display.HTML object>"
            ],
            "text/html": [
              "\n",
              "                    <script>\n",
              "                        document.getElementById('transcription-progress').style.width = '55%';\n",
              "                        document.getElementById('transcription-status').textContent = 'Transcription in progress...';\n",
              "                    </script>\n",
              "                    "
            ]
          },
          "metadata": {}
        },
        {
          "output_type": "display_data",
          "data": {
            "text/plain": [
              "<IPython.core.display.HTML object>"
            ],
            "text/html": [
              "\n",
              "                        <script>\n",
              "                            var liveDiv = document.getElementById('live-transcription');\n",
              "                            liveDiv.innerHTML = \"We have to do this.\\nWe have to do this.\\nWe have to do this.\\nWe have to do this.\\nThis is the body.\";\n",
              "                            liveDiv.parentElement.scrollTop = liveDiv.parentElement.scrollHeight;\n",
              "                            liveDiv.style.color = \"#ffffff\"; // Ensure text remains white\n",
              "                        </script>\n",
              "                        "
            ]
          },
          "metadata": {}
        },
        {
          "output_type": "display_data",
          "data": {
            "text/plain": [
              "<IPython.core.display.HTML object>"
            ],
            "text/html": [
              "\n",
              "                    <script>\n",
              "                        document.getElementById('transcription-progress').style.width = '56%';\n",
              "                        document.getElementById('transcription-status').textContent = 'Transcription in progress...';\n",
              "                    </script>\n",
              "                    "
            ]
          },
          "metadata": {}
        },
        {
          "output_type": "display_data",
          "data": {
            "text/plain": [
              "<IPython.core.display.HTML object>"
            ],
            "text/html": [
              "\n",
              "                        <script>\n",
              "                            var liveDiv = document.getElementById('live-transcription');\n",
              "                            liveDiv.innerHTML = \"We have to do this.\\nWe have to do this.\\nWe have to do this.\\nThis is the body.\\nThis is the organ.\";\n",
              "                            liveDiv.parentElement.scrollTop = liveDiv.parentElement.scrollHeight;\n",
              "                            liveDiv.style.color = \"#ffffff\"; // Ensure text remains white\n",
              "                        </script>\n",
              "                        "
            ]
          },
          "metadata": {}
        },
        {
          "output_type": "display_data",
          "data": {
            "text/plain": [
              "<IPython.core.display.HTML object>"
            ],
            "text/html": [
              "\n",
              "                    <script>\n",
              "                        document.getElementById('transcription-progress').style.width = '57%';\n",
              "                        document.getElementById('transcription-status').textContent = 'Transcription in progress...';\n",
              "                    </script>\n",
              "                    "
            ]
          },
          "metadata": {}
        },
        {
          "output_type": "display_data",
          "data": {
            "text/plain": [
              "<IPython.core.display.HTML object>"
            ],
            "text/html": [
              "\n",
              "                        <script>\n",
              "                            var liveDiv = document.getElementById('live-transcription');\n",
              "                            liveDiv.innerHTML = \"We have to do this.\\nWe have to do this.\\nThis is the body.\\nThis is the organ.\\nThis is the brain.\";\n",
              "                            liveDiv.parentElement.scrollTop = liveDiv.parentElement.scrollHeight;\n",
              "                            liveDiv.style.color = \"#ffffff\"; // Ensure text remains white\n",
              "                        </script>\n",
              "                        "
            ]
          },
          "metadata": {}
        },
        {
          "output_type": "display_data",
          "data": {
            "text/plain": [
              "<IPython.core.display.HTML object>"
            ],
            "text/html": [
              "\n",
              "                    <script>\n",
              "                        document.getElementById('transcription-progress').style.width = '58%';\n",
              "                        document.getElementById('transcription-status').textContent = 'Transcription in progress...';\n",
              "                    </script>\n",
              "                    "
            ]
          },
          "metadata": {}
        },
        {
          "output_type": "display_data",
          "data": {
            "text/plain": [
              "<IPython.core.display.HTML object>"
            ],
            "text/html": [
              "\n",
              "                        <script>\n",
              "                            var liveDiv = document.getElementById('live-transcription');\n",
              "                            liveDiv.innerHTML = \"We have to do this.\\nThis is the body.\\nThis is the organ.\\nThis is the brain.\\nThis is the cell.\";\n",
              "                            liveDiv.parentElement.scrollTop = liveDiv.parentElement.scrollHeight;\n",
              "                            liveDiv.style.color = \"#ffffff\"; // Ensure text remains white\n",
              "                        </script>\n",
              "                        "
            ]
          },
          "metadata": {}
        },
        {
          "output_type": "display_data",
          "data": {
            "text/plain": [
              "<IPython.core.display.HTML object>"
            ],
            "text/html": [
              "\n",
              "                    <script>\n",
              "                        document.getElementById('transcription-progress').style.width = '59%';\n",
              "                        document.getElementById('transcription-status').textContent = 'Transcription in progress...';\n",
              "                    </script>\n",
              "                    "
            ]
          },
          "metadata": {}
        },
        {
          "output_type": "display_data",
          "data": {
            "text/plain": [
              "<IPython.core.display.HTML object>"
            ],
            "text/html": [
              "\n",
              "                        <script>\n",
              "                            var liveDiv = document.getElementById('live-transcription');\n",
              "                            liveDiv.innerHTML = \"This is the body.\\nThis is the organ.\\nThis is the brain.\\nThis is the cell.\\nThis is the brain.\";\n",
              "                            liveDiv.parentElement.scrollTop = liveDiv.parentElement.scrollHeight;\n",
              "                            liveDiv.style.color = \"#ffffff\"; // Ensure text remains white\n",
              "                        </script>\n",
              "                        "
            ]
          },
          "metadata": {}
        },
        {
          "output_type": "display_data",
          "data": {
            "text/plain": [
              "<IPython.core.display.HTML object>"
            ],
            "text/html": [
              "\n",
              "                    <script>\n",
              "                        document.getElementById('transcription-progress').style.width = '50%';\n",
              "                        document.getElementById('transcription-status').textContent = 'Transcription in progress...';\n",
              "                    </script>\n",
              "                    "
            ]
          },
          "metadata": {}
        },
        {
          "output_type": "display_data",
          "data": {
            "text/plain": [
              "<IPython.core.display.HTML object>"
            ],
            "text/html": [
              "\n",
              "                        <script>\n",
              "                            var liveDiv = document.getElementById('live-transcription');\n",
              "                            liveDiv.innerHTML = \"This is the organ.\\nThis is the brain.\\nThis is the cell.\\nThis is the brain.\\nThis is the body.\";\n",
              "                            liveDiv.parentElement.scrollTop = liveDiv.parentElement.scrollHeight;\n",
              "                            liveDiv.style.color = \"#ffffff\"; // Ensure text remains white\n",
              "                        </script>\n",
              "                        "
            ]
          },
          "metadata": {}
        },
        {
          "output_type": "display_data",
          "data": {
            "text/plain": [
              "<IPython.core.display.HTML object>"
            ],
            "text/html": [
              "\n",
              "                    <script>\n",
              "                        document.getElementById('transcription-progress').style.width = '51%';\n",
              "                        document.getElementById('transcription-status').textContent = 'Transcription in progress...';\n",
              "                    </script>\n",
              "                    "
            ]
          },
          "metadata": {}
        },
        {
          "output_type": "display_data",
          "data": {
            "text/plain": [
              "<IPython.core.display.HTML object>"
            ],
            "text/html": [
              "\n",
              "                        <script>\n",
              "                            var liveDiv = document.getElementById('live-transcription');\n",
              "                            liveDiv.innerHTML = \"This is the brain.\\nThis is the cell.\\nThis is the brain.\\nThis is the body.\\nSo,\";\n",
              "                            liveDiv.parentElement.scrollTop = liveDiv.parentElement.scrollHeight;\n",
              "                            liveDiv.style.color = \"#ffffff\"; // Ensure text remains white\n",
              "                        </script>\n",
              "                        "
            ]
          },
          "metadata": {}
        },
        {
          "output_type": "display_data",
          "data": {
            "text/plain": [
              "<IPython.core.display.HTML object>"
            ],
            "text/html": [
              "\n",
              "                    <script>\n",
              "                        document.getElementById('transcription-progress').style.width = '52%';\n",
              "                        document.getElementById('transcription-status').textContent = 'Transcription in progress...';\n",
              "                    </script>\n",
              "                    "
            ]
          },
          "metadata": {}
        },
        {
          "output_type": "display_data",
          "data": {
            "text/plain": [
              "<IPython.core.display.HTML object>"
            ],
            "text/html": [
              "\n",
              "                        <script>\n",
              "                            var liveDiv = document.getElementById('live-transcription');\n",
              "                            liveDiv.innerHTML = \"This is the cell.\\nThis is the brain.\\nThis is the body.\\nSo,\\nSo the conventional back-crossing.\";\n",
              "                            liveDiv.parentElement.scrollTop = liveDiv.parentElement.scrollHeight;\n",
              "                            liveDiv.style.color = \"#ffffff\"; // Ensure text remains white\n",
              "                        </script>\n",
              "                        "
            ]
          },
          "metadata": {}
        },
        {
          "output_type": "display_data",
          "data": {
            "text/plain": [
              "<IPython.core.display.HTML object>"
            ],
            "text/html": [
              "\n",
              "                    <script>\n",
              "                        document.getElementById('transcription-progress').style.width = '53%';\n",
              "                        document.getElementById('transcription-status').textContent = 'Transcription in progress...';\n",
              "                    </script>\n",
              "                    "
            ]
          },
          "metadata": {}
        },
        {
          "output_type": "display_data",
          "data": {
            "text/plain": [
              "<IPython.core.display.HTML object>"
            ],
            "text/html": [
              "\n",
              "                        <script>\n",
              "                            var liveDiv = document.getElementById('live-transcription');\n",
              "                            liveDiv.innerHTML = \"This is the brain.\\nThis is the body.\\nSo,\\nSo the conventional back-crossing.\\nSo this you all have,\";\n",
              "                            liveDiv.parentElement.scrollTop = liveDiv.parentElement.scrollHeight;\n",
              "                            liveDiv.style.color = \"#ffffff\"; // Ensure text remains white\n",
              "                        </script>\n",
              "                        "
            ]
          },
          "metadata": {}
        },
        {
          "output_type": "display_data",
          "data": {
            "text/plain": [
              "<IPython.core.display.HTML object>"
            ],
            "text/html": [
              "\n",
              "                    <script>\n",
              "                        document.getElementById('transcription-progress').style.width = '54%';\n",
              "                        document.getElementById('transcription-status').textContent = 'Transcription in progress...';\n",
              "                    </script>\n",
              "                    "
            ]
          },
          "metadata": {}
        },
        {
          "output_type": "display_data",
          "data": {
            "text/plain": [
              "<IPython.core.display.HTML object>"
            ],
            "text/html": [
              "\n",
              "                        <script>\n",
              "                            var liveDiv = document.getElementById('live-transcription');\n",
              "                            liveDiv.innerHTML = \"This is the body.\\nSo,\\nSo the conventional back-crossing.\\nSo this you all have,\\nyou all have learned before.\";\n",
              "                            liveDiv.parentElement.scrollTop = liveDiv.parentElement.scrollHeight;\n",
              "                            liveDiv.style.color = \"#ffffff\"; // Ensure text remains white\n",
              "                        </script>\n",
              "                        "
            ]
          },
          "metadata": {}
        },
        {
          "output_type": "display_data",
          "data": {
            "text/plain": [
              "<IPython.core.display.HTML object>"
            ],
            "text/html": [
              "\n",
              "                    <script>\n",
              "                        document.getElementById('transcription-progress').style.width = '55%';\n",
              "                        document.getElementById('transcription-status').textContent = 'Transcription in progress...';\n",
              "                    </script>\n",
              "                    "
            ]
          },
          "metadata": {}
        },
        {
          "output_type": "display_data",
          "data": {
            "text/plain": [
              "<IPython.core.display.HTML object>"
            ],
            "text/html": [
              "\n",
              "                        <script>\n",
              "                            var liveDiv = document.getElementById('live-transcription');\n",
              "                            liveDiv.innerHTML = \"So,\\nSo the conventional back-crossing.\\nSo this you all have,\\nyou all have learned before.\\nRight?\";\n",
              "                            liveDiv.parentElement.scrollTop = liveDiv.parentElement.scrollHeight;\n",
              "                            liveDiv.style.color = \"#ffffff\"; // Ensure text remains white\n",
              "                        </script>\n",
              "                        "
            ]
          },
          "metadata": {}
        },
        {
          "output_type": "display_data",
          "data": {
            "text/plain": [
              "<IPython.core.display.HTML object>"
            ],
            "text/html": [
              "\n",
              "                    <script>\n",
              "                        document.getElementById('transcription-progress').style.width = '56%';\n",
              "                        document.getElementById('transcription-status').textContent = 'Transcription in progress...';\n",
              "                    </script>\n",
              "                    "
            ]
          },
          "metadata": {}
        },
        {
          "output_type": "display_data",
          "data": {
            "text/plain": [
              "<IPython.core.display.HTML object>"
            ],
            "text/html": [
              "\n",
              "                        <script>\n",
              "                            var liveDiv = document.getElementById('live-transcription');\n",
              "                            liveDiv.innerHTML = \"So the conventional back-crossing.\\nSo this you all have,\\nyou all have learned before.\\nRight?\\nBut,\";\n",
              "                            liveDiv.parentElement.scrollTop = liveDiv.parentElement.scrollHeight;\n",
              "                            liveDiv.style.color = \"#ffffff\"; // Ensure text remains white\n",
              "                        </script>\n",
              "                        "
            ]
          },
          "metadata": {}
        },
        {
          "output_type": "display_data",
          "data": {
            "text/plain": [
              "<IPython.core.display.HTML object>"
            ],
            "text/html": [
              "\n",
              "                    <script>\n",
              "                        document.getElementById('transcription-progress').style.width = '57%';\n",
              "                        document.getElementById('transcription-status').textContent = 'Transcription in progress...';\n",
              "                    </script>\n",
              "                    "
            ]
          },
          "metadata": {}
        },
        {
          "output_type": "display_data",
          "data": {
            "text/plain": [
              "<IPython.core.display.HTML object>"
            ],
            "text/html": [
              "\n",
              "                        <script>\n",
              "                            var liveDiv = document.getElementById('live-transcription');\n",
              "                            liveDiv.innerHTML = \"So this you all have,\\nyou all have learned before.\\nRight?\\nBut,\\nI will not,\";\n",
              "                            liveDiv.parentElement.scrollTop = liveDiv.parentElement.scrollHeight;\n",
              "                            liveDiv.style.color = \"#ffffff\"; // Ensure text remains white\n",
              "                        </script>\n",
              "                        "
            ]
          },
          "metadata": {}
        },
        {
          "output_type": "display_data",
          "data": {
            "text/plain": [
              "<IPython.core.display.HTML object>"
            ],
            "text/html": [
              "\n",
              "                    <script>\n",
              "                        document.getElementById('transcription-progress').style.width = '58%';\n",
              "                        document.getElementById('transcription-status').textContent = 'Transcription in progress...';\n",
              "                    </script>\n",
              "                    "
            ]
          },
          "metadata": {}
        },
        {
          "output_type": "display_data",
          "data": {
            "text/plain": [
              "<IPython.core.display.HTML object>"
            ],
            "text/html": [
              "\n",
              "                        <script>\n",
              "                            var liveDiv = document.getElementById('live-transcription');\n",
              "                            liveDiv.innerHTML = \"you all have learned before.\\nRight?\\nBut,\\nI will not,\\nSo, we have the two pairs, we cross, get the F1, back cross and we do it for multiple generations,\";\n",
              "                            liveDiv.parentElement.scrollTop = liveDiv.parentElement.scrollHeight;\n",
              "                            liveDiv.style.color = \"#ffffff\"; // Ensure text remains white\n",
              "                        </script>\n",
              "                        "
            ]
          },
          "metadata": {}
        },
        {
          "output_type": "display_data",
          "data": {
            "text/plain": [
              "<IPython.core.display.HTML object>"
            ],
            "text/html": [
              "\n",
              "                    <script>\n",
              "                        document.getElementById('transcription-progress').style.width = '59%';\n",
              "                        document.getElementById('transcription-status').textContent = 'Transcription in progress...';\n",
              "                    </script>\n",
              "                    "
            ]
          },
          "metadata": {}
        },
        {
          "output_type": "display_data",
          "data": {
            "text/plain": [
              "<IPython.core.display.HTML object>"
            ],
            "text/html": [
              "\n",
              "                        <script>\n",
              "                            var liveDiv = document.getElementById('live-transcription');\n",
              "                            liveDiv.innerHTML = \"Right?\\nBut,\\nI will not,\\nSo, we have the two pairs, we cross, get the F1, back cross and we do it for multiple generations,\\nselection and crossing, selection and crossing.\";\n",
              "                            liveDiv.parentElement.scrollTop = liveDiv.parentElement.scrollHeight;\n",
              "                            liveDiv.style.color = \"#ffffff\"; // Ensure text remains white\n",
              "                        </script>\n",
              "                        "
            ]
          },
          "metadata": {}
        },
        {
          "output_type": "display_data",
          "data": {
            "text/plain": [
              "<IPython.core.display.HTML object>"
            ],
            "text/html": [
              "\n",
              "                    <script>\n",
              "                        document.getElementById('transcription-progress').style.width = '50%';\n",
              "                        document.getElementById('transcription-status').textContent = 'Transcription in progress...';\n",
              "                    </script>\n",
              "                    "
            ]
          },
          "metadata": {}
        },
        {
          "output_type": "display_data",
          "data": {
            "text/plain": [
              "<IPython.core.display.HTML object>"
            ],
            "text/html": [
              "\n",
              "                        <script>\n",
              "                            var liveDiv = document.getElementById('live-transcription');\n",
              "                            liveDiv.innerHTML = \"But,\\nI will not,\\nSo, we have the two pairs, we cross, get the F1, back cross and we do it for multiple generations,\\nselection and crossing, selection and crossing.\\nAnd at the last stage, you serve the plants to make sure that all your alleles are homocytes,\";\n",
              "                            liveDiv.parentElement.scrollTop = liveDiv.parentElement.scrollHeight;\n",
              "                            liveDiv.style.color = \"#ffffff\"; // Ensure text remains white\n",
              "                        </script>\n",
              "                        "
            ]
          },
          "metadata": {}
        },
        {
          "output_type": "display_data",
          "data": {
            "text/plain": [
              "<IPython.core.display.HTML object>"
            ],
            "text/html": [
              "\n",
              "                    <script>\n",
              "                        document.getElementById('transcription-progress').style.width = '51%';\n",
              "                        document.getElementById('transcription-status').textContent = 'Transcription in progress...';\n",
              "                    </script>\n",
              "                    "
            ]
          },
          "metadata": {}
        },
        {
          "output_type": "display_data",
          "data": {
            "text/plain": [
              "<IPython.core.display.HTML object>"
            ],
            "text/html": [
              "\n",
              "                        <script>\n",
              "                            var liveDiv = document.getElementById('live-transcription');\n",
              "                            liveDiv.innerHTML = \"I will not,\\nSo, we have the two pairs, we cross, get the F1, back cross and we do it for multiple generations,\\nselection and crossing, selection and crossing.\\nAnd at the last stage, you serve the plants to make sure that all your alleles are homocytes,\\nimmigrants. So, additional back crossers may be required due to linkage trap.\";\n",
              "                            liveDiv.parentElement.scrollTop = liveDiv.parentElement.scrollHeight;\n",
              "                            liveDiv.style.color = \"#ffffff\"; // Ensure text remains white\n",
              "                        </script>\n",
              "                        "
            ]
          },
          "metadata": {}
        },
        {
          "output_type": "display_data",
          "data": {
            "text/plain": [
              "<IPython.core.display.HTML object>"
            ],
            "text/html": [
              "\n",
              "                    <script>\n",
              "                        document.getElementById('transcription-progress').style.width = '52%';\n",
              "                        document.getElementById('transcription-status').textContent = 'Transcription in progress...';\n",
              "                    </script>\n",
              "                    "
            ]
          },
          "metadata": {}
        },
        {
          "output_type": "display_data",
          "data": {
            "text/plain": [
              "<IPython.core.display.HTML object>"
            ],
            "text/html": [
              "\n",
              "                        <script>\n",
              "                            var liveDiv = document.getElementById('live-transcription');\n",
              "                            liveDiv.innerHTML = \"So, we have the two pairs, we cross, get the F1, back cross and we do it for multiple generations,\\nselection and crossing, selection and crossing.\\nAnd at the last stage, you serve the plants to make sure that all your alleles are homocytes,\\nimmigrants. So, additional back crossers may be required due to linkage trap.\\nHave you heard this word before, linkage trap?\";\n",
              "                            liveDiv.parentElement.scrollTop = liveDiv.parentElement.scrollHeight;\n",
              "                            liveDiv.style.color = \"#ffffff\"; // Ensure text remains white\n",
              "                        </script>\n",
              "                        "
            ]
          },
          "metadata": {}
        },
        {
          "output_type": "display_data",
          "data": {
            "text/plain": [
              "<IPython.core.display.HTML object>"
            ],
            "text/html": [
              "\n",
              "                    <script>\n",
              "                        document.getElementById('transcription-progress').style.width = '53%';\n",
              "                        document.getElementById('transcription-status').textContent = 'Transcription in progress...';\n",
              "                    </script>\n",
              "                    "
            ]
          },
          "metadata": {}
        },
        {
          "output_type": "display_data",
          "data": {
            "text/plain": [
              "<IPython.core.display.HTML object>"
            ],
            "text/html": [
              "\n",
              "                        <script>\n",
              "                            var liveDiv = document.getElementById('live-transcription');\n",
              "                            liveDiv.innerHTML = \"selection and crossing, selection and crossing.\\nAnd at the last stage, you serve the plants to make sure that all your alleles are homocytes,\\nimmigrants. So, additional back crossers may be required due to linkage trap.\\nHave you heard this word before, linkage trap?\\nSo, the target, we know the target gene, where it is located in the chromosome, the donor parent's gene.\";\n",
              "                            liveDiv.parentElement.scrollTop = liveDiv.parentElement.scrollHeight;\n",
              "                            liveDiv.style.color = \"#ffffff\"; // Ensure text remains white\n",
              "                        </script>\n",
              "                        "
            ]
          },
          "metadata": {}
        },
        {
          "output_type": "display_data",
          "data": {
            "text/plain": [
              "<IPython.core.display.HTML object>"
            ],
            "text/html": [
              "\n",
              "                    <script>\n",
              "                        document.getElementById('transcription-progress').style.width = '54%';\n",
              "                        document.getElementById('transcription-status').textContent = 'Transcription in progress...';\n",
              "                    </script>\n",
              "                    "
            ]
          },
          "metadata": {}
        },
        {
          "output_type": "display_data",
          "data": {
            "text/plain": [
              "<IPython.core.display.HTML object>"
            ],
            "text/html": [
              "\n",
              "                        <script>\n",
              "                            var liveDiv = document.getElementById('live-transcription');\n",
              "                            liveDiv.innerHTML = \"And at the last stage, you serve the plants to make sure that all your alleles are homocytes,\\nimmigrants. So, additional back crossers may be required due to linkage trap.\\nHave you heard this word before, linkage trap?\\nSo, the target, we know the target gene, where it is located in the chromosome, the donor parent's gene.\\nWhere it is coming to the recurrent parent, it can come along with the linked genes to that target.\";\n",
              "                            liveDiv.parentElement.scrollTop = liveDiv.parentElement.scrollHeight;\n",
              "                            liveDiv.style.color = \"#ffffff\"; // Ensure text remains white\n",
              "                        </script>\n",
              "                        "
            ]
          },
          "metadata": {}
        },
        {
          "output_type": "display_data",
          "data": {
            "text/plain": [
              "<IPython.core.display.HTML object>"
            ],
            "text/html": [
              "\n",
              "                    <script>\n",
              "                        document.getElementById('transcription-progress').style.width = '55%';\n",
              "                        document.getElementById('transcription-status').textContent = 'Transcription in progress...';\n",
              "                    </script>\n",
              "                    "
            ]
          },
          "metadata": {}
        },
        {
          "output_type": "display_data",
          "data": {
            "text/plain": [
              "<IPython.core.display.HTML object>"
            ],
            "text/html": [
              "\n",
              "                        <script>\n",
              "                            var liveDiv = document.getElementById('live-transcription');\n",
              "                            liveDiv.innerHTML = \"immigrants. So, additional back crossers may be required due to linkage trap.\\nHave you heard this word before, linkage trap?\\nSo, the target, we know the target gene, where it is located in the chromosome, the donor parent's gene.\\nWhere it is coming to the recurrent parent, it can come along with the linked genes to that target.\\nThat is called the linkage trap. So, the genes that are linked to the target gene can cause unexpected effects.\";\n",
              "                            liveDiv.parentElement.scrollTop = liveDiv.parentElement.scrollHeight;\n",
              "                            liveDiv.style.color = \"#ffffff\"; // Ensure text remains white\n",
              "                        </script>\n",
              "                        "
            ]
          },
          "metadata": {}
        },
        {
          "output_type": "display_data",
          "data": {
            "text/plain": [
              "<IPython.core.display.HTML object>"
            ],
            "text/html": [
              "\n",
              "                    <script>\n",
              "                        document.getElementById('transcription-progress').style.width = '56%';\n",
              "                        document.getElementById('transcription-status').textContent = 'Transcription in progress...';\n",
              "                    </script>\n",
              "                    "
            ]
          },
          "metadata": {}
        },
        {
          "output_type": "display_data",
          "data": {
            "text/plain": [
              "<IPython.core.display.HTML object>"
            ],
            "text/html": [
              "\n",
              "                        <script>\n",
              "                            var liveDiv = document.getElementById('live-transcription');\n",
              "                            liveDiv.innerHTML = \"Have you heard this word before, linkage trap?\\nSo, the target, we know the target gene, where it is located in the chromosome, the donor parent's gene.\\nWhere it is coming to the recurrent parent, it can come along with the linked genes to that target.\\nThat is called the linkage trap. So, the genes that are linked to the target gene can cause unexpected effects.\\nSo, that is what we call the linkage trap.\";\n",
              "                            liveDiv.parentElement.scrollTop = liveDiv.parentElement.scrollHeight;\n",
              "                            liveDiv.style.color = \"#ffffff\"; // Ensure text remains white\n",
              "                        </script>\n",
              "                        "
            ]
          },
          "metadata": {}
        },
        {
          "output_type": "display_data",
          "data": {
            "text/plain": [
              "<IPython.core.display.HTML object>"
            ],
            "text/html": [
              "\n",
              "                    <script>\n",
              "                        document.getElementById('transcription-progress').style.width = '57%';\n",
              "                        document.getElementById('transcription-status').textContent = 'Transcription in progress...';\n",
              "                    </script>\n",
              "                    "
            ]
          },
          "metadata": {}
        },
        {
          "output_type": "display_data",
          "data": {
            "text/plain": [
              "<IPython.core.display.HTML object>"
            ],
            "text/html": [
              "\n",
              "                        <script>\n",
              "                            var liveDiv = document.getElementById('live-transcription');\n",
              "                            liveDiv.innerHTML = \"So, the target, we know the target gene, where it is located in the chromosome, the donor parent's gene.\\nWhere it is coming to the recurrent parent, it can come along with the linked genes to that target.\\nThat is called the linkage trap. So, the genes that are linked to the target gene can cause unexpected effects.\\nSo, that is what we call the linkage trap.\\nSo, you can see in the back cross one, the black portion is from the donor parent's gene.\";\n",
              "                            liveDiv.parentElement.scrollTop = liveDiv.parentElement.scrollHeight;\n",
              "                            liveDiv.style.color = \"#ffffff\"; // Ensure text remains white\n",
              "                        </script>\n",
              "                        "
            ]
          },
          "metadata": {}
        },
        {
          "output_type": "display_data",
          "data": {
            "text/plain": [
              "<IPython.core.display.HTML object>"
            ],
            "text/html": [
              "\n",
              "                    <script>\n",
              "                        document.getElementById('transcription-progress').style.width = '58%';\n",
              "                        document.getElementById('transcription-status').textContent = 'Transcription in progress...';\n",
              "                    </script>\n",
              "                    "
            ]
          },
          "metadata": {}
        },
        {
          "output_type": "display_data",
          "data": {
            "text/plain": [
              "<IPython.core.display.HTML object>"
            ],
            "text/html": [
              "\n",
              "                        <script>\n",
              "                            var liveDiv = document.getElementById('live-transcription');\n",
              "                            liveDiv.innerHTML = \"Where it is coming to the recurrent parent, it can come along with the linked genes to that target.\\nThat is called the linkage trap. So, the genes that are linked to the target gene can cause unexpected effects.\\nSo, that is what we call the linkage trap.\\nSo, you can see in the back cross one, the black portion is from the donor parent's gene.\\nAfter back cross one, you have little white space and the rest is black.\";\n",
              "                            liveDiv.parentElement.scrollTop = liveDiv.parentElement.scrollHeight;\n",
              "                            liveDiv.style.color = \"#ffffff\"; // Ensure text remains white\n",
              "                        </script>\n",
              "                        "
            ]
          },
          "metadata": {}
        },
        {
          "output_type": "display_data",
          "data": {
            "text/plain": [
              "<IPython.core.display.HTML object>"
            ],
            "text/html": [
              "\n",
              "                    <script>\n",
              "                        document.getElementById('transcription-progress').style.width = '59%';\n",
              "                        document.getElementById('transcription-status').textContent = 'Transcription in progress...';\n",
              "                    </script>\n",
              "                    "
            ]
          },
          "metadata": {}
        },
        {
          "output_type": "display_data",
          "data": {
            "text/plain": [
              "<IPython.core.display.HTML object>"
            ],
            "text/html": [
              "\n",
              "                        <script>\n",
              "                            var liveDiv = document.getElementById('live-transcription');\n",
              "                            liveDiv.innerHTML = \"That is called the linkage trap. So, the genes that are linked to the target gene can cause unexpected effects.\\nSo, that is what we call the linkage trap.\\nSo, you can see in the back cross one, the black portion is from the donor parent's gene.\\nAfter back cross one, you have little white space and the rest is black.\\nSo, you want more white compared to the black.\";\n",
              "                            liveDiv.parentElement.scrollTop = liveDiv.parentElement.scrollHeight;\n",
              "                            liveDiv.style.color = \"#ffffff\"; // Ensure text remains white\n",
              "                        </script>\n",
              "                        "
            ]
          },
          "metadata": {}
        },
        {
          "output_type": "display_data",
          "data": {
            "text/plain": [
              "<IPython.core.display.HTML object>"
            ],
            "text/html": [
              "\n",
              "                    <script>\n",
              "                        document.getElementById('transcription-progress').style.width = '50%';\n",
              "                        document.getElementById('transcription-status').textContent = 'Transcription in progress...';\n",
              "                    </script>\n",
              "                    "
            ]
          },
          "metadata": {}
        },
        {
          "output_type": "display_data",
          "data": {
            "text/plain": [
              "<IPython.core.display.HTML object>"
            ],
            "text/html": [
              "\n",
              "                        <script>\n",
              "                            var liveDiv = document.getElementById('live-transcription');\n",
              "                            liveDiv.innerHTML = \"So, that is what we call the linkage trap.\\nSo, you can see in the back cross one, the black portion is from the donor parent's gene.\\nAfter back cross one, you have little white space and the rest is black.\\nSo, you want more white compared to the black.\\nOnly for the target, you can have the donor DNA.\";\n",
              "                            liveDiv.parentElement.scrollTop = liveDiv.parentElement.scrollHeight;\n",
              "                            liveDiv.style.color = \"#ffffff\"; // Ensure text remains white\n",
              "                        </script>\n",
              "                        "
            ]
          },
          "metadata": {}
        },
        {
          "output_type": "display_data",
          "data": {
            "text/plain": [
              "<IPython.core.display.HTML object>"
            ],
            "text/html": [
              "\n",
              "                    <script>\n",
              "                        document.getElementById('transcription-progress').style.width = '51%';\n",
              "                        document.getElementById('transcription-status').textContent = 'Transcription in progress...';\n",
              "                    </script>\n",
              "                    "
            ]
          },
          "metadata": {}
        },
        {
          "output_type": "display_data",
          "data": {
            "text/plain": [
              "<IPython.core.display.HTML object>"
            ],
            "text/html": [
              "\n",
              "                        <script>\n",
              "                            var liveDiv = document.getElementById('live-transcription');\n",
              "                            liveDiv.innerHTML = \"So, you can see in the back cross one, the black portion is from the donor parent's gene.\\nAfter back cross one, you have little white space and the rest is black.\\nSo, you want more white compared to the black.\\nOnly for the target, you can have the donor DNA.\\nBut if you not come along, if you not only come to gene, if you come along with the other linked genes,\";\n",
              "                            liveDiv.parentElement.scrollTop = liveDiv.parentElement.scrollHeight;\n",
              "                            liveDiv.style.color = \"#ffffff\"; // Ensure text remains white\n",
              "                        </script>\n",
              "                        "
            ]
          },
          "metadata": {}
        },
        {
          "output_type": "display_data",
          "data": {
            "text/plain": [
              "<IPython.core.display.HTML object>"
            ],
            "text/html": [
              "\n",
              "                    <script>\n",
              "                        document.getElementById('transcription-progress').style.width = '52%';\n",
              "                        document.getElementById('transcription-status').textContent = 'Transcription in progress...';\n",
              "                    </script>\n",
              "                    "
            ]
          },
          "metadata": {}
        },
        {
          "output_type": "display_data",
          "data": {
            "text/plain": [
              "<IPython.core.display.HTML object>"
            ],
            "text/html": [
              "\n",
              "                        <script>\n",
              "                            var liveDiv = document.getElementById('live-transcription');\n",
              "                            liveDiv.innerHTML = \"After back cross one, you have little white space and the rest is black.\\nSo, you want more white compared to the black.\\nOnly for the target, you can have the donor DNA.\\nBut if you not come along, if you not only come to gene, if you come along with the other linked genes,\\nthose can have an effect.\";\n",
              "                            liveDiv.parentElement.scrollTop = liveDiv.parentElement.scrollHeight;\n",
              "                            liveDiv.style.color = \"#ffffff\"; // Ensure text remains white\n",
              "                        </script>\n",
              "                        "
            ]
          },
          "metadata": {}
        },
        {
          "output_type": "display_data",
          "data": {
            "text/plain": [
              "<IPython.core.display.HTML object>"
            ],
            "text/html": [
              "\n",
              "                    <script>\n",
              "                        document.getElementById('transcription-progress').style.width = '53%';\n",
              "                        document.getElementById('transcription-status').textContent = 'Transcription in progress...';\n",
              "                    </script>\n",
              "                    "
            ]
          },
          "metadata": {}
        },
        {
          "output_type": "display_data",
          "data": {
            "text/plain": [
              "<IPython.core.display.HTML object>"
            ],
            "text/html": [
              "\n",
              "                        <script>\n",
              "                            var liveDiv = document.getElementById('live-transcription');\n",
              "                            liveDiv.innerHTML = \"So, you want more white compared to the black.\\nOnly for the target, you can have the donor DNA.\\nBut if you not come along, if you not only come to gene, if you come along with the other linked genes,\\nthose can have an effect.\\nSo, in the breeding, we are trying to minimize the linkage trap.\";\n",
              "                            liveDiv.parentElement.scrollTop = liveDiv.parentElement.scrollHeight;\n",
              "                            liveDiv.style.color = \"#ffffff\"; // Ensure text remains white\n",
              "                        </script>\n",
              "                        "
            ]
          },
          "metadata": {}
        },
        {
          "output_type": "display_data",
          "data": {
            "text/plain": [
              "<IPython.core.display.HTML object>"
            ],
            "text/html": [
              "\n",
              "                    <script>\n",
              "                        document.getElementById('transcription-progress').style.width = '54%';\n",
              "                        document.getElementById('transcription-status').textContent = 'Transcription in progress...';\n",
              "                    </script>\n",
              "                    "
            ]
          },
          "metadata": {}
        },
        {
          "output_type": "display_data",
          "data": {
            "text/plain": [
              "<IPython.core.display.HTML object>"
            ],
            "text/html": [
              "\n",
              "                        <script>\n",
              "                            var liveDiv = document.getElementById('live-transcription');\n",
              "                            liveDiv.innerHTML = \"Only for the target, you can have the donor DNA.\\nBut if you not come along, if you not only come to gene, if you come along with the other linked genes,\\nthose can have an effect.\\nSo, in the breeding, we are trying to minimize the linkage trap.\\nWe don't want any genes that are linked to this target gene.\";\n",
              "                            liveDiv.parentElement.scrollTop = liveDiv.parentElement.scrollHeight;\n",
              "                            liveDiv.style.color = \"#ffffff\"; // Ensure text remains white\n",
              "                        </script>\n",
              "                        "
            ]
          },
          "metadata": {}
        },
        {
          "output_type": "display_data",
          "data": {
            "text/plain": [
              "<IPython.core.display.HTML object>"
            ],
            "text/html": [
              "\n",
              "                    <script>\n",
              "                        document.getElementById('transcription-progress').style.width = '55%';\n",
              "                        document.getElementById('transcription-status').textContent = 'Transcription in progress...';\n",
              "                    </script>\n",
              "                    "
            ]
          },
          "metadata": {}
        },
        {
          "output_type": "display_data",
          "data": {
            "text/plain": [
              "<IPython.core.display.HTML object>"
            ],
            "text/html": [
              "\n",
              "                        <script>\n",
              "                            var liveDiv = document.getElementById('live-transcription');\n",
              "                            liveDiv.innerHTML = \"But if you not come along, if you not only come to gene, if you come along with the other linked genes,\\nthose can have an effect.\\nSo, in the breeding, we are trying to minimize the linkage trap.\\nWe don't want any genes that are linked to this target gene.\\nSo, undesirable or deleterious genes are also in the test.\";\n",
              "                            liveDiv.parentElement.scrollTop = liveDiv.parentElement.scrollHeight;\n",
              "                            liveDiv.style.color = \"#ffffff\"; // Ensure text remains white\n",
              "                        </script>\n",
              "                        "
            ]
          },
          "metadata": {}
        },
        {
          "output_type": "display_data",
          "data": {
            "text/plain": [
              "<IPython.core.display.HTML object>"
            ],
            "text/html": [
              "\n",
              "                    <script>\n",
              "                        document.getElementById('transcription-progress').style.width = '56%';\n",
              "                        document.getElementById('transcription-status').textContent = 'Transcription in progress...';\n",
              "                    </script>\n",
              "                    "
            ]
          },
          "metadata": {}
        },
        {
          "output_type": "display_data",
          "data": {
            "text/plain": [
              "<IPython.core.display.HTML object>"
            ],
            "text/html": [
              "\n",
              "                        <script>\n",
              "                            var liveDiv = document.getElementById('live-transcription');\n",
              "                            liveDiv.innerHTML = \"those can have an effect.\\nSo, in the breeding, we are trying to minimize the linkage trap.\\nWe don't want any genes that are linked to this target gene.\\nSo, undesirable or deleterious genes are also in the test.\\nIt can come along with the target gene.\";\n",
              "                            liveDiv.parentElement.scrollTop = liveDiv.parentElement.scrollHeight;\n",
              "                            liveDiv.style.color = \"#ffffff\"; // Ensure text remains white\n",
              "                        </script>\n",
              "                        "
            ]
          },
          "metadata": {}
        },
        {
          "output_type": "display_data",
          "data": {
            "text/plain": [
              "<IPython.core.display.HTML object>"
            ],
            "text/html": [
              "\n",
              "                    <script>\n",
              "                        document.getElementById('transcription-progress').style.width = '57%';\n",
              "                        document.getElementById('transcription-status').textContent = 'Transcription in progress...';\n",
              "                    </script>\n",
              "                    "
            ]
          },
          "metadata": {}
        },
        {
          "output_type": "display_data",
          "data": {
            "text/plain": [
              "<IPython.core.display.HTML object>"
            ],
            "text/html": [
              "\n",
              "                        <script>\n",
              "                            var liveDiv = document.getElementById('live-transcription');\n",
              "                            liveDiv.innerHTML = \"So, in the breeding, we are trying to minimize the linkage trap.\\nWe don't want any genes that are linked to this target gene.\\nSo, undesirable or deleterious genes are also in the test.\\nIt can come along with the target gene.\\nAnd presence of the large amount of the donor chromosome can have a negative impact.\";\n",
              "                            liveDiv.parentElement.scrollTop = liveDiv.parentElement.scrollHeight;\n",
              "                            liveDiv.style.color = \"#ffffff\"; // Ensure text remains white\n",
              "                        </script>\n",
              "                        "
            ]
          },
          "metadata": {}
        },
        {
          "output_type": "display_data",
          "data": {
            "text/plain": [
              "<IPython.core.display.HTML object>"
            ],
            "text/html": [
              "\n",
              "                    <script>\n",
              "                        document.getElementById('transcription-progress').style.width = '58%';\n",
              "                        document.getElementById('transcription-status').textContent = 'Transcription in progress...';\n",
              "                    </script>\n",
              "                    "
            ]
          },
          "metadata": {}
        },
        {
          "output_type": "display_data",
          "data": {
            "text/plain": [
              "<IPython.core.display.HTML object>"
            ],
            "text/html": [
              "\n",
              "                        <script>\n",
              "                            var liveDiv = document.getElementById('live-transcription');\n",
              "                            liveDiv.innerHTML = \"We don't want any genes that are linked to this target gene.\\nSo, undesirable or deleterious genes are also in the test.\\nIt can come along with the target gene.\\nAnd presence of the large amount of the donor chromosome can have a negative impact.\\nBecause we don't know what are the genes that will come along with the target.\";\n",
              "                            liveDiv.parentElement.scrollTop = liveDiv.parentElement.scrollHeight;\n",
              "                            liveDiv.style.color = \"#ffffff\"; // Ensure text remains white\n",
              "                        </script>\n",
              "                        "
            ]
          },
          "metadata": {}
        },
        {
          "output_type": "display_data",
          "data": {
            "text/plain": [
              "<IPython.core.display.HTML object>"
            ],
            "text/html": [
              "\n",
              "                    <script>\n",
              "                        document.getElementById('transcription-progress').style.width = '59%';\n",
              "                        document.getElementById('transcription-status').textContent = 'Transcription in progress...';\n",
              "                    </script>\n",
              "                    "
            ]
          },
          "metadata": {}
        },
        {
          "output_type": "display_data",
          "data": {
            "text/plain": [
              "<IPython.core.display.HTML object>"
            ],
            "text/html": [
              "\n",
              "                        <script>\n",
              "                            var liveDiv = document.getElementById('live-transcription');\n",
              "                            liveDiv.innerHTML = \"So, undesirable or deleterious genes are also in the test.\\nIt can come along with the target gene.\\nAnd presence of the large amount of the donor chromosome can have a negative impact.\\nBecause we don't know what are the genes that will come along with the target.\\nSo, now you can see the limitations of the gradual back crossing.\";\n",
              "                            liveDiv.parentElement.scrollTop = liveDiv.parentElement.scrollHeight;\n",
              "                            liveDiv.style.color = \"#ffffff\"; // Ensure text remains white\n",
              "                        </script>\n",
              "                        "
            ]
          },
          "metadata": {}
        },
        {
          "output_type": "display_data",
          "data": {
            "text/plain": [
              "<IPython.core.display.HTML object>"
            ],
            "text/html": [
              "\n",
              "                    <script>\n",
              "                        document.getElementById('transcription-progress').style.width = '50%';\n",
              "                        document.getElementById('transcription-status').textContent = 'Transcription in progress...';\n",
              "                    </script>\n",
              "                    "
            ]
          },
          "metadata": {}
        },
        {
          "output_type": "display_data",
          "data": {
            "text/plain": [
              "<IPython.core.display.HTML object>"
            ],
            "text/html": [
              "\n",
              "                        <script>\n",
              "                            var liveDiv = document.getElementById('live-transcription');\n",
              "                            liveDiv.innerHTML = \"It can come along with the target gene.\\nAnd presence of the large amount of the donor chromosome can have a negative impact.\\nBecause we don't know what are the genes that will come along with the target.\\nSo, now you can see the limitations of the gradual back crossing.\\nWe don't know.\";\n",
              "                            liveDiv.parentElement.scrollTop = liveDiv.parentElement.scrollHeight;\n",
              "                            liveDiv.style.color = \"#ffffff\"; // Ensure text remains white\n",
              "                        </script>\n",
              "                        "
            ]
          },
          "metadata": {}
        },
        {
          "output_type": "display_data",
          "data": {
            "text/plain": [
              "<IPython.core.display.HTML object>"
            ],
            "text/html": [
              "\n",
              "                    <script>\n",
              "                        document.getElementById('transcription-progress').style.width = '51%';\n",
              "                        document.getElementById('transcription-status').textContent = 'Transcription in progress...';\n",
              "                    </script>\n",
              "                    "
            ]
          },
          "metadata": {}
        },
        {
          "output_type": "display_data",
          "data": {
            "text/plain": [
              "<IPython.core.display.HTML object>"
            ],
            "text/html": [
              "\n",
              "                        <script>\n",
              "                            var liveDiv = document.getElementById('live-transcription');\n",
              "                            liveDiv.innerHTML = \"And presence of the large amount of the donor chromosome can have a negative impact.\\nBecause we don't know what are the genes that will come along with the target.\\nSo, now you can see the limitations of the gradual back crossing.\\nWe don't know.\\nThis is a very long cross.\";\n",
              "                            liveDiv.parentElement.scrollTop = liveDiv.parentElement.scrollHeight;\n",
              "                            liveDiv.style.color = \"#ffffff\"; // Ensure text remains white\n",
              "                        </script>\n",
              "                        "
            ]
          },
          "metadata": {}
        },
        {
          "output_type": "display_data",
          "data": {
            "text/plain": [
              "<IPython.core.display.HTML object>"
            ],
            "text/html": [
              "\n",
              "                    <script>\n",
              "                        document.getElementById('transcription-progress').style.width = '52%';\n",
              "                        document.getElementById('transcription-status').textContent = 'Transcription in progress...';\n",
              "                    </script>\n",
              "                    "
            ]
          },
          "metadata": {}
        },
        {
          "output_type": "display_data",
          "data": {
            "text/plain": [
              "<IPython.core.display.HTML object>"
            ],
            "text/html": [
              "\n",
              "                        <script>\n",
              "                            var liveDiv = document.getElementById('live-transcription');\n",
              "                            liveDiv.innerHTML = \"Because we don't know what are the genes that will come along with the target.\\nSo, now you can see the limitations of the gradual back crossing.\\nWe don't know.\\nThis is a very long cross.\\nIt is not going to come along with the normal cross.\";\n",
              "                            liveDiv.parentElement.scrollTop = liveDiv.parentElement.scrollHeight;\n",
              "                            liveDiv.style.color = \"#ffffff\"; // Ensure text remains white\n",
              "                        </script>\n",
              "                        "
            ]
          },
          "metadata": {}
        },
        {
          "output_type": "display_data",
          "data": {
            "text/plain": [
              "<IPython.core.display.HTML object>"
            ],
            "text/html": [
              "\n",
              "                    <script>\n",
              "                        document.getElementById('transcription-progress').style.width = '53%';\n",
              "                        document.getElementById('transcription-status').textContent = 'Transcription in progress...';\n",
              "                    </script>\n",
              "                    "
            ]
          },
          "metadata": {}
        },
        {
          "output_type": "display_data",
          "data": {
            "text/plain": [
              "<IPython.core.display.HTML object>"
            ],
            "text/html": [
              "\n",
              "                        <script>\n",
              "                            var liveDiv = document.getElementById('live-transcription');\n",
              "                            liveDiv.innerHTML = \"So, now you can see the limitations of the gradual back crossing.\\nWe don't know.\\nThis is a very long cross.\\nIt is not going to come along with the normal cross.\\nIt will come here.\";\n",
              "                            liveDiv.parentElement.scrollTop = liveDiv.parentElement.scrollHeight;\n",
              "                            liveDiv.style.color = \"#ffffff\"; // Ensure text remains white\n",
              "                        </script>\n",
              "                        "
            ]
          },
          "metadata": {}
        },
        {
          "output_type": "display_data",
          "data": {
            "text/plain": [
              "<IPython.core.display.HTML object>"
            ],
            "text/html": [
              "\n",
              "                    <script>\n",
              "                        document.getElementById('transcription-progress').style.width = '54%';\n",
              "                        document.getElementById('transcription-status').textContent = 'Transcription in progress...';\n",
              "                    </script>\n",
              "                    "
            ]
          },
          "metadata": {}
        },
        {
          "output_type": "display_data",
          "data": {
            "text/plain": [
              "<IPython.core.display.HTML object>"
            ],
            "text/html": [
              "\n",
              "                        <script>\n",
              "                            var liveDiv = document.getElementById('live-transcription');\n",
              "                            liveDiv.innerHTML = \"We don't know.\\nThis is a very long cross.\\nIt is not going to come along with the normal cross.\\nIt will come here.\\nIt is not going to come along with the target gene.\";\n",
              "                            liveDiv.parentElement.scrollTop = liveDiv.parentElement.scrollHeight;\n",
              "                            liveDiv.style.color = \"#ffffff\"; // Ensure text remains white\n",
              "                        </script>\n",
              "                        "
            ]
          },
          "metadata": {}
        },
        {
          "output_type": "display_data",
          "data": {
            "text/plain": [
              "<IPython.core.display.HTML object>"
            ],
            "text/html": [
              "\n",
              "                    <script>\n",
              "                        document.getElementById('transcription-progress').style.width = '55%';\n",
              "                        document.getElementById('transcription-status').textContent = 'Transcription in progress...';\n",
              "                    </script>\n",
              "                    "
            ]
          },
          "metadata": {}
        },
        {
          "output_type": "display_data",
          "data": {
            "text/plain": [
              "<IPython.core.display.HTML object>"
            ],
            "text/html": [
              "\n",
              "                        <script>\n",
              "                            var liveDiv = document.getElementById('live-transcription');\n",
              "                            liveDiv.innerHTML = \"This is a very long cross.\\nIt is not going to come along with the normal cross.\\nIt will come here.\\nIt is not going to come along with the target gene.\\nIt is a cross.\";\n",
              "                            liveDiv.parentElement.scrollTop = liveDiv.parentElement.scrollHeight;\n",
              "                            liveDiv.style.color = \"#ffffff\"; // Ensure text remains white\n",
              "                        </script>\n",
              "                        "
            ]
          },
          "metadata": {}
        },
        {
          "output_type": "display_data",
          "data": {
            "text/plain": [
              "<IPython.core.display.HTML object>"
            ],
            "text/html": [
              "\n",
              "                    <script>\n",
              "                        document.getElementById('transcription-progress').style.width = '56%';\n",
              "                        document.getElementById('transcription-status').textContent = 'Transcription in progress...';\n",
              "                    </script>\n",
              "                    "
            ]
          },
          "metadata": {}
        },
        {
          "output_type": "display_data",
          "data": {
            "text/plain": [
              "<IPython.core.display.HTML object>"
            ],
            "text/html": [
              "\n",
              "                        <script>\n",
              "                            var liveDiv = document.getElementById('live-transcription');\n",
              "                            liveDiv.innerHTML = \"It is not going to come along with the normal cross.\\nIt will come here.\\nIt is not going to come along with the target gene.\\nIt is a cross.\\nThe donor's target is not only this.\";\n",
              "                            liveDiv.parentElement.scrollTop = liveDiv.parentElement.scrollHeight;\n",
              "                            liveDiv.style.color = \"#ffffff\"; // Ensure text remains white\n",
              "                        </script>\n",
              "                        "
            ]
          },
          "metadata": {}
        },
        {
          "output_type": "display_data",
          "data": {
            "text/plain": [
              "<IPython.core.display.HTML object>"
            ],
            "text/html": [
              "\n",
              "                    <script>\n",
              "                        document.getElementById('transcription-progress').style.width = '57%';\n",
              "                        document.getElementById('transcription-status').textContent = 'Transcription in progress...';\n",
              "                    </script>\n",
              "                    "
            ]
          },
          "metadata": {}
        },
        {
          "output_type": "display_data",
          "data": {
            "text/plain": [
              "<IPython.core.display.HTML object>"
            ],
            "text/html": [
              "\n",
              "                        <script>\n",
              "                            var liveDiv = document.getElementById('live-transcription');\n",
              "                            liveDiv.innerHTML = \"It will come here.\\nIt is not going to come along with the target gene.\\nIt is a cross.\\nThe donor's target is not only this.\\nIt can also come along with the linked genes.\";\n",
              "                            liveDiv.parentElement.scrollTop = liveDiv.parentElement.scrollHeight;\n",
              "                            liveDiv.style.color = \"#ffffff\"; // Ensure text remains white\n",
              "                        </script>\n",
              "                        "
            ]
          },
          "metadata": {}
        },
        {
          "output_type": "display_data",
          "data": {
            "text/plain": [
              "<IPython.core.display.HTML object>"
            ],
            "text/html": [
              "\n",
              "                    <script>\n",
              "                        document.getElementById('transcription-progress').style.width = '58%';\n",
              "                        document.getElementById('transcription-status').textContent = 'Transcription in progress...';\n",
              "                    </script>\n",
              "                    "
            ]
          },
          "metadata": {}
        },
        {
          "output_type": "display_data",
          "data": {
            "text/plain": [
              "<IPython.core.display.HTML object>"
            ],
            "text/html": [
              "\n",
              "                        <script>\n",
              "                            var liveDiv = document.getElementById('live-transcription');\n",
              "                            liveDiv.innerHTML = \"It is not going to come along with the target gene.\\nIt is a cross.\\nThe donor's target is not only this.\\nIt can also come along with the linked genes.\\nSo, we are trying to minimize this house.\";\n",
              "                            liveDiv.parentElement.scrollTop = liveDiv.parentElement.scrollHeight;\n",
              "                            liveDiv.style.color = \"#ffffff\"; // Ensure text remains white\n",
              "                        </script>\n",
              "                        "
            ]
          },
          "metadata": {}
        },
        {
          "output_type": "display_data",
          "data": {
            "text/plain": [
              "<IPython.core.display.HTML object>"
            ],
            "text/html": [
              "\n",
              "                    <script>\n",
              "                        document.getElementById('transcription-progress').style.width = '59%';\n",
              "                        document.getElementById('transcription-status').textContent = 'Transcription in progress...';\n",
              "                    </script>\n",
              "                    "
            ]
          },
          "metadata": {}
        },
        {
          "output_type": "display_data",
          "data": {
            "text/plain": [
              "<IPython.core.display.HTML object>"
            ],
            "text/html": [
              "\n",
              "                        <script>\n",
              "                            var liveDiv = document.getElementById('live-transcription');\n",
              "                            liveDiv.innerHTML = \"It is a cross.\\nThe donor's target is not only this.\\nIt can also come along with the linked genes.\\nSo, we are trying to minimize this house.\\nWe are trying to link markers to this target.\";\n",
              "                            liveDiv.parentElement.scrollTop = liveDiv.parentElement.scrollHeight;\n",
              "                            liveDiv.style.color = \"#ffffff\"; // Ensure text remains white\n",
              "                        </script>\n",
              "                        "
            ]
          },
          "metadata": {}
        },
        {
          "output_type": "display_data",
          "data": {
            "text/plain": [
              "<IPython.core.display.HTML object>"
            ],
            "text/html": [
              "\n",
              "                    <script>\n",
              "                        document.getElementById('transcription-progress').style.width = '50%';\n",
              "                        document.getElementById('transcription-status').textContent = 'Transcription in progress...';\n",
              "                    </script>\n",
              "                    "
            ]
          },
          "metadata": {}
        },
        {
          "output_type": "display_data",
          "data": {
            "text/plain": [
              "<IPython.core.display.HTML object>"
            ],
            "text/html": [
              "\n",
              "                        <script>\n",
              "                            var liveDiv = document.getElementById('live-transcription');\n",
              "                            liveDiv.innerHTML = \"The donor's target is not only this.\\nIt can also come along with the linked genes.\\nSo, we are trying to minimize this house.\\nWe are trying to link markers to this target.\\nIf there is a tight relief,\";\n",
              "                            liveDiv.parentElement.scrollTop = liveDiv.parentElement.scrollHeight;\n",
              "                            liveDiv.style.color = \"#ffffff\"; // Ensure text remains white\n",
              "                        </script>\n",
              "                        "
            ]
          },
          "metadata": {}
        },
        {
          "output_type": "display_data",
          "data": {
            "text/plain": [
              "<IPython.core.display.HTML object>"
            ],
            "text/html": [
              "\n",
              "                    <script>\n",
              "                        document.getElementById('transcription-progress').style.width = '51%';\n",
              "                        document.getElementById('transcription-status').textContent = 'Transcription in progress...';\n",
              "                    </script>\n",
              "                    "
            ]
          },
          "metadata": {}
        },
        {
          "output_type": "display_data",
          "data": {
            "text/plain": [
              "<IPython.core.display.HTML object>"
            ],
            "text/html": [
              "\n",
              "                        <script>\n",
              "                            var liveDiv = document.getElementById('live-transcription');\n",
              "                            liveDiv.innerHTML = \"It can also come along with the linked genes.\\nSo, we are trying to minimize this house.\\nWe are trying to link markers to this target.\\nIf there is a tight relief,\\nif there are markers,\";\n",
              "                            liveDiv.parentElement.scrollTop = liveDiv.parentElement.scrollHeight;\n",
              "                            liveDiv.style.color = \"#ffffff\"; // Ensure text remains white\n",
              "                        </script>\n",
              "                        "
            ]
          },
          "metadata": {}
        },
        {
          "output_type": "display_data",
          "data": {
            "text/plain": [
              "<IPython.core.display.HTML object>"
            ],
            "text/html": [
              "\n",
              "                    <script>\n",
              "                        document.getElementById('transcription-progress').style.width = '52%';\n",
              "                        document.getElementById('transcription-status').textContent = 'Transcription in progress...';\n",
              "                    </script>\n",
              "                    "
            ]
          },
          "metadata": {}
        },
        {
          "output_type": "display_data",
          "data": {
            "text/plain": [
              "<IPython.core.display.HTML object>"
            ],
            "text/html": [
              "\n",
              "                        <script>\n",
              "                            var liveDiv = document.getElementById('live-transcription');\n",
              "                            liveDiv.innerHTML = \"So, we are trying to minimize this house.\\nWe are trying to link markers to this target.\\nIf there is a tight relief,\\nif there are markers,\\nthat means\";\n",
              "                            liveDiv.parentElement.scrollTop = liveDiv.parentElement.scrollHeight;\n",
              "                            liveDiv.style.color = \"#ffffff\"; // Ensure text remains white\n",
              "                        </script>\n",
              "                        "
            ]
          },
          "metadata": {}
        },
        {
          "output_type": "display_data",
          "data": {
            "text/plain": [
              "<IPython.core.display.HTML object>"
            ],
            "text/html": [
              "\n",
              "                    <script>\n",
              "                        document.getElementById('transcription-progress').style.width = '53%';\n",
              "                        document.getElementById('transcription-status').textContent = 'Transcription in progress...';\n",
              "                    </script>\n",
              "                    "
            ]
          },
          "metadata": {}
        },
        {
          "output_type": "display_data",
          "data": {
            "text/plain": [
              "<IPython.core.display.HTML object>"
            ],
            "text/html": [
              "\n",
              "                        <script>\n",
              "                            var liveDiv = document.getElementById('live-transcription');\n",
              "                            liveDiv.innerHTML = \"We are trying to link markers to this target.\\nIf there is a tight relief,\\nif there are markers,\\nthat means\\nthe target gene is there.\";\n",
              "                            liveDiv.parentElement.scrollTop = liveDiv.parentElement.scrollHeight;\n",
              "                            liveDiv.style.color = \"#ffffff\"; // Ensure text remains white\n",
              "                        </script>\n",
              "                        "
            ]
          },
          "metadata": {}
        },
        {
          "output_type": "display_data",
          "data": {
            "text/plain": [
              "<IPython.core.display.HTML object>"
            ],
            "text/html": [
              "\n",
              "                    <script>\n",
              "                        document.getElementById('transcription-progress').style.width = '54%';\n",
              "                        document.getElementById('transcription-status').textContent = 'Transcription in progress...';\n",
              "                    </script>\n",
              "                    "
            ]
          },
          "metadata": {}
        },
        {
          "output_type": "display_data",
          "data": {
            "text/plain": [
              "<IPython.core.display.HTML object>"
            ],
            "text/html": [
              "\n",
              "                        <script>\n",
              "                            var liveDiv = document.getElementById('live-transcription');\n",
              "                            liveDiv.innerHTML = \"If there is a tight relief,\\nif there are markers,\\nthat means\\nthe target gene is there.\\nSo I will explain that.\";\n",
              "                            liveDiv.parentElement.scrollTop = liveDiv.parentElement.scrollHeight;\n",
              "                            liveDiv.style.color = \"#ffffff\"; // Ensure text remains white\n",
              "                        </script>\n",
              "                        "
            ]
          },
          "metadata": {}
        },
        {
          "output_type": "display_data",
          "data": {
            "text/plain": [
              "<IPython.core.display.HTML object>"
            ],
            "text/html": [
              "\n",
              "                    <script>\n",
              "                        document.getElementById('transcription-progress').style.width = '55%';\n",
              "                        document.getElementById('transcription-status').textContent = 'Transcription in progress...';\n",
              "                    </script>\n",
              "                    "
            ]
          },
          "metadata": {}
        },
        {
          "output_type": "display_data",
          "data": {
            "text/plain": [
              "<IPython.core.display.HTML object>"
            ],
            "text/html": [
              "\n",
              "                        <script>\n",
              "                            var liveDiv = document.getElementById('live-transcription');\n",
              "                            liveDiv.innerHTML = \"if there are markers,\\nthat means\\nthe target gene is there.\\nSo I will explain that.\\nSo we are doing the selection\";\n",
              "                            liveDiv.parentElement.scrollTop = liveDiv.parentElement.scrollHeight;\n",
              "                            liveDiv.style.color = \"#ffffff\"; // Ensure text remains white\n",
              "                        </script>\n",
              "                        "
            ]
          },
          "metadata": {}
        },
        {
          "output_type": "display_data",
          "data": {
            "text/plain": [
              "<IPython.core.display.HTML object>"
            ],
            "text/html": [
              "\n",
              "                    <script>\n",
              "                        document.getElementById('transcription-progress').style.width = '56%';\n",
              "                        document.getElementById('transcription-status').textContent = 'Transcription in progress...';\n",
              "                    </script>\n",
              "                    "
            ]
          },
          "metadata": {}
        },
        {
          "output_type": "display_data",
          "data": {
            "text/plain": [
              "<IPython.core.display.HTML object>"
            ],
            "text/html": [
              "\n",
              "                        <script>\n",
              "                            var liveDiv = document.getElementById('live-transcription');\n",
              "                            liveDiv.innerHTML = \"that means\\nthe target gene is there.\\nSo I will explain that.\\nSo we are doing the selection\\nin different stages.\";\n",
              "                            liveDiv.parentElement.scrollTop = liveDiv.parentElement.scrollHeight;\n",
              "                            liveDiv.style.color = \"#ffffff\"; // Ensure text remains white\n",
              "                        </script>\n",
              "                        "
            ]
          },
          "metadata": {}
        },
        {
          "output_type": "display_data",
          "data": {
            "text/plain": [
              "<IPython.core.display.HTML object>"
            ],
            "text/html": [
              "\n",
              "                    <script>\n",
              "                        document.getElementById('transcription-progress').style.width = '57%';\n",
              "                        document.getElementById('transcription-status').textContent = 'Transcription in progress...';\n",
              "                    </script>\n",
              "                    "
            ]
          },
          "metadata": {}
        },
        {
          "output_type": "display_data",
          "data": {
            "text/plain": [
              "<IPython.core.display.HTML object>"
            ],
            "text/html": [
              "\n",
              "                        <script>\n",
              "                            var liveDiv = document.getElementById('live-transcription');\n",
              "                            liveDiv.innerHTML = \"the target gene is there.\\nSo I will explain that.\\nSo we are doing the selection\\nin different stages.\\nSo now this is linkage step.\";\n",
              "                            liveDiv.parentElement.scrollTop = liveDiv.parentElement.scrollHeight;\n",
              "                            liveDiv.style.color = \"#ffffff\"; // Ensure text remains white\n",
              "                        </script>\n",
              "                        "
            ]
          },
          "metadata": {}
        },
        {
          "output_type": "display_data",
          "data": {
            "text/plain": [
              "<IPython.core.display.HTML object>"
            ],
            "text/html": [
              "\n",
              "                    <script>\n",
              "                        document.getElementById('transcription-progress').style.width = '58%';\n",
              "                        document.getElementById('transcription-status').textContent = 'Transcription in progress...';\n",
              "                    </script>\n",
              "                    "
            ]
          },
          "metadata": {}
        },
        {
          "output_type": "display_data",
          "data": {
            "text/plain": [
              "<IPython.core.display.HTML object>"
            ],
            "text/html": [
              "\n",
              "                        <script>\n",
              "                            var liveDiv = document.getElementById('live-transcription');\n",
              "                            liveDiv.innerHTML = \"So I will explain that.\\nSo we are doing the selection\\nin different stages.\\nSo now this is linkage step.\\nThis is clear.\";\n",
              "                            liveDiv.parentElement.scrollTop = liveDiv.parentElement.scrollHeight;\n",
              "                            liveDiv.style.color = \"#ffffff\"; // Ensure text remains white\n",
              "                        </script>\n",
              "                        "
            ]
          },
          "metadata": {}
        },
        {
          "output_type": "display_data",
          "data": {
            "text/plain": [
              "<IPython.core.display.HTML object>"
            ],
            "text/html": [
              "\n",
              "                    <script>\n",
              "                        document.getElementById('transcription-progress').style.width = '59%';\n",
              "                        document.getElementById('transcription-status').textContent = 'Transcription in progress...';\n",
              "                    </script>\n",
              "                    "
            ]
          },
          "metadata": {}
        },
        {
          "output_type": "display_data",
          "data": {
            "text/plain": [
              "<IPython.core.display.HTML object>"
            ],
            "text/html": [
              "\n",
              "                        <script>\n",
              "                            var liveDiv = document.getElementById('live-transcription');\n",
              "                            liveDiv.innerHTML = \"So we are doing the selection\\nin different stages.\\nSo now this is linkage step.\\nThis is clear.\\nSo this is normally what we get\";\n",
              "                            liveDiv.parentElement.scrollTop = liveDiv.parentElement.scrollHeight;\n",
              "                            liveDiv.style.color = \"#ffffff\"; // Ensure text remains white\n",
              "                        </script>\n",
              "                        "
            ]
          },
          "metadata": {}
        },
        {
          "output_type": "display_data",
          "data": {
            "text/plain": [
              "<IPython.core.display.HTML object>"
            ],
            "text/html": [
              "\n",
              "                    <script>\n",
              "                        document.getElementById('transcription-progress').style.width = '50%';\n",
              "                        document.getElementById('transcription-status').textContent = 'Transcription in progress...';\n",
              "                    </script>\n",
              "                    "
            ]
          },
          "metadata": {}
        },
        {
          "output_type": "display_data",
          "data": {
            "text/plain": [
              "<IPython.core.display.HTML object>"
            ],
            "text/html": [
              "\n",
              "                        <script>\n",
              "                            var liveDiv = document.getElementById('live-transcription');\n",
              "                            liveDiv.innerHTML = \"in different stages.\\nSo now this is linkage step.\\nThis is clear.\\nSo this is normally what we get\\nafter each back-cross.\";\n",
              "                            liveDiv.parentElement.scrollTop = liveDiv.parentElement.scrollHeight;\n",
              "                            liveDiv.style.color = \"#ffffff\"; // Ensure text remains white\n",
              "                        </script>\n",
              "                        "
            ]
          },
          "metadata": {}
        },
        {
          "output_type": "display_data",
          "data": {
            "text/plain": [
              "<IPython.core.display.HTML object>"
            ],
            "text/html": [
              "\n",
              "                    <script>\n",
              "                        document.getElementById('transcription-progress').style.width = '51%';\n",
              "                        document.getElementById('transcription-status').textContent = 'Transcription in progress...';\n",
              "                    </script>\n",
              "                    "
            ]
          },
          "metadata": {}
        },
        {
          "output_type": "display_data",
          "data": {
            "text/plain": [
              "<IPython.core.display.HTML object>"
            ],
            "text/html": [
              "\n",
              "                        <script>\n",
              "                            var liveDiv = document.getElementById('live-transcription');\n",
              "                            liveDiv.innerHTML = \"So now this is linkage step.\\nThis is clear.\\nSo this is normally what we get\\nafter each back-cross.\\nBack-cross\";\n",
              "                            liveDiv.parentElement.scrollTop = liveDiv.parentElement.scrollHeight;\n",
              "                            liveDiv.style.color = \"#ffffff\"; // Ensure text remains white\n",
              "                        </script>\n",
              "                        "
            ]
          },
          "metadata": {}
        },
        {
          "output_type": "display_data",
          "data": {
            "text/plain": [
              "<IPython.core.display.HTML object>"
            ],
            "text/html": [
              "\n",
              "                    <script>\n",
              "                        document.getElementById('transcription-progress').style.width = '52%';\n",
              "                        document.getElementById('transcription-status').textContent = 'Transcription in progress...';\n",
              "                    </script>\n",
              "                    "
            ]
          },
          "metadata": {}
        },
        {
          "output_type": "display_data",
          "data": {
            "text/plain": [
              "<IPython.core.display.HTML object>"
            ],
            "text/html": [
              "\n",
              "                        <script>\n",
              "                            var liveDiv = document.getElementById('live-transcription');\n",
              "                            liveDiv.innerHTML = \"This is clear.\\nSo this is normally what we get\\nafter each back-cross.\\nBack-cross\\nprocedure. So you can see\";\n",
              "                            liveDiv.parentElement.scrollTop = liveDiv.parentElement.scrollHeight;\n",
              "                            liveDiv.style.color = \"#ffffff\"; // Ensure text remains white\n",
              "                        </script>\n",
              "                        "
            ]
          },
          "metadata": {}
        },
        {
          "output_type": "display_data",
          "data": {
            "text/plain": [
              "<IPython.core.display.HTML object>"
            ],
            "text/html": [
              "\n",
              "                    <script>\n",
              "                        document.getElementById('transcription-progress').style.width = '53%';\n",
              "                        document.getElementById('transcription-status').textContent = 'Transcription in progress...';\n",
              "                    </script>\n",
              "                    "
            ]
          },
          "metadata": {}
        },
        {
          "output_type": "display_data",
          "data": {
            "text/plain": [
              "<IPython.core.display.HTML object>"
            ],
            "text/html": [
              "\n",
              "                        <script>\n",
              "                            var liveDiv = document.getElementById('live-transcription');\n",
              "                            liveDiv.innerHTML = \"So this is normally what we get\\nafter each back-cross.\\nBack-cross\\nprocedure. So you can see\\nafter back-cross 1,\";\n",
              "                            liveDiv.parentElement.scrollTop = liveDiv.parentElement.scrollHeight;\n",
              "                            liveDiv.style.color = \"#ffffff\"; // Ensure text remains white\n",
              "                        </script>\n",
              "                        "
            ]
          },
          "metadata": {}
        },
        {
          "output_type": "display_data",
          "data": {
            "text/plain": [
              "<IPython.core.display.HTML object>"
            ],
            "text/html": [
              "\n",
              "                    <script>\n",
              "                        document.getElementById('transcription-progress').style.width = '54%';\n",
              "                        document.getElementById('transcription-status').textContent = 'Transcription in progress...';\n",
              "                    </script>\n",
              "                    "
            ]
          },
          "metadata": {}
        },
        {
          "output_type": "display_data",
          "data": {
            "text/plain": [
              "<IPython.core.display.HTML object>"
            ],
            "text/html": [
              "\n",
              "                        <script>\n",
              "                            var liveDiv = document.getElementById('live-transcription');\n",
              "                            liveDiv.innerHTML = \"after each back-cross.\\nBack-cross\\nprocedure. So you can see\\nafter back-cross 1,\\nthe recovery of the recurrent\";\n",
              "                            liveDiv.parentElement.scrollTop = liveDiv.parentElement.scrollHeight;\n",
              "                            liveDiv.style.color = \"#ffffff\"; // Ensure text remains white\n",
              "                        </script>\n",
              "                        "
            ]
          },
          "metadata": {}
        },
        {
          "output_type": "display_data",
          "data": {
            "text/plain": [
              "<IPython.core.display.HTML object>"
            ],
            "text/html": [
              "\n",
              "                    <script>\n",
              "                        document.getElementById('transcription-progress').style.width = '55%';\n",
              "                        document.getElementById('transcription-status').textContent = 'Transcription in progress...';\n",
              "                    </script>\n",
              "                    "
            ]
          },
          "metadata": {}
        },
        {
          "output_type": "display_data",
          "data": {
            "text/plain": [
              "<IPython.core.display.HTML object>"
            ],
            "text/html": [
              "\n",
              "                        <script>\n",
              "                            var liveDiv = document.getElementById('live-transcription');\n",
              "                            liveDiv.innerHTML = \"Back-cross\\nprocedure. So you can see\\nafter back-cross 1,\\nthe recovery of the recurrent\\npair of genome is 75%.\";\n",
              "                            liveDiv.parentElement.scrollTop = liveDiv.parentElement.scrollHeight;\n",
              "                            liveDiv.style.color = \"#ffffff\"; // Ensure text remains white\n",
              "                        </script>\n",
              "                        "
            ]
          },
          "metadata": {}
        },
        {
          "output_type": "display_data",
          "data": {
            "text/plain": [
              "<IPython.core.display.HTML object>"
            ],
            "text/html": [
              "\n",
              "                    <script>\n",
              "                        document.getElementById('transcription-progress').style.width = '56%';\n",
              "                        document.getElementById('transcription-status').textContent = 'Transcription in progress...';\n",
              "                    </script>\n",
              "                    "
            ]
          },
          "metadata": {}
        },
        {
          "output_type": "display_data",
          "data": {
            "text/plain": [
              "<IPython.core.display.HTML object>"
            ],
            "text/html": [
              "\n",
              "                        <script>\n",
              "                            var liveDiv = document.getElementById('live-transcription');\n",
              "                            liveDiv.innerHTML = \"procedure. So you can see\\nafter back-cross 1,\\nthe recovery of the recurrent\\npair of genome is 75%.\\nSo it increases\";\n",
              "                            liveDiv.parentElement.scrollTop = liveDiv.parentElement.scrollHeight;\n",
              "                            liveDiv.style.color = \"#ffffff\"; // Ensure text remains white\n",
              "                        </script>\n",
              "                        "
            ]
          },
          "metadata": {}
        },
        {
          "output_type": "display_data",
          "data": {
            "text/plain": [
              "<IPython.core.display.HTML object>"
            ],
            "text/html": [
              "\n",
              "                    <script>\n",
              "                        document.getElementById('transcription-progress').style.width = '57%';\n",
              "                        document.getElementById('transcription-status').textContent = 'Transcription in progress...';\n",
              "                    </script>\n",
              "                    "
            ]
          },
          "metadata": {}
        },
        {
          "output_type": "display_data",
          "data": {
            "text/plain": [
              "<IPython.core.display.HTML object>"
            ],
            "text/html": [
              "\n",
              "                        <script>\n",
              "                            var liveDiv = document.getElementById('live-transcription');\n",
              "                            liveDiv.innerHTML = \"after back-cross 1,\\nthe recovery of the recurrent\\npair of genome is 75%.\\nSo it increases\\nfrom every\";\n",
              "                            liveDiv.parentElement.scrollTop = liveDiv.parentElement.scrollHeight;\n",
              "                            liveDiv.style.color = \"#ffffff\"; // Ensure text remains white\n",
              "                        </script>\n",
              "                        "
            ]
          },
          "metadata": {}
        },
        {
          "output_type": "display_data",
          "data": {
            "text/plain": [
              "<IPython.core.display.HTML object>"
            ],
            "text/html": [
              "\n",
              "                    <script>\n",
              "                        document.getElementById('transcription-progress').style.width = '58%';\n",
              "                        document.getElementById('transcription-status').textContent = 'Transcription in progress...';\n",
              "                    </script>\n",
              "                    "
            ]
          },
          "metadata": {}
        },
        {
          "output_type": "display_data",
          "data": {
            "text/plain": [
              "<IPython.core.display.HTML object>"
            ],
            "text/html": [
              "\n",
              "                        <script>\n",
              "                            var liveDiv = document.getElementById('live-transcription');\n",
              "                            liveDiv.innerHTML = \"the recovery of the recurrent\\npair of genome is 75%.\\nSo it increases\\nfrom every\\nback-cross\";\n",
              "                            liveDiv.parentElement.scrollTop = liveDiv.parentElement.scrollHeight;\n",
              "                            liveDiv.style.color = \"#ffffff\"; // Ensure text remains white\n",
              "                        </script>\n",
              "                        "
            ]
          },
          "metadata": {}
        },
        {
          "output_type": "display_data",
          "data": {
            "text/plain": [
              "<IPython.core.display.HTML object>"
            ],
            "text/html": [
              "\n",
              "                    <script>\n",
              "                        document.getElementById('transcription-progress').style.width = '59%';\n",
              "                        document.getElementById('transcription-status').textContent = 'Transcription in progress...';\n",
              "                    </script>\n",
              "                    "
            ]
          },
          "metadata": {}
        },
        {
          "output_type": "display_data",
          "data": {
            "text/plain": [
              "<IPython.core.display.HTML object>"
            ],
            "text/html": [
              "\n",
              "                        <script>\n",
              "                            var liveDiv = document.getElementById('live-transcription');\n",
              "                            liveDiv.innerHTML = \"pair of genome is 75%.\\nSo it increases\\nfrom every\\nback-cross\\nselection.\";\n",
              "                            liveDiv.parentElement.scrollTop = liveDiv.parentElement.scrollHeight;\n",
              "                            liveDiv.style.color = \"#ffffff\"; // Ensure text remains white\n",
              "                        </script>\n",
              "                        "
            ]
          },
          "metadata": {}
        },
        {
          "output_type": "display_data",
          "data": {
            "text/plain": [
              "<IPython.core.display.HTML object>"
            ],
            "text/html": [
              "\n",
              "                    <script>\n",
              "                        document.getElementById('transcription-progress').style.width = '50%';\n",
              "                        document.getElementById('transcription-status').textContent = 'Transcription in progress...';\n",
              "                    </script>\n",
              "                    "
            ]
          },
          "metadata": {}
        },
        {
          "output_type": "display_data",
          "data": {
            "text/plain": [
              "<IPython.core.display.HTML object>"
            ],
            "text/html": [
              "\n",
              "                        <script>\n",
              "                            var liveDiv = document.getElementById('live-transcription');\n",
              "                            liveDiv.innerHTML = \"So it increases\\nfrom every\\nback-cross\\nselection.\\nYou can see the difference between conventional\";\n",
              "                            liveDiv.parentElement.scrollTop = liveDiv.parentElement.scrollHeight;\n",
              "                            liveDiv.style.color = \"#ffffff\"; // Ensure text remains white\n",
              "                        </script>\n",
              "                        "
            ]
          },
          "metadata": {}
        },
        {
          "output_type": "display_data",
          "data": {
            "text/plain": [
              "<IPython.core.display.HTML object>"
            ],
            "text/html": [
              "\n",
              "                    <script>\n",
              "                        document.getElementById('transcription-progress').style.width = '51%';\n",
              "                        document.getElementById('transcription-status').textContent = 'Transcription in progress...';\n",
              "                    </script>\n",
              "                    "
            ]
          },
          "metadata": {}
        },
        {
          "output_type": "display_data",
          "data": {
            "text/plain": [
              "<IPython.core.display.HTML object>"
            ],
            "text/html": [
              "\n",
              "                        <script>\n",
              "                            var liveDiv = document.getElementById('live-transcription');\n",
              "                            liveDiv.innerHTML = \"from every\\nback-cross\\nselection.\\nYou can see the difference between conventional\\ngrading and mark-assistance selection.\";\n",
              "                            liveDiv.parentElement.scrollTop = liveDiv.parentElement.scrollHeight;\n",
              "                            liveDiv.style.color = \"#ffffff\"; // Ensure text remains white\n",
              "                        </script>\n",
              "                        "
            ]
          },
          "metadata": {}
        },
        {
          "output_type": "display_data",
          "data": {
            "text/plain": [
              "<IPython.core.display.HTML object>"
            ],
            "text/html": [
              "\n",
              "                    <script>\n",
              "                        document.getElementById('transcription-progress').style.width = '52%';\n",
              "                        document.getElementById('transcription-status').textContent = 'Transcription in progress...';\n",
              "                    </script>\n",
              "                    "
            ]
          },
          "metadata": {}
        },
        {
          "output_type": "display_data",
          "data": {
            "text/plain": [
              "<IPython.core.display.HTML object>"
            ],
            "text/html": [
              "\n",
              "                        <script>\n",
              "                            var liveDiv = document.getElementById('live-transcription');\n",
              "                            liveDiv.innerHTML = \"back-cross\\nselection.\\nYou can see the difference between conventional\\ngrading and mark-assistance selection.\\nIn conventional grading,\";\n",
              "                            liveDiv.parentElement.scrollTop = liveDiv.parentElement.scrollHeight;\n",
              "                            liveDiv.style.color = \"#ffffff\"; // Ensure text remains white\n",
              "                        </script>\n",
              "                        "
            ]
          },
          "metadata": {}
        },
        {
          "output_type": "display_data",
          "data": {
            "text/plain": [
              "<IPython.core.display.HTML object>"
            ],
            "text/html": [
              "\n",
              "                    <script>\n",
              "                        document.getElementById('transcription-progress').style.width = '53%';\n",
              "                        document.getElementById('transcription-status').textContent = 'Transcription in progress...';\n",
              "                    </script>\n",
              "                    "
            ]
          },
          "metadata": {}
        },
        {
          "output_type": "display_data",
          "data": {
            "text/plain": [
              "<IPython.core.display.HTML object>"
            ],
            "text/html": [
              "\n",
              "                        <script>\n",
              "                            var liveDiv = document.getElementById('live-transcription');\n",
              "                            liveDiv.innerHTML = \"selection.\\nYou can see the difference between conventional\\ngrading and mark-assistance selection.\\nIn conventional grading,\\nyou observe the phenotype and select\";\n",
              "                            liveDiv.parentElement.scrollTop = liveDiv.parentElement.scrollHeight;\n",
              "                            liveDiv.style.color = \"#ffffff\"; // Ensure text remains white\n",
              "                        </script>\n",
              "                        "
            ]
          },
          "metadata": {}
        },
        {
          "output_type": "display_data",
          "data": {
            "text/plain": [
              "<IPython.core.display.HTML object>"
            ],
            "text/html": [
              "\n",
              "                    <script>\n",
              "                        document.getElementById('transcription-progress').style.width = '54%';\n",
              "                        document.getElementById('transcription-status').textContent = 'Transcription in progress...';\n",
              "                    </script>\n",
              "                    "
            ]
          },
          "metadata": {}
        },
        {
          "output_type": "display_data",
          "data": {
            "text/plain": [
              "<IPython.core.display.HTML object>"
            ],
            "text/html": [
              "\n",
              "                        <script>\n",
              "                            var liveDiv = document.getElementById('live-transcription');\n",
              "                            liveDiv.innerHTML = \"You can see the difference between conventional\\ngrading and mark-assistance selection.\\nIn conventional grading,\\nyou observe the phenotype and select\\nthe plants.\";\n",
              "                            liveDiv.parentElement.scrollTop = liveDiv.parentElement.scrollHeight;\n",
              "                            liveDiv.style.color = \"#ffffff\"; // Ensure text remains white\n",
              "                        </script>\n",
              "                        "
            ]
          },
          "metadata": {}
        },
        {
          "output_type": "display_data",
          "data": {
            "text/plain": [
              "<IPython.core.display.HTML object>"
            ],
            "text/html": [
              "\n",
              "                    <script>\n",
              "                        document.getElementById('transcription-progress').style.width = '55%';\n",
              "                        document.getElementById('transcription-status').textContent = 'Transcription in progress...';\n",
              "                    </script>\n",
              "                    "
            ]
          },
          "metadata": {}
        },
        {
          "output_type": "display_data",
          "data": {
            "text/plain": [
              "<IPython.core.display.HTML object>"
            ],
            "text/html": [
              "\n",
              "                        <script>\n",
              "                            var liveDiv = document.getElementById('live-transcription');\n",
              "                            liveDiv.innerHTML = \"grading and mark-assistance selection.\\nIn conventional grading,\\nyou observe the phenotype and select\\nthe plants.\\nFor the back-cross, true.\";\n",
              "                            liveDiv.parentElement.scrollTop = liveDiv.parentElement.scrollHeight;\n",
              "                            liveDiv.style.color = \"#ffffff\"; // Ensure text remains white\n",
              "                        </script>\n",
              "                        "
            ]
          },
          "metadata": {}
        },
        {
          "output_type": "display_data",
          "data": {
            "text/plain": [
              "<IPython.core.display.HTML object>"
            ],
            "text/html": [
              "\n",
              "                    <script>\n",
              "                        document.getElementById('transcription-progress').style.width = '56%';\n",
              "                        document.getElementById('transcription-status').textContent = 'Transcription in progress...';\n",
              "                    </script>\n",
              "                    "
            ]
          },
          "metadata": {}
        },
        {
          "output_type": "display_data",
          "data": {
            "text/plain": [
              "<IPython.core.display.HTML object>"
            ],
            "text/html": [
              "\n",
              "                        <script>\n",
              "                            var liveDiv = document.getElementById('live-transcription');\n",
              "                            liveDiv.innerHTML = \"In conventional grading,\\nyou observe the phenotype and select\\nthe plants.\\nFor the back-cross, true.\\nBut in the mark-assistance\";\n",
              "                            liveDiv.parentElement.scrollTop = liveDiv.parentElement.scrollHeight;\n",
              "                            liveDiv.style.color = \"#ffffff\"; // Ensure text remains white\n",
              "                        </script>\n",
              "                        "
            ]
          },
          "metadata": {}
        },
        {
          "output_type": "display_data",
          "data": {
            "text/plain": [
              "<IPython.core.display.HTML object>"
            ],
            "text/html": [
              "\n",
              "                    <script>\n",
              "                        document.getElementById('transcription-progress').style.width = '57%';\n",
              "                        document.getElementById('transcription-status').textContent = 'Transcription in progress...';\n",
              "                    </script>\n",
              "                    "
            ]
          },
          "metadata": {}
        },
        {
          "output_type": "display_data",
          "data": {
            "text/plain": [
              "<IPython.core.display.HTML object>"
            ],
            "text/html": [
              "\n",
              "                        <script>\n",
              "                            var liveDiv = document.getElementById('live-transcription');\n",
              "                            liveDiv.innerHTML = \"you observe the phenotype and select\\nthe plants.\\nFor the back-cross, true.\\nBut in the mark-assistance\\nback-crossing, you observe\";\n",
              "                            liveDiv.parentElement.scrollTop = liveDiv.parentElement.scrollHeight;\n",
              "                            liveDiv.style.color = \"#ffffff\"; // Ensure text remains white\n",
              "                        </script>\n",
              "                        "
            ]
          },
          "metadata": {}
        },
        {
          "output_type": "display_data",
          "data": {
            "text/plain": [
              "<IPython.core.display.HTML object>"
            ],
            "text/html": [
              "\n",
              "                    <script>\n",
              "                        document.getElementById('transcription-progress').style.width = '58%';\n",
              "                        document.getElementById('transcription-status').textContent = 'Transcription in progress...';\n",
              "                    </script>\n",
              "                    "
            ]
          },
          "metadata": {}
        },
        {
          "output_type": "display_data",
          "data": {
            "text/plain": [
              "<IPython.core.display.HTML object>"
            ],
            "text/html": [
              "\n",
              "                        <script>\n",
              "                            var liveDiv = document.getElementById('live-transcription');\n",
              "                            liveDiv.innerHTML = \"the plants.\\nFor the back-cross, true.\\nBut in the mark-assistance\\nback-crossing, you observe\\nthe genome. You see the\";\n",
              "                            liveDiv.parentElement.scrollTop = liveDiv.parentElement.scrollHeight;\n",
              "                            liveDiv.style.color = \"#ffffff\"; // Ensure text remains white\n",
              "                        </script>\n",
              "                        "
            ]
          },
          "metadata": {}
        },
        {
          "output_type": "display_data",
          "data": {
            "text/plain": [
              "<IPython.core.display.HTML object>"
            ],
            "text/html": [
              "\n",
              "                    <script>\n",
              "                        document.getElementById('transcription-progress').style.width = '59%';\n",
              "                        document.getElementById('transcription-status').textContent = 'Transcription in progress...';\n",
              "                    </script>\n",
              "                    "
            ]
          },
          "metadata": {}
        },
        {
          "output_type": "display_data",
          "data": {
            "text/plain": [
              "<IPython.core.display.HTML object>"
            ],
            "text/html": [
              "\n",
              "                        <script>\n",
              "                            var liveDiv = document.getElementById('live-transcription');\n",
              "                            liveDiv.innerHTML = \"For the back-cross, true.\\nBut in the mark-assistance\\nback-crossing, you observe\\nthe genome. You see the\\nlonger term goal,\";\n",
              "                            liveDiv.parentElement.scrollTop = liveDiv.parentElement.scrollHeight;\n",
              "                            liveDiv.style.color = \"#ffffff\"; // Ensure text remains white\n",
              "                        </script>\n",
              "                        "
            ]
          },
          "metadata": {}
        },
        {
          "output_type": "display_data",
          "data": {
            "text/plain": [
              "<IPython.core.display.HTML object>"
            ],
            "text/html": [
              "\n",
              "                    <script>\n",
              "                        document.getElementById('transcription-progress').style.width = '50%';\n",
              "                        document.getElementById('transcription-status').textContent = 'Transcription in progress...';\n",
              "                    </script>\n",
              "                    "
            ]
          },
          "metadata": {}
        },
        {
          "output_type": "display_data",
          "data": {
            "text/plain": [
              "<IPython.core.display.HTML object>"
            ],
            "text/html": [
              "\n",
              "                        <script>\n",
              "                            var liveDiv = document.getElementById('live-transcription');\n",
              "                            liveDiv.innerHTML = \"But in the mark-assistance\\nback-crossing, you observe\\nthe genome. You see the\\nlonger term goal,\\nwe still have the target gene\";\n",
              "                            liveDiv.parentElement.scrollTop = liveDiv.parentElement.scrollHeight;\n",
              "                            liveDiv.style.color = \"#ffffff\"; // Ensure text remains white\n",
              "                        </script>\n",
              "                        "
            ]
          },
          "metadata": {}
        },
        {
          "output_type": "display_data",
          "data": {
            "text/plain": [
              "<IPython.core.display.HTML object>"
            ],
            "text/html": [
              "\n",
              "                    <script>\n",
              "                        document.getElementById('transcription-progress').style.width = '51%';\n",
              "                        document.getElementById('transcription-status').textContent = 'Transcription in progress...';\n",
              "                    </script>\n",
              "                    "
            ]
          },
          "metadata": {}
        },
        {
          "output_type": "display_data",
          "data": {
            "text/plain": [
              "<IPython.core.display.HTML object>"
            ],
            "text/html": [
              "\n",
              "                        <script>\n",
              "                            var liveDiv = document.getElementById('live-transcription');\n",
              "                            liveDiv.innerHTML = \"back-crossing, you observe\\nthe genome. You see the\\nlonger term goal,\\nwe still have the target gene\\nand also higher proportion\";\n",
              "                            liveDiv.parentElement.scrollTop = liveDiv.parentElement.scrollHeight;\n",
              "                            liveDiv.style.color = \"#ffffff\"; // Ensure text remains white\n",
              "                        </script>\n",
              "                        "
            ]
          },
          "metadata": {}
        },
        {
          "output_type": "display_data",
          "data": {
            "text/plain": [
              "<IPython.core.display.HTML object>"
            ],
            "text/html": [
              "\n",
              "                    <script>\n",
              "                        document.getElementById('transcription-progress').style.width = '52%';\n",
              "                        document.getElementById('transcription-status').textContent = 'Transcription in progress...';\n",
              "                    </script>\n",
              "                    "
            ]
          },
          "metadata": {}
        },
        {
          "output_type": "display_data",
          "data": {
            "text/plain": [
              "<IPython.core.display.HTML object>"
            ],
            "text/html": [
              "\n",
              "                        <script>\n",
              "                            var liveDiv = document.getElementById('live-transcription');\n",
              "                            liveDiv.innerHTML = \"the genome. You see the\\nlonger term goal,\\nwe still have the target gene\\nand also higher proportion\\nof the recurrent parents' gene.\";\n",
              "                            liveDiv.parentElement.scrollTop = liveDiv.parentElement.scrollHeight;\n",
              "                            liveDiv.style.color = \"#ffffff\"; // Ensure text remains white\n",
              "                        </script>\n",
              "                        "
            ]
          },
          "metadata": {}
        },
        {
          "output_type": "display_data",
          "data": {
            "text/plain": [
              "<IPython.core.display.HTML object>"
            ],
            "text/html": [
              "\n",
              "                    <script>\n",
              "                        document.getElementById('transcription-progress').style.width = '53%';\n",
              "                        document.getElementById('transcription-status').textContent = 'Transcription in progress...';\n",
              "                    </script>\n",
              "                    "
            ]
          },
          "metadata": {}
        },
        {
          "output_type": "display_data",
          "data": {
            "text/plain": [
              "<IPython.core.display.HTML object>"
            ],
            "text/html": [
              "\n",
              "                        <script>\n",
              "                            var liveDiv = document.getElementById('live-transcription');\n",
              "                            liveDiv.innerHTML = \"longer term goal,\\nwe still have the target gene\\nand also higher proportion\\nof the recurrent parents' gene.\\nThe rest will be miscounted.\";\n",
              "                            liveDiv.parentElement.scrollTop = liveDiv.parentElement.scrollHeight;\n",
              "                            liveDiv.style.color = \"#ffffff\"; // Ensure text remains white\n",
              "                        </script>\n",
              "                        "
            ]
          },
          "metadata": {}
        },
        {
          "output_type": "display_data",
          "data": {
            "text/plain": [
              "<IPython.core.display.HTML object>"
            ],
            "text/html": [
              "\n",
              "                    <script>\n",
              "                        document.getElementById('transcription-progress').style.width = '54%';\n",
              "                        document.getElementById('transcription-status').textContent = 'Transcription in progress...';\n",
              "                    </script>\n",
              "                    "
            ]
          },
          "metadata": {}
        },
        {
          "output_type": "display_data",
          "data": {
            "text/plain": [
              "<IPython.core.display.HTML object>"
            ],
            "text/html": [
              "\n",
              "                        <script>\n",
              "                            var liveDiv = document.getElementById('live-transcription');\n",
              "                            liveDiv.innerHTML = \"we still have the target gene\\nand also higher proportion\\nof the recurrent parents' gene.\\nThe rest will be miscounted.\\nSo what's the decision?\";\n",
              "                            liveDiv.parentElement.scrollTop = liveDiv.parentElement.scrollHeight;\n",
              "                            liveDiv.style.color = \"#ffffff\"; // Ensure text remains white\n",
              "                        </script>\n",
              "                        "
            ]
          },
          "metadata": {}
        },
        {
          "output_type": "display_data",
          "data": {
            "text/plain": [
              "<IPython.core.display.HTML object>"
            ],
            "text/html": [
              "\n",
              "                    <script>\n",
              "                        document.getElementById('transcription-progress').style.width = '55%';\n",
              "                        document.getElementById('transcription-status').textContent = 'Transcription in progress...';\n",
              "                    </script>\n",
              "                    "
            ]
          },
          "metadata": {}
        },
        {
          "output_type": "display_data",
          "data": {
            "text/plain": [
              "<IPython.core.display.HTML object>"
            ],
            "text/html": [
              "\n",
              "                        <script>\n",
              "                            var liveDiv = document.getElementById('live-transcription');\n",
              "                            liveDiv.innerHTML = \"and also higher proportion\\nof the recurrent parents' gene.\\nThe rest will be miscounted.\\nSo what's the decision?\\nDefinitely 10 points.\";\n",
              "                            liveDiv.parentElement.scrollTop = liveDiv.parentElement.scrollHeight;\n",
              "                            liveDiv.style.color = \"#ffffff\"; // Ensure text remains white\n",
              "                        </script>\n",
              "                        "
            ]
          },
          "metadata": {}
        },
        {
          "output_type": "display_data",
          "data": {
            "text/plain": [
              "<IPython.core.display.HTML object>"
            ],
            "text/html": [
              "\n",
              "                    <script>\n",
              "                        document.getElementById('transcription-progress').style.width = '56%';\n",
              "                        document.getElementById('transcription-status').textContent = 'Transcription in progress...';\n",
              "                    </script>\n",
              "                    "
            ]
          },
          "metadata": {}
        },
        {
          "output_type": "display_data",
          "data": {
            "text/plain": [
              "<IPython.core.display.HTML object>"
            ],
            "text/html": [
              "\n",
              "                        <script>\n",
              "                            var liveDiv = document.getElementById('live-transcription');\n",
              "                            liveDiv.innerHTML = \"of the recurrent parents' gene.\\nThe rest will be miscounted.\\nSo what's the decision?\\nDefinitely 10 points.\\nIt is clear you don't know.\";\n",
              "                            liveDiv.parentElement.scrollTop = liveDiv.parentElement.scrollHeight;\n",
              "                            liveDiv.style.color = \"#ffffff\"; // Ensure text remains white\n",
              "                        </script>\n",
              "                        "
            ]
          },
          "metadata": {}
        },
        {
          "output_type": "display_data",
          "data": {
            "text/plain": [
              "<IPython.core.display.HTML object>"
            ],
            "text/html": [
              "\n",
              "                    <script>\n",
              "                        document.getElementById('transcription-progress').style.width = '57%';\n",
              "                        document.getElementById('transcription-status').textContent = 'Transcription in progress...';\n",
              "                    </script>\n",
              "                    "
            ]
          },
          "metadata": {}
        },
        {
          "output_type": "display_data",
          "data": {
            "text/plain": [
              "<IPython.core.display.HTML object>"
            ],
            "text/html": [
              "\n",
              "                        <script>\n",
              "                            var liveDiv = document.getElementById('live-transcription');\n",
              "                            liveDiv.innerHTML = \"The rest will be miscounted.\\nSo what's the decision?\\nDefinitely 10 points.\\nIt is clear you don't know.\\nWe can see\";\n",
              "                            liveDiv.parentElement.scrollTop = liveDiv.parentElement.scrollHeight;\n",
              "                            liveDiv.style.color = \"#ffffff\"; // Ensure text remains white\n",
              "                        </script>\n",
              "                        "
            ]
          },
          "metadata": {}
        },
        {
          "output_type": "display_data",
          "data": {
            "text/plain": [
              "<IPython.core.display.HTML object>"
            ],
            "text/html": [
              "\n",
              "                    <script>\n",
              "                        document.getElementById('transcription-progress').style.width = '58%';\n",
              "                        document.getElementById('transcription-status').textContent = 'Transcription in progress...';\n",
              "                    </script>\n",
              "                    "
            ]
          },
          "metadata": {}
        },
        {
          "output_type": "display_data",
          "data": {
            "text/plain": [
              "<IPython.core.display.HTML object>"
            ],
            "text/html": [
              "\n",
              "                        <script>\n",
              "                            var liveDiv = document.getElementById('live-transcription');\n",
              "                            liveDiv.innerHTML = \"So what's the decision?\\nDefinitely 10 points.\\nIt is clear you don't know.\\nWe can see\\neach current parent\";\n",
              "                            liveDiv.parentElement.scrollTop = liveDiv.parentElement.scrollHeight;\n",
              "                            liveDiv.style.color = \"#ffffff\"; // Ensure text remains white\n",
              "                        </script>\n",
              "                        "
            ]
          },
          "metadata": {}
        },
        {
          "output_type": "display_data",
          "data": {
            "text/plain": [
              "<IPython.core.display.HTML object>"
            ],
            "text/html": [
              "\n",
              "                    <script>\n",
              "                        document.getElementById('transcription-progress').style.width = '59%';\n",
              "                        document.getElementById('transcription-status').textContent = 'Transcription in progress...';\n",
              "                    </script>\n",
              "                    "
            ]
          },
          "metadata": {}
        },
        {
          "output_type": "display_data",
          "data": {
            "text/plain": [
              "<IPython.core.display.HTML object>"
            ],
            "text/html": [
              "\n",
              "                        <script>\n",
              "                            var liveDiv = document.getElementById('live-transcription');\n",
              "                            liveDiv.innerHTML = \"Definitely 10 points.\\nIt is clear you don't know.\\nWe can see\\neach current parent\\nand the target\";\n",
              "                            liveDiv.parentElement.scrollTop = liveDiv.parentElement.scrollHeight;\n",
              "                            liveDiv.style.color = \"#ffffff\"; // Ensure text remains white\n",
              "                        </script>\n",
              "                        "
            ]
          },
          "metadata": {}
        },
        {
          "output_type": "display_data",
          "data": {
            "text/plain": [
              "<IPython.core.display.HTML object>"
            ],
            "text/html": [
              "\n",
              "                    <script>\n",
              "                        document.getElementById('transcription-progress').style.width = '50%';\n",
              "                        document.getElementById('transcription-status').textContent = 'Transcription in progress...';\n",
              "                    </script>\n",
              "                    "
            ]
          },
          "metadata": {}
        },
        {
          "output_type": "display_data",
          "data": {
            "text/plain": [
              "<IPython.core.display.HTML object>"
            ],
            "text/html": [
              "\n",
              "                        <script>\n",
              "                            var liveDiv = document.getElementById('live-transcription');\n",
              "                            liveDiv.innerHTML = \"It is clear you don't know.\\nWe can see\\neach current parent\\nand the target\\nis equal.\";\n",
              "                            liveDiv.parentElement.scrollTop = liveDiv.parentElement.scrollHeight;\n",
              "                            liveDiv.style.color = \"#ffffff\"; // Ensure text remains white\n",
              "                        </script>\n",
              "                        "
            ]
          },
          "metadata": {}
        },
        {
          "output_type": "display_data",
          "data": {
            "text/plain": [
              "<IPython.core.display.HTML object>"
            ],
            "text/html": [
              "\n",
              "                    <script>\n",
              "                        document.getElementById('transcription-progress').style.width = '51%';\n",
              "                        document.getElementById('transcription-status').textContent = 'Transcription in progress...';\n",
              "                    </script>\n",
              "                    "
            ]
          },
          "metadata": {}
        },
        {
          "output_type": "display_data",
          "data": {
            "text/plain": [
              "<IPython.core.display.HTML object>"
            ],
            "text/html": [
              "\n",
              "                        <script>\n",
              "                            var liveDiv = document.getElementById('live-transcription');\n",
              "                            liveDiv.innerHTML = \"We can see\\neach current parent\\nand the target\\nis equal.\\nEvery generation\";\n",
              "                            liveDiv.parentElement.scrollTop = liveDiv.parentElement.scrollHeight;\n",
              "                            liveDiv.style.color = \"#ffffff\"; // Ensure text remains white\n",
              "                        </script>\n",
              "                        "
            ]
          },
          "metadata": {}
        },
        {
          "output_type": "display_data",
          "data": {
            "text/plain": [
              "<IPython.core.display.HTML object>"
            ],
            "text/html": [
              "\n",
              "                    <script>\n",
              "                        document.getElementById('transcription-progress').style.width = '52%';\n",
              "                        document.getElementById('transcription-status').textContent = 'Transcription in progress...';\n",
              "                    </script>\n",
              "                    "
            ]
          },
          "metadata": {}
        },
        {
          "output_type": "display_data",
          "data": {
            "text/plain": [
              "<IPython.core.display.HTML object>"
            ],
            "text/html": [
              "\n",
              "                        <script>\n",
              "                            var liveDiv = document.getElementById('live-transcription');\n",
              "                            liveDiv.innerHTML = \"each current parent\\nand the target\\nis equal.\\nEvery generation\\nis ticketed for that.\";\n",
              "                            liveDiv.parentElement.scrollTop = liveDiv.parentElement.scrollHeight;\n",
              "                            liveDiv.style.color = \"#ffffff\"; // Ensure text remains white\n",
              "                        </script>\n",
              "                        "
            ]
          },
          "metadata": {}
        },
        {
          "output_type": "display_data",
          "data": {
            "text/plain": [
              "<IPython.core.display.HTML object>"
            ],
            "text/html": [
              "\n",
              "                    <script>\n",
              "                        document.getElementById('transcription-progress').style.width = '53%';\n",
              "                        document.getElementById('transcription-status').textContent = 'Transcription in progress...';\n",
              "                    </script>\n",
              "                    "
            ]
          },
          "metadata": {}
        },
        {
          "output_type": "display_data",
          "data": {
            "text/plain": [
              "<IPython.core.display.HTML object>"
            ],
            "text/html": [
              "\n",
              "                        <script>\n",
              "                            var liveDiv = document.getElementById('live-transcription');\n",
              "                            liveDiv.innerHTML = \"and the target\\nis equal.\\nEvery generation\\nis ticketed for that.\\nSo the breeding is much more faster\";\n",
              "                            liveDiv.parentElement.scrollTop = liveDiv.parentElement.scrollHeight;\n",
              "                            liveDiv.style.color = \"#ffffff\"; // Ensure text remains white\n",
              "                        </script>\n",
              "                        "
            ]
          },
          "metadata": {}
        },
        {
          "output_type": "display_data",
          "data": {
            "text/plain": [
              "<IPython.core.display.HTML object>"
            ],
            "text/html": [
              "\n",
              "                    <script>\n",
              "                        document.getElementById('transcription-progress').style.width = '54%';\n",
              "                        document.getElementById('transcription-status').textContent = 'Transcription in progress...';\n",
              "                    </script>\n",
              "                    "
            ]
          },
          "metadata": {}
        },
        {
          "output_type": "display_data",
          "data": {
            "text/plain": [
              "<IPython.core.display.HTML object>"
            ],
            "text/html": [
              "\n",
              "                        <script>\n",
              "                            var liveDiv = document.getElementById('live-transcription');\n",
              "                            liveDiv.innerHTML = \"is equal.\\nEvery generation\\nis ticketed for that.\\nSo the breeding is much more faster\\nSo this is what happens at the end of each time, efficiency of selection.\";\n",
              "                            liveDiv.parentElement.scrollTop = liveDiv.parentElement.scrollHeight;\n",
              "                            liveDiv.style.color = \"#ffffff\"; // Ensure text remains white\n",
              "                        </script>\n",
              "                        "
            ]
          },
          "metadata": {}
        },
        {
          "output_type": "display_data",
          "data": {
            "text/plain": [
              "<IPython.core.display.HTML object>"
            ],
            "text/html": [
              "\n",
              "                    <script>\n",
              "                        document.getElementById('transcription-progress').style.width = '55%';\n",
              "                        document.getElementById('transcription-status').textContent = 'Transcription in progress...';\n",
              "                    </script>\n",
              "                    "
            ]
          },
          "metadata": {}
        },
        {
          "output_type": "display_data",
          "data": {
            "text/plain": [
              "<IPython.core.display.HTML object>"
            ],
            "text/html": [
              "\n",
              "                    <script>\n",
              "                        document.getElementById('transcription-progress').style.width = '90%';\n",
              "                        document.getElementById('transcription-status').textContent = 'Finalizing transcription...';\n",
              "                    </script>\n",
              "                    "
            ]
          },
          "metadata": {}
        },
        {
          "output_type": "display_data",
          "data": {
            "text/plain": [
              "<IPython.core.display.Markdown object>"
            ],
            "text/markdown": "🌍 Detected language: **en** (probability: 1.00)"
          },
          "metadata": {}
        },
        {
          "output_type": "display_data",
          "data": {
            "text/plain": [
              "<IPython.core.display.HTML object>"
            ],
            "text/html": [
              "\n",
              "                    <script>\n",
              "                        document.getElementById('transcription-progress').style.width = '95%';\n",
              "                        document.getElementById('transcription-status').textContent = 'Writing TXT output...';\n",
              "                    </script>\n",
              "                    "
            ]
          },
          "metadata": {}
        },
        {
          "output_type": "display_data",
          "data": {
            "text/plain": [
              "<IPython.core.display.Markdown object>"
            ],
            "text/markdown": "✅ Created TXT file: **1.txt**"
          },
          "metadata": {}
        },
        {
          "output_type": "display_data",
          "data": {
            "text/plain": [
              "<IPython.core.display.HTML object>"
            ],
            "text/html": [
              "\n",
              "                    <script>\n",
              "                        document.getElementById('transcription-progress').style.width = '100%';\n",
              "                        document.getElementById('transcription-status').textContent = 'Transcription completed successfully!';\n",
              "                    </script>\n",
              "                    "
            ]
          },
          "metadata": {}
        },
        {
          "output_type": "display_data",
          "data": {
            "text/plain": [
              "<IPython.core.display.Markdown object>"
            ],
            "text/markdown": "## 📥 Download Results"
          },
          "metadata": {}
        },
        {
          "output_type": "display_data",
          "data": {
            "text/plain": [
              "<IPython.core.display.Markdown object>"
            ],
            "text/markdown": "* [Download ZIP of all transcriptions](transcribed_texts/transcribed_texts_20250310_182006.zip)"
          },
          "metadata": {}
        },
        {
          "output_type": "display_data",
          "data": {
            "text/plain": [
              "<IPython.core.display.Markdown object>"
            ],
            "text/markdown": "**Or download through Colab:**"
          },
          "metadata": {}
        },
        {
          "output_type": "display_data",
          "data": {
            "text/plain": [
              "<IPython.core.display.Javascript object>"
            ],
            "application/javascript": [
              "\n",
              "    async function download(id, filename, size) {\n",
              "      if (!google.colab.kernel.accessAllowed) {\n",
              "        return;\n",
              "      }\n",
              "      const div = document.createElement('div');\n",
              "      const label = document.createElement('label');\n",
              "      label.textContent = `Downloading \"${filename}\": `;\n",
              "      div.appendChild(label);\n",
              "      const progress = document.createElement('progress');\n",
              "      progress.max = size;\n",
              "      div.appendChild(progress);\n",
              "      document.body.appendChild(div);\n",
              "\n",
              "      const buffers = [];\n",
              "      let downloaded = 0;\n",
              "\n",
              "      const channel = await google.colab.kernel.comms.open(id);\n",
              "      // Send a message to notify the kernel that we're ready.\n",
              "      channel.send({})\n",
              "\n",
              "      for await (const message of channel.messages) {\n",
              "        // Send a message to notify the kernel that we're ready.\n",
              "        channel.send({})\n",
              "        if (message.buffers) {\n",
              "          for (const buffer of message.buffers) {\n",
              "            buffers.push(buffer);\n",
              "            downloaded += buffer.byteLength;\n",
              "            progress.value = downloaded;\n",
              "          }\n",
              "        }\n",
              "      }\n",
              "      const blob = new Blob(buffers, {type: 'application/binary'});\n",
              "      const a = document.createElement('a');\n",
              "      a.href = window.URL.createObjectURL(blob);\n",
              "      a.download = filename;\n",
              "      div.appendChild(a);\n",
              "      a.click();\n",
              "      div.remove();\n",
              "    }\n",
              "  "
            ]
          },
          "metadata": {}
        },
        {
          "output_type": "display_data",
          "data": {
            "text/plain": [
              "<IPython.core.display.Javascript object>"
            ],
            "application/javascript": [
              "download(\"download_ab1cafef-8f0c-49ac-a3fd-0fa0bc61fe78\", \"transcribed_texts_20250310_182006.zip\", 2829)"
            ]
          },
          "metadata": {}
        }
      ]
    }
  ],
  "metadata": {
    "accelerator": "GPU",
    "colab": {
      "provenance": [],
      "include_colab_link": true
    },
    "kernelspec": {
      "display_name": "Python 3",
      "name": "python3"
    },
    "language_info": {
      "name": "python"
    }
  },
  "nbformat": 4,
  "nbformat_minor": 0
}